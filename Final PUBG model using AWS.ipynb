{
 "cells": [
  {
   "cell_type": "markdown",
   "metadata": {
    "colab_type": "text",
    "id": "XmnwTr1DDKUi"
   },
   "source": [
    "# PUBG\n"
   ]
  },
  {
   "cell_type": "markdown",
   "metadata": {
    "colab_type": "text",
    "id": "JMCSeUaeCMHX"
   },
   "source": [
    "![alt text](https://pubgmobile.proximabeta.com/event/pics/youtubegaming2560_1440.jpg)"
   ]
  },
  {
   "cell_type": "markdown",
   "metadata": {
    "colab_type": "text",
    "id": "lWwEqdHWFNP5"
   },
   "source": [
    "## Outline :  what we will work on.\n",
    "\n",
    "\n",
    "---\n",
    "\n",
    "1. First & most important, How to handle that huge size of data. \n",
    "2. Then we importing this pubg data directly from kaggle to out working space. Without downloading it.\n",
    "3. Third, Preprocessing the train , test data &  check out the available feature set.\n",
    "4. Forth, Take down the deeper insight of Data, Perform exploratory data analysis & feature analysis.\n",
    "5. Finally, We use RandomForest algorithm .  One of the famous algorithm over kaggle. And using RF we creat a pubg Placement model.  Then create a prediction on given test data.\n"
   ]
  },
  {
   "cell_type": "code",
   "execution_count": 1,
   "metadata": {
    "colab": {
     "base_uri": "https://localhost:8080/",
     "height": 217
    },
    "colab_type": "code",
    "id": "rKVOzomRB0VO",
    "outputId": "3f6b3fd2-2898-41a5-d6bb-1c6c5e3b1cc3"
   },
   "outputs": [
    {
     "name": "stdout",
     "output_type": "stream",
     "text": [
      "Requirement already satisfied: kaggle in /home/ec2-user/anaconda3/envs/tensorflow_p36/lib/python3.6/site-packages (1.5.1.1)\n",
      "Requirement already satisfied: requests in /home/ec2-user/anaconda3/envs/tensorflow_p36/lib/python3.6/site-packages (from kaggle) (2.20.1)\n",
      "Requirement already satisfied: tqdm in /home/ec2-user/anaconda3/envs/tensorflow_p36/lib/python3.6/site-packages (from kaggle) (4.28.1)\n",
      "Requirement already satisfied: python-slugify in /home/ec2-user/anaconda3/envs/tensorflow_p36/lib/python3.6/site-packages (from kaggle) (1.2.6)\n",
      "Requirement already satisfied: python-dateutil in /home/ec2-user/anaconda3/envs/tensorflow_p36/lib/python3.6/site-packages (from kaggle) (2.7.3)\n",
      "Requirement already satisfied: urllib3<1.23.0,>=1.15 in /home/ec2-user/anaconda3/envs/tensorflow_p36/lib/python3.6/site-packages (from kaggle) (1.22)\n",
      "Requirement already satisfied: certifi in /home/ec2-user/anaconda3/envs/tensorflow_p36/lib/python3.6/site-packages (from kaggle) (2018.8.24)\n",
      "Requirement already satisfied: six>=1.10 in /home/ec2-user/anaconda3/envs/tensorflow_p36/lib/python3.6/site-packages (from kaggle) (1.11.0)\n",
      "Requirement already satisfied: idna<2.8,>=2.5 in /home/ec2-user/anaconda3/envs/tensorflow_p36/lib/python3.6/site-packages (from requests->kaggle) (2.6)\n",
      "Requirement already satisfied: chardet<3.1.0,>=3.0.2 in /home/ec2-user/anaconda3/envs/tensorflow_p36/lib/python3.6/site-packages (from requests->kaggle) (3.0.4)\n",
      "Requirement already satisfied: Unidecode>=0.04.16 in /home/ec2-user/anaconda3/envs/tensorflow_p36/lib/python3.6/site-packages (from python-slugify->kaggle) (1.0.23)\n",
      "\u001b[33mYou are using pip version 10.0.1, however version 18.1 is available.\n",
      "You should consider upgrading via the 'pip install --upgrade pip' command.\u001b[0m\n"
     ]
    }
   ],
   "source": [
    "# Intall dependencies\n",
    "# To work with kaggle API, For directly importing the data from kaggle to google colab notebook,\n",
    "\n",
    "!pip install kaggle\n",
    "\n"
   ]
  },
  {
   "cell_type": "code",
   "execution_count": 2,
   "metadata": {
    "colab": {},
    "colab_type": "code",
    "id": "gZXzijFJgqcm"
   },
   "outputs": [],
   "source": [
    "# importing basic libraries\n",
    "#numpy # pandas # matplot #seaborn \n",
    "\n",
    "import numpy as np\n",
    "import pandas as pd\n",
    "import matplotlib.pyplot as pld\n",
    "import seaborn as sns\n",
    "\n"
   ]
  },
  {
   "cell_type": "code",
   "execution_count": 3,
   "metadata": {
    "colab": {
     "base_uri": "https://localhost:8080/",
     "height": 91,
     "resources": {
      "http://localhost:8080/nbextensions/google.colab/files.js": {
       "data": "Ly8gQ29weXJpZ2h0IDIwMTcgR29vZ2xlIExMQwovLwovLyBMaWNlbnNlZCB1bmRlciB0aGUgQXBhY2hlIExpY2Vuc2UsIFZlcnNpb24gMi4wICh0aGUgIkxpY2Vuc2UiKTsKLy8geW91IG1heSBub3QgdXNlIHRoaXMgZmlsZSBleGNlcHQgaW4gY29tcGxpYW5jZSB3aXRoIHRoZSBMaWNlbnNlLgovLyBZb3UgbWF5IG9idGFpbiBhIGNvcHkgb2YgdGhlIExpY2Vuc2UgYXQKLy8KLy8gICAgICBodHRwOi8vd3d3LmFwYWNoZS5vcmcvbGljZW5zZXMvTElDRU5TRS0yLjAKLy8KLy8gVW5sZXNzIHJlcXVpcmVkIGJ5IGFwcGxpY2FibGUgbGF3IG9yIGFncmVlZCB0byBpbiB3cml0aW5nLCBzb2Z0d2FyZQovLyBkaXN0cmlidXRlZCB1bmRlciB0aGUgTGljZW5zZSBpcyBkaXN0cmlidXRlZCBvbiBhbiAiQVMgSVMiIEJBU0lTLAovLyBXSVRIT1VUIFdBUlJBTlRJRVMgT1IgQ09ORElUSU9OUyBPRiBBTlkgS0lORCwgZWl0aGVyIGV4cHJlc3Mgb3IgaW1wbGllZC4KLy8gU2VlIHRoZSBMaWNlbnNlIGZvciB0aGUgc3BlY2lmaWMgbGFuZ3VhZ2UgZ292ZXJuaW5nIHBlcm1pc3Npb25zIGFuZAovLyBsaW1pdGF0aW9ucyB1bmRlciB0aGUgTGljZW5zZS4KCi8qKgogKiBAZmlsZW92ZXJ2aWV3IEhlbHBlcnMgZm9yIGdvb2dsZS5jb2xhYiBQeXRob24gbW9kdWxlLgogKi8KKGZ1bmN0aW9uKHNjb3BlKSB7CmZ1bmN0aW9uIHNwYW4odGV4dCwgc3R5bGVBdHRyaWJ1dGVzID0ge30pIHsKICBjb25zdCBlbGVtZW50ID0gZG9jdW1lbnQuY3JlYXRlRWxlbWVudCgnc3BhbicpOwogIGVsZW1lbnQudGV4dENvbnRlbnQgPSB0ZXh0OwogIGZvciAoY29uc3Qga2V5IG9mIE9iamVjdC5rZXlzKHN0eWxlQXR0cmlidXRlcykpIHsKICAgIGVsZW1lbnQuc3R5bGVba2V5XSA9IHN0eWxlQXR0cmlidXRlc1trZXldOwogIH0KICByZXR1cm4gZWxlbWVudDsKfQoKLy8gTWF4IG51bWJlciBvZiBieXRlcyB3aGljaCB3aWxsIGJlIHVwbG9hZGVkIGF0IGEgdGltZS4KY29uc3QgTUFYX1BBWUxPQURfU0laRSA9IDEwMCAqIDEwMjQ7Ci8vIE1heCBhbW91bnQgb2YgdGltZSB0byBibG9jayB3YWl0aW5nIGZvciB0aGUgdXNlci4KY29uc3QgRklMRV9DSEFOR0VfVElNRU9VVF9NUyA9IDMwICogMTAwMDsKCmZ1bmN0aW9uIF91cGxvYWRGaWxlcyhpbnB1dElkLCBvdXRwdXRJZCkgewogIGNvbnN0IHN0ZXBzID0gdXBsb2FkRmlsZXNTdGVwKGlucHV0SWQsIG91dHB1dElkKTsKICBjb25zdCBvdXRwdXRFbGVtZW50ID0gZG9jdW1lbnQuZ2V0RWxlbWVudEJ5SWQob3V0cHV0SWQpOwogIC8vIENhY2hlIHN0ZXBzIG9uIHRoZSBvdXRwdXRFbGVtZW50IHRvIG1ha2UgaXQgYXZhaWxhYmxlIGZvciB0aGUgbmV4dCBjYWxsCiAgLy8gdG8gdXBsb2FkRmlsZXNDb250aW51ZSBmcm9tIFB5dGhvbi4KICBvdXRwdXRFbGVtZW50LnN0ZXBzID0gc3RlcHM7CgogIHJldHVybiBfdXBsb2FkRmlsZXNDb250aW51ZShvdXRwdXRJZCk7Cn0KCi8vIFRoaXMgaXMgcm91Z2hseSBhbiBhc3luYyBnZW5lcmF0b3IgKG5vdCBzdXBwb3J0ZWQgaW4gdGhlIGJyb3dzZXIgeWV0KSwKLy8gd2hlcmUgdGhlcmUgYXJlIG11bHRpcGxlIGFzeW5jaHJvbm91cyBzdGVwcyBhbmQgdGhlIFB5dGhvbiBzaWRlIGlzIGdvaW5nCi8vIHRvIHBvbGwgZm9yIGNvbXBsZXRpb24gb2YgZWFjaCBzdGVwLgovLyBUaGlzIHVzZXMgYSBQcm9taXNlIHRvIGJsb2NrIHRoZSBweXRob24gc2lkZSBvbiBjb21wbGV0aW9uIG9mIGVhY2ggc3RlcCwKLy8gdGhlbiBwYXNzZXMgdGhlIHJlc3VsdCBvZiB0aGUgcHJldmlvdXMgc3RlcCBhcyB0aGUgaW5wdXQgdG8gdGhlIG5leHQgc3RlcC4KZnVuY3Rpb24gX3VwbG9hZEZpbGVzQ29udGludWUob3V0cHV0SWQpIHsKICBjb25zdCBvdXRwdXRFbGVtZW50ID0gZG9jdW1lbnQuZ2V0RWxlbWVudEJ5SWQob3V0cHV0SWQpOwogIGNvbnN0IHN0ZXBzID0gb3V0cHV0RWxlbWVudC5zdGVwczsKCiAgY29uc3QgbmV4dCA9IHN0ZXBzLm5leHQob3V0cHV0RWxlbWVudC5sYXN0UHJvbWlzZVZhbHVlKTsKICByZXR1cm4gUHJvbWlzZS5yZXNvbHZlKG5leHQudmFsdWUucHJvbWlzZSkudGhlbigodmFsdWUpID0+IHsKICAgIC8vIENhY2hlIHRoZSBsYXN0IHByb21pc2UgdmFsdWUgdG8gbWFrZSBpdCBhdmFpbGFibGUgdG8gdGhlIG5leHQKICAgIC8vIHN0ZXAgb2YgdGhlIGdlbmVyYXRvci4KICAgIG91dHB1dEVsZW1lbnQubGFzdFByb21pc2VWYWx1ZSA9IHZhbHVlOwogICAgcmV0dXJuIG5leHQudmFsdWUucmVzcG9uc2U7CiAgfSk7Cn0KCi8qKgogKiBHZW5lcmF0b3IgZnVuY3Rpb24gd2hpY2ggaXMgY2FsbGVkIGJldHdlZW4gZWFjaCBhc3luYyBzdGVwIG9mIHRoZSB1cGxvYWQKICogcHJvY2Vzcy4KICogQHBhcmFtIHtzdHJpbmd9IGlucHV0SWQgRWxlbWVudCBJRCBvZiB0aGUgaW5wdXQgZmlsZSBwaWNrZXIgZWxlbWVudC4KICogQHBhcmFtIHtzdHJpbmd9IG91dHB1dElkIEVsZW1lbnQgSUQgb2YgdGhlIG91dHB1dCBkaXNwbGF5LgogKiBAcmV0dXJuIHshSXRlcmFibGU8IU9iamVjdD59IEl0ZXJhYmxlIG9mIG5leHQgc3RlcHMuCiAqLwpmdW5jdGlvbiogdXBsb2FkRmlsZXNTdGVwKGlucHV0SWQsIG91dHB1dElkKSB7CiAgY29uc3QgaW5wdXRFbGVtZW50ID0gZG9jdW1lbnQuZ2V0RWxlbWVudEJ5SWQoaW5wdXRJZCk7CiAgaW5wdXRFbGVtZW50LmRpc2FibGVkID0gZmFsc2U7CgogIGNvbnN0IG91dHB1dEVsZW1lbnQgPSBkb2N1bWVudC5nZXRFbGVtZW50QnlJZChvdXRwdXRJZCk7CiAgb3V0cHV0RWxlbWVudC5pbm5lckhUTUwgPSAnJzsKCiAgY29uc3QgcGlja2VkUHJvbWlzZSA9IG5ldyBQcm9taXNlKChyZXNvbHZlKSA9PiB7CiAgICBpbnB1dEVsZW1lbnQuYWRkRXZlbnRMaXN0ZW5lcignY2hhbmdlJywgKGUpID0+IHsKICAgICAgcmVzb2x2ZShlLnRhcmdldC5maWxlcyk7CiAgICB9KTsKICB9KTsKCiAgY29uc3QgY2FuY2VsID0gZG9jdW1lbnQuY3JlYXRlRWxlbWVudCgnYnV0dG9uJyk7CiAgaW5wdXRFbGVtZW50LnBhcmVudEVsZW1lbnQuYXBwZW5kQ2hpbGQoY2FuY2VsKTsKICBjYW5jZWwudGV4dENvbnRlbnQgPSAnQ2FuY2VsIHVwbG9hZCc7CiAgY29uc3QgY2FuY2VsUHJvbWlzZSA9IG5ldyBQcm9taXNlKChyZXNvbHZlKSA9PiB7CiAgICBjYW5jZWwub25jbGljayA9ICgpID0+IHsKICAgICAgcmVzb2x2ZShudWxsKTsKICAgIH07CiAgfSk7CgogIC8vIENhbmNlbCB1cGxvYWQgaWYgdXNlciBoYXNuJ3QgcGlja2VkIGFueXRoaW5nIGluIHRpbWVvdXQuCiAgY29uc3QgdGltZW91dFByb21pc2UgPSBuZXcgUHJvbWlzZSgocmVzb2x2ZSkgPT4gewogICAgc2V0VGltZW91dCgoKSA9PiB7CiAgICAgIHJlc29sdmUobnVsbCk7CiAgICB9LCBGSUxFX0NIQU5HRV9USU1FT1VUX01TKTsKICB9KTsKCiAgLy8gV2FpdCBmb3IgdGhlIHVzZXIgdG8gcGljayB0aGUgZmlsZXMuCiAgY29uc3QgZmlsZXMgPSB5aWVsZCB7CiAgICBwcm9taXNlOiBQcm9taXNlLnJhY2UoW3BpY2tlZFByb21pc2UsIHRpbWVvdXRQcm9taXNlLCBjYW5jZWxQcm9taXNlXSksCiAgICByZXNwb25zZTogewogICAgICBhY3Rpb246ICdzdGFydGluZycsCiAgICB9CiAgfTsKCiAgaWYgKCFmaWxlcykgewogICAgcmV0dXJuIHsKICAgICAgcmVzcG9uc2U6IHsKICAgICAgICBhY3Rpb246ICdjb21wbGV0ZScsCiAgICAgIH0KICAgIH07CiAgfQoKICBjYW5jZWwucmVtb3ZlKCk7CgogIC8vIERpc2FibGUgdGhlIGlucHV0IGVsZW1lbnQgc2luY2UgZnVydGhlciBwaWNrcyBhcmUgbm90IGFsbG93ZWQuCiAgaW5wdXRFbGVtZW50LmRpc2FibGVkID0gdHJ1ZTsKCiAgZm9yIChjb25zdCBmaWxlIG9mIGZpbGVzKSB7CiAgICBjb25zdCBsaSA9IGRvY3VtZW50LmNyZWF0ZUVsZW1lbnQoJ2xpJyk7CiAgICBsaS5hcHBlbmQoc3BhbihmaWxlLm5hbWUsIHtmb250V2VpZ2h0OiAnYm9sZCd9KSk7CiAgICBsaS5hcHBlbmQoc3BhbigKICAgICAgICBgKCR7ZmlsZS50eXBlIHx8ICduL2EnfSkgLSAke2ZpbGUuc2l6ZX0gYnl0ZXMsIGAgKwogICAgICAgIGBsYXN0IG1vZGlmaWVkOiAkewogICAgICAgICAgICBmaWxlLmxhc3RNb2RpZmllZERhdGUgPyBmaWxlLmxhc3RNb2RpZmllZERhdGUudG9Mb2NhbGVEYXRlU3RyaW5nKCkgOgogICAgICAgICAgICAgICAgICAgICAgICAgICAgICAgICAgICAnbi9hJ30gLSBgKSk7CiAgICBjb25zdCBwZXJjZW50ID0gc3BhbignMCUgZG9uZScpOwogICAgbGkuYXBwZW5kQ2hpbGQocGVyY2VudCk7CgogICAgb3V0cHV0RWxlbWVudC5hcHBlbmRDaGlsZChsaSk7CgogICAgY29uc3QgZmlsZURhdGFQcm9taXNlID0gbmV3IFByb21pc2UoKHJlc29sdmUpID0+IHsKICAgICAgY29uc3QgcmVhZGVyID0gbmV3IEZpbGVSZWFkZXIoKTsKICAgICAgcmVhZGVyLm9ubG9hZCA9IChlKSA9PiB7CiAgICAgICAgcmVzb2x2ZShlLnRhcmdldC5yZXN1bHQpOwogICAgICB9OwogICAgICByZWFkZXIucmVhZEFzQXJyYXlCdWZmZXIoZmlsZSk7CiAgICB9KTsKICAgIC8vIFdhaXQgZm9yIHRoZSBkYXRhIHRvIGJlIHJlYWR5LgogICAgbGV0IGZpbGVEYXRhID0geWllbGQgewogICAgICBwcm9taXNlOiBmaWxlRGF0YVByb21pc2UsCiAgICAgIHJlc3BvbnNlOiB7CiAgICAgICAgYWN0aW9uOiAnY29udGludWUnLAogICAgICB9CiAgICB9OwoKICAgIC8vIFVzZSBhIGNodW5rZWQgc2VuZGluZyB0byBhdm9pZCBtZXNzYWdlIHNpemUgbGltaXRzLiBTZWUgYi82MjExNTY2MC4KICAgIGxldCBwb3NpdGlvbiA9IDA7CiAgICB3aGlsZSAocG9zaXRpb24gPCBmaWxlRGF0YS5ieXRlTGVuZ3RoKSB7CiAgICAgIGNvbnN0IGxlbmd0aCA9IE1hdGgubWluKGZpbGVEYXRhLmJ5dGVMZW5ndGggLSBwb3NpdGlvbiwgTUFYX1BBWUxPQURfU0laRSk7CiAgICAgIGNvbnN0IGNodW5rID0gbmV3IFVpbnQ4QXJyYXkoZmlsZURhdGEsIHBvc2l0aW9uLCBsZW5ndGgpOwogICAgICBwb3NpdGlvbiArPSBsZW5ndGg7CgogICAgICBjb25zdCBiYXNlNjQgPSBidG9hKFN0cmluZy5mcm9tQ2hhckNvZGUuYXBwbHkobnVsbCwgY2h1bmspKTsKICAgICAgeWllbGQgewogICAgICAgIHJlc3BvbnNlOiB7CiAgICAgICAgICBhY3Rpb246ICdhcHBlbmQnLAogICAgICAgICAgZmlsZTogZmlsZS5uYW1lLAogICAgICAgICAgZGF0YTogYmFzZTY0LAogICAgICAgIH0sCiAgICAgIH07CiAgICAgIHBlcmNlbnQudGV4dENvbnRlbnQgPQogICAgICAgICAgYCR7TWF0aC5yb3VuZCgocG9zaXRpb24gLyBmaWxlRGF0YS5ieXRlTGVuZ3RoKSAqIDEwMCl9JSBkb25lYDsKICAgIH0KICB9CgogIC8vIEFsbCBkb25lLgogIHlpZWxkIHsKICAgIHJlc3BvbnNlOiB7CiAgICAgIGFjdGlvbjogJ2NvbXBsZXRlJywKICAgIH0KICB9Owp9CgpzY29wZS5nb29nbGUgPSBzY29wZS5nb29nbGUgfHwge307CnNjb3BlLmdvb2dsZS5jb2xhYiA9IHNjb3BlLmdvb2dsZS5jb2xhYiB8fCB7fTsKc2NvcGUuZ29vZ2xlLmNvbGFiLl9maWxlcyA9IHsKICBfdXBsb2FkRmlsZXMsCiAgX3VwbG9hZEZpbGVzQ29udGludWUsCn07Cn0pKHNlbGYpOwo=",
       "headers": [
        [
         "content-type",
         "application/javascript"
        ]
       ],
       "ok": true,
       "status": 200,
       "status_text": ""
      }
     }
    },
    "colab_type": "code",
    "id": "gqqThsLyiQMp",
    "outputId": "6dbc933e-19f3-4bbf-82b9-d656d0466824"
   },
   "outputs": [],
   "source": [
    "# upload the kaggle json file # Kaggle Credential\n",
    "#from google.colab import files\n",
    "#files.upload()"
   ]
  },
  {
   "cell_type": "code",
   "execution_count": 4,
   "metadata": {
    "colab": {
     "base_uri": "https://localhost:8080/",
     "height": 35
    },
    "colab_type": "code",
    "id": "ldoHmeAhvEZa",
    "outputId": "c6471c3b-333d-47c3-e431-6f81fb74fa7c"
   },
   "outputs": [
    {
     "name": "stdout",
     "output_type": "stream",
     "text": [
      "kaggle.json  lost+found  PUBG on AWS.ipynb  Untitled.ipynb\r\n"
     ]
    }
   ],
   "source": [
    "# check the file.\n",
    "!ls"
   ]
  },
  {
   "cell_type": "markdown",
   "metadata": {
    "colab_type": "text",
    "id": "eHWFY1Z5JO45"
   },
   "source": [
    "Check out the github repo for kaggle api [Kaggle API](https://github.com/Kaggle/kaggle-api)"
   ]
  },
  {
   "cell_type": "code",
   "execution_count": 6,
   "metadata": {
    "colab": {},
    "colab_type": "code",
    "id": "AzWpGVUbd0wb"
   },
   "outputs": [],
   "source": [
    "# specified by the kaggle\n",
    "# Ensure kaggle.json is in the location ~/.kaggle/kaggle.json to use the API.\n",
    "!mkdir -p ~/.kaggle\n",
    "!cp kaggle.json ~/.kaggle/\n",
    "\n",
    "# Now to secure your credentials. Run a Unix based Command\n",
    "!chmod 600 ~/.kaggle/kaggle.json\n"
   ]
  },
  {
   "cell_type": "code",
   "execution_count": 7,
   "metadata": {
    "colab": {
     "base_uri": "https://localhost:8080/",
     "height": 181
    },
    "colab_type": "code",
    "id": "4xiS-ECrd1Z5",
    "outputId": "30b86e68-b4be-4610-dc05-b74871fd4fd4"
   },
   "outputs": [
    {
     "name": "stdout",
     "output_type": "stream",
     "text": [
      "Downloading sample_submission_V2.csv.zip to /home/ec2-user/SageMaker\n",
      " 95%|████████████████████████████████████  | 16.0M/16.9M [00:00<00:00, 62.0MB/s]\n",
      "100%|██████████████████████████████████████| 16.9M/16.9M [00:00<00:00, 85.0MB/s]\n",
      "Downloading test_V2.csv.zip to /home/ec2-user/SageMaker\n",
      " 87%|█████████████████████████████████▏    | 86.0M/98.3M [00:00<00:00, 99.8MB/s]\n",
      "100%|███████████████████████████████████████| 98.3M/98.3M [00:00<00:00, 115MB/s]\n",
      "Downloading train_V2.csv.zip to /home/ec2-user/SageMaker\n",
      " 98%|████████████████████████████████████████▏| 234M/239M [00:01<00:00, 168MB/s]\n",
      "100%|█████████████████████████████████████████| 239M/239M [00:01<00:00, 151MB/s]\n"
     ]
    }
   ],
   "source": [
    "# Copy the kaggle API paste it here. To directly import the data form kaggle to google colab.\n",
    "\n",
    "!kaggle competitions download -c pubg-finish-placement-prediction"
   ]
  },
  {
   "cell_type": "code",
   "execution_count": 8,
   "metadata": {
    "colab": {
     "base_uri": "https://localhost:8080/",
     "height": 54
    },
    "colab_type": "code",
    "id": "YrMBCmSvfDgl",
    "outputId": "d03f4d8b-ec97-436c-b186-de0d146223e9"
   },
   "outputs": [
    {
     "name": "stdout",
     "output_type": "stream",
     "text": [
      "kaggle.json  PUBG on AWS.ipynb\t\t   test_V2.csv.zip   Untitled.ipynb\r\n",
      "lost+found   sample_submission_V2.csv.zip  train_V2.csv.zip\r\n"
     ]
    }
   ],
   "source": [
    "# check the files.\n",
    "\n",
    "!ls\n"
   ]
  },
  {
   "cell_type": "code",
   "execution_count": 9,
   "metadata": {
    "colab": {
     "base_uri": "https://localhost:8080/",
     "height": 54
    },
    "colab_type": "code",
    "id": "y6jDWDfftU0S",
    "outputId": "c74983d9-799d-4433-fcb3-da65c459ab0d"
   },
   "outputs": [
    {
     "name": "stdout",
     "output_type": "stream",
     "text": [
      "Archive:  train_V2.csv.zip\n",
      "  inflating: train_V2.csv            \n"
     ]
    }
   ],
   "source": [
    "!unzip train_V2.csv.zip\n"
   ]
  },
  {
   "cell_type": "code",
   "execution_count": 10,
   "metadata": {
    "colab": {
     "base_uri": "https://localhost:8080/",
     "height": 54
    },
    "colab_type": "code",
    "id": "h6-vq4Z2tuFS",
    "outputId": "b1119be6-6079-40ef-8534-f698b547eb08"
   },
   "outputs": [
    {
     "name": "stdout",
     "output_type": "stream",
     "text": [
      "Archive:  test_V2.csv.zip\n",
      "  inflating: test_V2.csv             \n"
     ]
    }
   ],
   "source": [
    "!unzip test_V2.csv.zip"
   ]
  },
  {
   "cell_type": "code",
   "execution_count": 11,
   "metadata": {
    "colab": {
     "base_uri": "https://localhost:8080/",
     "height": 54
    },
    "colab_type": "code",
    "id": "0oGDJKzCfHg0",
    "outputId": "6710090e-83ef-4c3e-f564-0303fe4b1a12"
   },
   "outputs": [
    {
     "name": "stdout",
     "output_type": "stream",
     "text": [
      "kaggle.json\t   sample_submission_V2.csv.zip  train_V2.csv\r\n",
      "lost+found\t   test_V2.csv\t\t\t train_V2.csv.zip\r\n",
      "PUBG on AWS.ipynb  test_V2.csv.zip\t\t Untitled.ipynb\r\n"
     ]
    }
   ],
   "source": [
    "# Unzip the train and test file.\n",
    "\n",
    "!ls"
   ]
  },
  {
   "cell_type": "code",
   "execution_count": 16,
   "metadata": {
    "colab": {},
    "colab_type": "code",
    "id": "L5GecMlGfHln"
   },
   "outputs": [],
   "source": [
    "# read train and test file.\n",
    "\n",
    "                                                   # Not Working\n",
    "\n",
    "\n",
    "#train=pd.read_csv('train_V2.csv')\n",
    "#test=pd.read_csv('test_V2.csv')\n"
   ]
  },
  {
   "cell_type": "markdown",
   "metadata": {},
   "source": [
    "## Don't know, But if we directly try to read the csv it shows error so let's use another methond rest of the code similar"
   ]
  },
  {
   "cell_type": "code",
   "execution_count": 17,
   "metadata": {},
   "outputs": [
    {
     "name": "stdout",
     "output_type": "stream",
     "text": [
      "               Id         groupId         matchId  assists  boosts  \\\n",
      "0  7f96b2f878858a  4d4b580de459be  a10357fd1a4a91        0       0   \n",
      "1  eef90569b9d03c  684d5656442f9e  aeb375fc57110c        0       0   \n",
      "2  1eaf90ac73de72  6a4a42c3245a74  110163d8bb94ae        1       0   \n",
      "3  4616d365dd2853  a930a9c79cd721  f1f1f4ef412d7e        0       0   \n",
      "4  315c96c26c9aac  de04010b3458dd  6dc8ff871e21e6        0       0   \n",
      "5  ff79c12f326506  289a6836a88d27  bac52627a12114        0       0   \n",
      "6  95959be0e21ca3  2c485a1ad3d0f1  a8274e903927a2        0       0   \n",
      "7  311b84c6ff4390  eaba5fcb7fc1ae  292611730ca862        0       0   \n",
      "8  1a68204ccf9891  47cfbb04e1b1a2  df014fbee741c6        0       0   \n",
      "9  e5bb5a43587253  759bb6f7514fd2  3d3031c795305b        0       0   \n",
      "\n",
      "   damageDealt  DBNOs  headshotKills  heals  killPlace      ...       revives  \\\n",
      "0        0.000      0              0      0         60      ...             0   \n",
      "1       91.470      0              0      0         57      ...             0   \n",
      "2       68.000      0              0      0         47      ...             0   \n",
      "3       32.900      0              0      0         75      ...             0   \n",
      "4      100.000      0              0      0         45      ...             0   \n",
      "5      100.000      1              1      0         44      ...             0   \n",
      "6        0.000      0              0      0         96      ...             0   \n",
      "7        8.538      0              0      0         48      ...             0   \n",
      "8       51.600      0              0      0         64      ...             0   \n",
      "9       37.270      0              0      0         74      ...             0   \n",
      "\n",
      "   rideDistance  roadKills  swimDistance  teamKills vehicleDestroys  \\\n",
      "0        0.0000          0          0.00          0               0   \n",
      "1        0.0045          0         11.04          0               0   \n",
      "2        0.0000          0          0.00          0               0   \n",
      "3        0.0000          0          0.00          0               0   \n",
      "4        0.0000          0          0.00          0               0   \n",
      "5        0.0000          0          0.00          0               0   \n",
      "6        0.0000          0          0.00          0               0   \n",
      "7     2004.0000          0          0.00          0               0   \n",
      "8        0.0000          0          0.00          0               0   \n",
      "9        0.0000          0          0.00          0               0   \n",
      "\n",
      "   walkDistance  weaponsAcquired  winPoints  winPlacePerc  \n",
      "0        244.80                1       1466        0.4444  \n",
      "1       1434.00                5          0        0.6400  \n",
      "2        161.80                2          0        0.7755  \n",
      "3        202.70                3          0        0.1667  \n",
      "4         49.75                2          0        0.1875  \n",
      "5         34.70                1          0        0.0370  \n",
      "6         13.50                1       1497        0.0000  \n",
      "7       1089.00                6       1500        0.7368  \n",
      "8        799.90                4          0        0.3704  \n",
      "9         65.67                1          0        0.2143  \n",
      "\n",
      "[10 rows x 29 columns]\n"
     ]
    }
   ],
   "source": [
    "import zipfile\n",
    "import pandas as pd\n",
    "with zipfile.ZipFile('train_V2.csv.zip') as z:\n",
    "    with z.open('train_V2.csv') as f:\n",
    "        train=pd.read_csv(f)\n",
    "        print(train.head(10))"
   ]
  },
  {
   "cell_type": "code",
   "execution_count": 18,
   "metadata": {},
   "outputs": [
    {
     "name": "stdout",
     "output_type": "stream",
     "text": [
      "               Id         groupId         matchId  assists  boosts  \\\n",
      "0  9329eb41e215eb  676b23c24e70d6  45b576ab7daa7f        0       0   \n",
      "1  639bd0dcd7bda8  430933124148dd  42a9a0b906c928        0       4   \n",
      "2  63d5c8ef8dfe91  0b45f5db20ba99  87e7e4477a048e        1       0   \n",
      "3  cf5b81422591d1  b7497dbdc77f4a  1b9a94f1af67f1        0       0   \n",
      "4  ee6a295187ba21  6604ce20a1d230  40754a93016066        0       4   \n",
      "5  3e2539b5d78183  029b5a79e08cd6  10186f5c852f62        0       0   \n",
      "6  d812d2f1d88a02  6285bb4eec83e4  f185809740a1a7        0       3   \n",
      "7  a8a377e4d43bf8  61ec2e7730a3b8  d31adc82a4930e        0       0   \n",
      "8  f18301e30d47d3  e7d609e08f09b6  bcde504ef16743        0       0   \n",
      "9  ec7b965ef978b3  c4c19ef6d6c6d9  6dc5b34c92d5ff        0       0   \n",
      "\n",
      "   damageDealt  DBNOs  headshotKills  heals  killPlace    ...      rankPoints  \\\n",
      "0        51.46      0              0      0         73    ...            1500   \n",
      "1       179.10      0              0      2         11    ...            1503   \n",
      "2        23.40      0              0      4         49    ...            1565   \n",
      "3        65.52      0              0      0         54    ...            1465   \n",
      "4       330.20      1              2      1          7    ...            1480   \n",
      "5         0.00      0              0      0         89    ...            1490   \n",
      "6       470.70      3              2     17          3    ...            1538   \n",
      "7        68.61      0              0      0         73    ...            1487   \n",
      "8         0.00      0              0      0         56    ...            1640   \n",
      "9        67.32      0              0      0         54    ...              -1   \n",
      "\n",
      "   revives  rideDistance  roadKills  swimDistance teamKills  vehicleDestroys  \\\n",
      "0        0           0.0          0           0.0         0                0   \n",
      "1        2        4669.0          0           0.0         0                0   \n",
      "2        0           0.0          0           0.0         0                0   \n",
      "3        0           0.0          0           0.0         0                0   \n",
      "4        1           0.0          0           0.0         0                0   \n",
      "5        0           0.0          0           0.0         0                0   \n",
      "6        0           0.0          0           0.0         0                0   \n",
      "7        0           0.0          0           0.0         0                0   \n",
      "8        0        2355.0          0           0.0         0                0   \n",
      "9        0           0.0          0           0.0         0                0   \n",
      "\n",
      "   walkDistance  weaponsAcquired  winPoints  \n",
      "0         588.0                1          0  \n",
      "1        2017.0                6          0  \n",
      "2         787.8                4          0  \n",
      "3        1812.0                3          0  \n",
      "4        2963.0                4          0  \n",
      "5           0.0                0          0  \n",
      "6        1000.0                4          0  \n",
      "7        1217.0                5          0  \n",
      "8        1390.0                7          0  \n",
      "9        1634.0                5       1495  \n",
      "\n",
      "[10 rows x 28 columns]\n"
     ]
    }
   ],
   "source": [
    "import zipfile\n",
    "import pandas as pd\n",
    "with zipfile.ZipFile('test_V2.csv.zip') as z:\n",
    "    with z.open('test_V2.csv') as f:\n",
    "        test=pd.read_csv(f)\n",
    "        print(test.head(10))"
   ]
  },
  {
   "cell_type": "code",
   "execution_count": 20,
   "metadata": {
    "colab": {
     "base_uri": "https://localhost:8080/",
     "height": 35
    },
    "colab_type": "code",
    "id": "42nhMaO1vWYB",
    "outputId": "562293ba-7a89-4f14-875b-7699dc9ab13e"
   },
   "outputs": [
    {
     "data": {
      "text/plain": [
       "(4446966, 29)"
      ]
     },
     "execution_count": 20,
     "metadata": {},
     "output_type": "execute_result"
    }
   ],
   "source": [
    "# shape of train data\n",
    "train.head()\n",
    "train.shape"
   ]
  },
  {
   "cell_type": "code",
   "execution_count": 21,
   "metadata": {
    "colab": {
     "base_uri": "https://localhost:8080/",
     "height": 35
    },
    "colab_type": "code",
    "id": "7H9LN3XFvzxM",
    "outputId": "d916160f-8d01-4c1c-bcb4-a838fdd0408e"
   },
   "outputs": [
    {
     "data": {
      "text/plain": [
       "(1934174, 28)"
      ]
     },
     "execution_count": 21,
     "metadata": {},
     "output_type": "execute_result"
    }
   ],
   "source": [
    "#shape of test data.\n",
    "test.head()\n",
    "test.shape"
   ]
  },
  {
   "cell_type": "code",
   "execution_count": 22,
   "metadata": {
    "colab": {
     "base_uri": "https://localhost:8080/",
     "height": 145
    },
    "colab_type": "code",
    "id": "JzLtdJyAf3U5",
    "outputId": "8d37465e-0bae-4884-df6e-11f3605b5738"
   },
   "outputs": [
    {
     "data": {
      "text/plain": [
       "Index(['Id', 'groupId', 'matchId', 'assists', 'boosts', 'damageDealt', 'DBNOs',\n",
       "       'headshotKills', 'heals', 'killPlace', 'killPoints', 'kills',\n",
       "       'killStreaks', 'longestKill', 'matchDuration', 'matchType', 'maxPlace',\n",
       "       'numGroups', 'rankPoints', 'revives', 'rideDistance', 'roadKills',\n",
       "       'swimDistance', 'teamKills', 'vehicleDestroys', 'walkDistance',\n",
       "       'weaponsAcquired', 'winPoints', 'winPlacePerc'],\n",
       "      dtype='object')"
      ]
     },
     "execution_count": 22,
     "metadata": {},
     "output_type": "execute_result"
    }
   ],
   "source": [
    "# Columns or features.\n",
    "train.columns\n"
   ]
  },
  {
   "cell_type": "markdown",
   "metadata": {
    "colab_type": "text",
    "id": "xOc0nlEHfc0_"
   },
   "source": [
    "## Feature set :\n",
    "\n",
    "\n",
    "---\n",
    "\n",
    "Let's talk about availabe feature in the given PubG Data."
   ]
  },
  {
   "cell_type": "markdown",
   "metadata": {
    "colab_type": "text",
    "id": "a0iXx28ffpf0"
   },
   "source": [
    "**Data** fields\n",
    "\n",
    "**DBNOs** - Number of enemy players knocked.\n",
    "\n",
    "**assists** - Number of enemy players this player damaged that were killed by teammates.\n",
    "\n",
    "**boosts** - Number of boost items used.\n",
    "\n",
    "**damageDealt** - Total damage dealt. Note: Self inflicted damage is subtracted.\n",
    "\n",
    "**headshotKills** - Number of enemy players killed with headshots.\n",
    "\n",
    "**heals** - Number of healing items used.\n",
    "\n",
    "**Id** - Player’s Id\n",
    "\n",
    "**killPlace** - Ranking in match of number of enemy players killed.\n",
    "\n",
    "\n",
    "**killPoints **- Kills-based external ranking of player. (Think of this as an Elo ranking where only kills matter.) If there is a value other than -1 in rankPoints, then any 0 in killPoints should be treated as a “None”.\n",
    "\n",
    "\n",
    "**killStreaks** - Max number of enemy players killed in a short amount of time.\n",
    "\n",
    "\n",
    "**kills** - Number of enemy players killed.\n",
    "\n",
    "**longestKill** - Longest distance between player and player killed at time of death. This may be misleading, as downing a player and driving away may lead to a large longestKill stat.\n",
    "\n",
    "\n",
    "**matchDuration** - Duration of match in seconds.\n",
    "\n",
    "**matchId** - ID to identify match. There are no matches that are in both the training and testing set.\n",
    "\n",
    "\n",
    "**matchType **- String identifying the game mode that the data comes from. The standard modes are “solo”, “duo”, “squad”, “solo-fpp”, “duo-fpp”, and “squad-fpp”; other modes are from events or custom matches.\n",
    "\n",
    "**rankPoints **- Elo-like ranking of player. This ranking is inconsistent and is being deprecated in the API’s next version, so use with caution. Value of -1 takes place of “None”.\n",
    "\n",
    "\n",
    "**revives **- Number of times this player revived teammates.\n",
    "\n",
    "**rideDistance** - Total distance traveled in vehicles measured in meters.\n",
    "\n",
    "**roadKills **- Number of kills while in a vehicle.\n",
    "\n",
    "**swimDistance ** Total distance traveled by swimming measured in meters.\n",
    "\n",
    "**teamKills **- Number of times this player killed a teammate.\n",
    "\n",
    "**vehicleDestroys **- Number of vehicles destroyed.\n",
    "\n",
    "**walkDistance **- Total distance traveled on foot measured in meters.\n",
    "\n",
    "**weaponsAcquired **- Number of weapons picked up.\n",
    "\n",
    "**winPoints **- Win-based external ranking of player. (Think of this as an Elo ranking where only winning matters.) If there is a value other than -1 in rankPoints, then any 0 in winPoints should be treated as a “None”.\n",
    "\n",
    "**groupId - ID** to identify a group within a match. If the same group of players plays in different matches, they will have a different groupId each time.\n",
    "\n",
    "**numGroups **- Number of groups we have data for in the match.\n",
    "\n",
    "**maxPlace **- Worst placement we have data for in the match. This may not match with numGroups, as sometimes the data skips over placements.\n",
    "\n",
    "\n",
    "**winPlacePerc **- The target of prediction. This is a percentile winning placement, where 1 corresponds to 1st place, and 0 corresponds to last place in the match. It is calculated off of maxPlace, not numGroups, so it is possible to have missing chunks in a match."
   ]
  },
  {
   "cell_type": "code",
   "execution_count": 23,
   "metadata": {
    "colab": {
     "base_uri": "https://localhost:8080/",
     "height": 635
    },
    "colab_type": "code",
    "id": "35d0eTAcfHoW",
    "outputId": "69acb628-bd3f-4de1-96f1-7ef35eed1e48"
   },
   "outputs": [
    {
     "name": "stdout",
     "output_type": "stream",
     "text": [
      "<class 'pandas.core.frame.DataFrame'>\n",
      "RangeIndex: 4446966 entries, 0 to 4446965\n",
      "Data columns (total 29 columns):\n",
      "Id                 object\n",
      "groupId            object\n",
      "matchId            object\n",
      "assists            int64\n",
      "boosts             int64\n",
      "damageDealt        float64\n",
      "DBNOs              int64\n",
      "headshotKills      int64\n",
      "heals              int64\n",
      "killPlace          int64\n",
      "killPoints         int64\n",
      "kills              int64\n",
      "killStreaks        int64\n",
      "longestKill        float64\n",
      "matchDuration      int64\n",
      "matchType          object\n",
      "maxPlace           int64\n",
      "numGroups          int64\n",
      "rankPoints         int64\n",
      "revives            int64\n",
      "rideDistance       float64\n",
      "roadKills          int64\n",
      "swimDistance       float64\n",
      "teamKills          int64\n",
      "vehicleDestroys    int64\n",
      "walkDistance       float64\n",
      "weaponsAcquired    int64\n",
      "winPoints          int64\n",
      "winPlacePerc       float64\n",
      "dtypes: float64(6), int64(19), object(4)\n",
      "memory usage: 983.9+ MB\n"
     ]
    }
   ],
   "source": [
    "#Summary of a DataFrame. Test|Train\n",
    "\n",
    "train.info()\n"
   ]
  },
  {
   "cell_type": "code",
   "execution_count": 24,
   "metadata": {
    "colab": {
     "base_uri": "https://localhost:8080/",
     "height": 617
    },
    "colab_type": "code",
    "id": "otNznFbzgjgs",
    "outputId": "43378058-3d08-4f13-d08e-7f3439bdb4d0"
   },
   "outputs": [
    {
     "name": "stdout",
     "output_type": "stream",
     "text": [
      "<class 'pandas.core.frame.DataFrame'>\n",
      "RangeIndex: 1934174 entries, 0 to 1934173\n",
      "Data columns (total 28 columns):\n",
      "Id                 object\n",
      "groupId            object\n",
      "matchId            object\n",
      "assists            int64\n",
      "boosts             int64\n",
      "damageDealt        float64\n",
      "DBNOs              int64\n",
      "headshotKills      int64\n",
      "heals              int64\n",
      "killPlace          int64\n",
      "killPoints         int64\n",
      "kills              int64\n",
      "killStreaks        int64\n",
      "longestKill        float64\n",
      "matchDuration      int64\n",
      "matchType          object\n",
      "maxPlace           int64\n",
      "numGroups          int64\n",
      "rankPoints         int64\n",
      "revives            int64\n",
      "rideDistance       float64\n",
      "roadKills          int64\n",
      "swimDistance       float64\n",
      "teamKills          int64\n",
      "vehicleDestroys    int64\n",
      "walkDistance       float64\n",
      "weaponsAcquired    int64\n",
      "winPoints          int64\n",
      "dtypes: float64(5), int64(19), object(4)\n",
      "memory usage: 413.2+ MB\n"
     ]
    }
   ],
   "source": [
    "#Test data\n",
    "test.info()\n",
    "\n"
   ]
  },
  {
   "cell_type": "code",
   "execution_count": 25,
   "metadata": {
    "colab": {
     "base_uri": "https://localhost:8080/",
     "height": 563
    },
    "colab_type": "code",
    "id": "xwDebNjGfHsU",
    "outputId": "573daffe-eb0a-4c0c-890b-0ab81744f07b"
   },
   "outputs": [
    {
     "data": {
      "text/plain": [
       "Id                 0\n",
       "groupId            0\n",
       "matchId            0\n",
       "assists            0\n",
       "boosts             0\n",
       "damageDealt        0\n",
       "DBNOs              0\n",
       "headshotKills      0\n",
       "heals              0\n",
       "killPlace          0\n",
       "killPoints         0\n",
       "kills              0\n",
       "killStreaks        0\n",
       "longestKill        0\n",
       "matchDuration      0\n",
       "matchType          0\n",
       "maxPlace           0\n",
       "numGroups          0\n",
       "rankPoints         0\n",
       "revives            0\n",
       "rideDistance       0\n",
       "roadKills          0\n",
       "swimDistance       0\n",
       "teamKills          0\n",
       "vehicleDestroys    0\n",
       "walkDistance       0\n",
       "weaponsAcquired    0\n",
       "winPoints          0\n",
       "winPlacePerc       1\n",
       "dtype: int64"
      ]
     },
     "execution_count": 25,
     "metadata": {},
     "output_type": "execute_result"
    }
   ],
   "source": [
    "# Check out for the missing value.\n",
    "#train\n",
    "\n",
    "train.isnull().sum()"
   ]
  },
  {
   "cell_type": "code",
   "execution_count": 26,
   "metadata": {
    "colab": {
     "base_uri": "https://localhost:8080/",
     "height": 545
    },
    "colab_type": "code",
    "id": "ExAC98Qygs7e",
    "outputId": "5769e061-7e1b-4815-9b56-8dba20a536ce"
   },
   "outputs": [
    {
     "data": {
      "text/plain": [
       "Id                 0\n",
       "groupId            0\n",
       "matchId            0\n",
       "assists            0\n",
       "boosts             0\n",
       "damageDealt        0\n",
       "DBNOs              0\n",
       "headshotKills      0\n",
       "heals              0\n",
       "killPlace          0\n",
       "killPoints         0\n",
       "kills              0\n",
       "killStreaks        0\n",
       "longestKill        0\n",
       "matchDuration      0\n",
       "matchType          0\n",
       "maxPlace           0\n",
       "numGroups          0\n",
       "rankPoints         0\n",
       "revives            0\n",
       "rideDistance       0\n",
       "roadKills          0\n",
       "swimDistance       0\n",
       "teamKills          0\n",
       "vehicleDestroys    0\n",
       "walkDistance       0\n",
       "weaponsAcquired    0\n",
       "winPoints          0\n",
       "dtype: int64"
      ]
     },
     "execution_count": 26,
     "metadata": {},
     "output_type": "execute_result"
    }
   ],
   "source": [
    "#test\n",
    "\n",
    "test.isnull().sum()"
   ]
  },
  {
   "cell_type": "code",
   "execution_count": 27,
   "metadata": {
    "colab": {},
    "colab_type": "code",
    "id": "qBHOaLhSfHw2"
   },
   "outputs": [],
   "source": [
    "# find the missing rows and drop them.\n",
    "train[train.winPlacePerc.isnull()]\n",
    "train.drop(2744604,inplace=True)"
   ]
  },
  {
   "cell_type": "code",
   "execution_count": 28,
   "metadata": {
    "colab": {
     "base_uri": "https://localhost:8080/",
     "height": 563
    },
    "colab_type": "code",
    "id": "bRFadjj9CoQY",
    "outputId": "7d8e00c7-c4a4-4bf3-9e36-a6b447ab46bd"
   },
   "outputs": [
    {
     "data": {
      "text/plain": [
       "Id                 0\n",
       "groupId            0\n",
       "matchId            0\n",
       "assists            0\n",
       "boosts             0\n",
       "damageDealt        0\n",
       "DBNOs              0\n",
       "headshotKills      0\n",
       "heals              0\n",
       "killPlace          0\n",
       "killPoints         0\n",
       "kills              0\n",
       "killStreaks        0\n",
       "longestKill        0\n",
       "matchDuration      0\n",
       "matchType          0\n",
       "maxPlace           0\n",
       "numGroups          0\n",
       "rankPoints         0\n",
       "revives            0\n",
       "rideDistance       0\n",
       "roadKills          0\n",
       "swimDistance       0\n",
       "teamKills          0\n",
       "vehicleDestroys    0\n",
       "walkDistance       0\n",
       "weaponsAcquired    0\n",
       "winPoints          0\n",
       "winPlacePerc       0\n",
       "dtype: int64"
      ]
     },
     "execution_count": 28,
     "metadata": {},
     "output_type": "execute_result"
    }
   ],
   "source": [
    "train.isnull().sum()"
   ]
  },
  {
   "cell_type": "code",
   "execution_count": 29,
   "metadata": {
    "colab": {
     "base_uri": "https://localhost:8080/",
     "height": 35
    },
    "colab_type": "code",
    "id": "8SP-OFcSfH0Q",
    "outputId": "70e3544c-1cd1-4280-8511-216c2ec769f9"
   },
   "outputs": [
    {
     "data": {
      "text/plain": [
       "47964"
      ]
     },
     "execution_count": 29,
     "metadata": {},
     "output_type": "execute_result"
    }
   ],
   "source": [
    "# Number of matches played in each train and test data.\n",
    "#matchId\n",
    "len(train.matchId.unique())\n",
    "\n"
   ]
  },
  {
   "cell_type": "code",
   "execution_count": 30,
   "metadata": {
    "colab": {
     "base_uri": "https://localhost:8080/",
     "height": 35
    },
    "colab_type": "code",
    "id": "coMRxT2lDEhV",
    "outputId": "551be5e8-8398-4179-89c5-d95f584350f8"
   },
   "outputs": [
    {
     "data": {
      "text/plain": [
       "20556"
      ]
     },
     "execution_count": 30,
     "metadata": {},
     "output_type": "execute_result"
    }
   ],
   "source": [
    "len(test.matchId.unique())"
   ]
  },
  {
   "cell_type": "code",
   "execution_count": 31,
   "metadata": {
    "colab": {
     "base_uri": "https://localhost:8080/",
     "height": 1163
    },
    "colab_type": "code",
    "id": "JAQGf4CRfHu1",
    "outputId": "429f762c-7f19-4f1f-d3a0-4436d4a5daf1"
   },
   "outputs": [
    {
     "data": {
      "text/plain": [
       "matchId\n",
       "0000a43bce5eec     95\n",
       "0000eb01ea6cdd     98\n",
       "0002912fe5ed71     95\n",
       "0003b92987589e    100\n",
       "0006eb8c17708d     93\n",
       "00077604e50a63     98\n",
       "00086c74bb4efc     98\n",
       "00086e740a5804     98\n",
       "001125344b660c     96\n",
       "001360264d4b5f     91\n",
       "0014d9d1b0aff6     94\n",
       "001616ed5da99b     97\n",
       "0016fe3ee17ce7     97\n",
       "00177a6ce4dfb5     92\n",
       "00188d50e054f5     92\n",
       "001937f739426c     95\n",
       "0019bc34b3c58e     97\n",
       "0019d729577e9c     94\n",
       "001cd8e7e6b737     24\n",
       "001e5e4799a31c     92\n",
       "001e7bc06b1611     59\n",
       "001eeedf57047a     99\n",
       "00200fe5d9aae5     99\n",
       "0022adebf59be6     96\n",
       "0022e660571ee8     97\n",
       "00232f9d9c5421     96\n",
       "0025477f88bbd9     94\n",
       "002771bd25fe0e     92\n",
       "0027a504cd3b0c     99\n",
       "0027b1ffb2e346     17\n",
       "                 ... \n",
       "ffdebe280440e8     86\n",
       "ffdf8e9dc18596     98\n",
       "ffdff4a21177ea     92\n",
       "ffe08b9747a59f     94\n",
       "ffe21d8fafaf43     96\n",
       "ffe2a50b7023fb     89\n",
       "ffe2ee39f210ff     92\n",
       "ffe6c9fd39b935     98\n",
       "ffe71c86ca1d81     97\n",
       "ffe7d37a82297b     98\n",
       "ffe94ff48407e7     93\n",
       "ffead5be0b50e8     98\n",
       "ffeaf5f7073d41     89\n",
       "ffeb2131284e45     94\n",
       "ffed6b75ebe4ce     91\n",
       "ffed79cf43d7d7     97\n",
       "ffef306edf6b36     98\n",
       "fff0a2994a6f3a     87\n",
       "fff2c218352941     98\n",
       "fff2dfadd0635e     40\n",
       "fff497dff0186d     90\n",
       "fff4d3cbb6c317    100\n",
       "fffa170cf8ed83     93\n",
       "fffa3a29e38094     93\n",
       "fffb576fad6509     95\n",
       "fffd74b5150cb4     97\n",
       "fffe53015be300     97\n",
       "fffe562611d981     94\n",
       "fffe721f841f85     97\n",
       "fffe92232706aa     93\n",
       "Name: matchId, Length: 47964, dtype: int64"
      ]
     },
     "execution_count": 31,
     "metadata": {},
     "output_type": "execute_result"
    }
   ],
   "source": [
    "# Player in each match.\n",
    "# According to the rules of the pubG  Maximum of 100 players can only participate in a match.\n",
    "# Lets find out the number of player participated in each match\n",
    "train.groupby('matchId')['matchId'].count()"
   ]
  },
  {
   "cell_type": "code",
   "execution_count": 32,
   "metadata": {
    "colab": {},
    "colab_type": "code",
    "id": "BbwXwEBKh50v"
   },
   "outputs": [],
   "source": [
    "# create new feature player_played\n",
    "\n",
    "train['player_played']=train.groupby('matchId')['matchId'].transform('count')\n",
    "\n",
    "\n",
    "# test\n",
    "\n",
    "test['player_played']=test.groupby('matchId')['matchId'].transform('count')\n",
    "\n",
    "\n"
   ]
  },
  {
   "cell_type": "markdown",
   "metadata": {
    "colab_type": "text",
    "id": "T7m4TnFism5U"
   },
   "source": [
    "## Exploratory Data Analysis (EDA)   "
   ]
  },
  {
   "cell_type": "code",
   "execution_count": 33,
   "metadata": {
    "colab": {
     "base_uri": "https://localhost:8080/",
     "height": 572
    },
    "colab_type": "code",
    "id": "9tkcdBc6iC7V",
    "outputId": "6317fa9d-a9dc-40b1-ddc2-64e2d16ab84b"
   },
   "outputs": [
    {
     "data": {
      "text/plain": [
       "<matplotlib.axes._subplots.AxesSubplot at 0x7f43aefd44a8>"
      ]
     },
     "execution_count": 33,
     "metadata": {},
     "output_type": "execute_result"
    },
    {
     "data": {
      "image/png": "[encoded data removed]",
      "text/plain": [
       "<Figure size 1080x576 with 1 Axes>"
      ]
     },
     "metadata": {},
     "output_type": "display_data"
    }
   ],
   "source": [
    "#Let's visualize the feature set.\n",
    "\n",
    "import matplotlib.pyplot as plt\n",
    "import seaborn as sns\n",
    "# Plotting matches having player more that 60.\n",
    "plt.subplots(figsize=(15,8))\n",
    "sns.countplot(train[train['player_played']>=60]['player_played'])\n",
    "\n"
   ]
  },
  {
   "cell_type": "markdown",
   "metadata": {
    "colab_type": "text",
    "id": "QjM9nbWX-lMM"
   },
   "source": [
    "### Outliers Detectors\n",
    "\n",
    "\n",
    "### What are Outliers. \n",
    "Any data point or a set of data point which shows different  behavious compare to the rest of  data set.\n",
    "\n",
    "---\n",
    "\n",
    "\n",
    "\n",
    "![alt text](https://cdn-images-1.medium.com/max/1600/1*TbUF_HTQ6jOhO8EoPnmekQ.jpeg)\n",
    "\n",
    "## Pubg Outliers \n",
    "\n",
    "\n",
    "\n",
    "- According to the rules of the game you need to find the players and then kill them. That's what the basic strategy of the game . \n",
    "- But few people do what they just hide and start their killing streak . But data tells everything.\n",
    "- So we need to scrap out these cheaters."
   ]
  },
  {
   "cell_type": "markdown",
   "metadata": {
    "colab_type": "text",
    "id": "M9faxAa7DkjQ"
   },
   "source": [
    "\n",
    "\n",
    "\n",
    "\n",
    "\n",
    "\n",
    "\n",
    "\n",
    "\n",
    "\n",
    "\n",
    "\n",
    "\n",
    "\n",
    "\n",
    "\n",
    "\n",
    "\n",
    "\n",
    "\n",
    "\n",
    "\n",
    "\n",
    "\n",
    "\n",
    "\n",
    "\n",
    "\n",
    "\n",
    "\n",
    "\n",
    "\n",
    "\n",
    "\n",
    "\n",
    "\n",
    "\n",
    "\n",
    "\n",
    "\n",
    "\n",
    "\n",
    "\n",
    "\n",
    "\n",
    "\n",
    "\n",
    "\n",
    "\n",
    "\n",
    "\n",
    "\n",
    "\n",
    "\n",
    "\n",
    "\n",
    "\n",
    "\n",
    "\n",
    "\n",
    "\n",
    "\n",
    "\n",
    "\n",
    "\n",
    "\n",
    "\n",
    "\n",
    "\n",
    "\n",
    "## Distance Covered \n",
    "\n",
    "---\n",
    "\n",
    "In pubg We have three way to cover a particular distance to reach to a destination.\n",
    "### walkDistance.\n",
    "![alt text](https://blog.turtlebeach.com/wp-content/uploads/2017/04/media_img_1490255446609-1024x576.jpg)\n",
    "\n",
    "### swimDistance\n",
    "\n",
    "![alt text](https://thumbs.gfycat.com/EvenSpiffyFerret-small.gif)\n",
    "\n",
    "### rideDistance \n",
    "\n",
    "![alt text](https://i.ytimg.com/vi/atlOIN_stzI/maxresdefault.jpg)\n",
    "\n",
    " So ingeneral we have three mode.\n",
    " \n",
    "\n"
   ]
  },
  {
   "cell_type": "code",
   "execution_count": 34,
   "metadata": {
    "colab": {},
    "colab_type": "code",
    "id": "rpLSV0HAiDAS"
   },
   "outputs": [],
   "source": [
    "#rideDistance\n",
    "#walkDistance\n",
    "#swimDistance"
   ]
  },
  {
   "cell_type": "markdown",
   "metadata": {
    "colab_type": "text",
    "id": "Wp3kKquLIT6d"
   },
   "source": [
    "##  Find the cheaters|Outliers\n",
    "To identify outliers we gonna do what . \n",
    "Create two new features .\n",
    " - Total Distance\n",
    " \n",
    " -  kills without moving"
   ]
  },
  {
   "cell_type": "code",
   "execution_count": 35,
   "metadata": {
    "colab": {},
    "colab_type": "code",
    "id": "jzW7-8YoiDCz"
   },
   "outputs": [],
   "source": [
    "#total_distance   #train.\n",
    "train['total_distance']=train.rideDistance+train.walkDistance+train.swimDistance\n"
   ]
  },
  {
   "cell_type": "code",
   "execution_count": 36,
   "metadata": {
    "colab": {},
    "colab_type": "code",
    "id": "0wD_9Lq3x5Yo"
   },
   "outputs": [],
   "source": [
    "# total distance  #test\n",
    "test['total_distance']=test.rideDistance+test.walkDistance+test.swimDistance"
   ]
  },
  {
   "cell_type": "code",
   "execution_count": 37,
   "metadata": {
    "colab": {},
    "colab_type": "code",
    "id": "nwMT_wGgiDHy"
   },
   "outputs": [],
   "source": [
    "# kills_without_moving\n",
    "\n",
    "#kills\n",
    "#total_distance\n",
    "\n",
    "#train\n",
    "train['kills_without_moving']=((train['kills']>0)&(train['total_distance']==0))\n",
    "\n",
    "#test\n",
    "test['kills_without_moving']=((test['kills']>0)&(test['total_distance']==0))\n"
   ]
  },
  {
   "cell_type": "markdown",
   "metadata": {
    "colab_type": "text",
    "id": "wDrxzDyXJXF4"
   },
   "source": [
    "Now we drop all those players who have kills the they didn't cover the some least distance."
   ]
  },
  {
   "cell_type": "code",
   "execution_count": 38,
   "metadata": {
    "colab": {
     "base_uri": "https://localhost:8080/",
     "height": 72
    },
    "colab_type": "code",
    "id": "0BLibRpbiDLP",
    "outputId": "a685580e-83a7-4db2-f9c6-89d4d8b285c4"
   },
   "outputs": [
    {
     "data": {
      "text/plain": [
       "False    4445430\n",
       "True        1535\n",
       "Name: kills_without_moving, dtype: int64"
      ]
     },
     "execution_count": 38,
     "metadata": {},
     "output_type": "execute_result"
    }
   ],
   "source": [
    "# find the count.\n",
    "train['kills_without_moving'].value_counts()\n"
   ]
  },
  {
   "cell_type": "code",
   "execution_count": 39,
   "metadata": {
    "colab": {
     "base_uri": "https://localhost:8080/",
     "height": 72
    },
    "colab_type": "code",
    "id": "cIuulo2xzQHp",
    "outputId": "c2292a96-8189-4cb0-ce60-e5930ef6266d"
   },
   "outputs": [
    {
     "data": {
      "text/plain": [
       "False    1933863\n",
       "True         311\n",
       "Name: kills_without_moving, dtype: int64"
      ]
     },
     "execution_count": 39,
     "metadata": {},
     "output_type": "execute_result"
    }
   ],
   "source": [
    "# find the count for test data.\n",
    "\n",
    "test['kills_without_moving'].value_counts()"
   ]
  },
  {
   "cell_type": "markdown",
   "metadata": {
    "colab_type": "text",
    "id": "WQtpziEEzDnc"
   },
   "source": [
    "So there are 1535 outliers in train data and 311 outliers in test data .\n",
    "\n"
   ]
  },
  {
   "cell_type": "code",
   "execution_count": 40,
   "metadata": {
    "colab": {},
    "colab_type": "code",
    "id": "hUETMqKOiDOY"
   },
   "outputs": [],
   "source": [
    "# drop them.\n",
    "\n",
    "train.drop(train[train['kills_without_moving']==True].index,inplace=True)\n",
    "\n",
    "\n",
    "test.drop(test[test['kills_without_moving']==True].index,inplace=True)\n"
   ]
  },
  {
   "cell_type": "markdown",
   "metadata": {
    "colab_type": "text",
    "id": "xSzbh3MsLIjS"
   },
   "source": [
    "Now let's work on the given feature set of train and test data."
   ]
  },
  {
   "cell_type": "markdown",
   "metadata": {
    "colab_type": "text",
    "id": "lrX4eym3Kr2u"
   },
   "source": [
    "**roadKills** - Number of kills while in a vehicle."
   ]
  },
  {
   "cell_type": "code",
   "execution_count": 41,
   "metadata": {
    "colab": {
     "base_uri": "https://localhost:8080/",
     "height": 290
    },
    "colab_type": "code",
    "id": "lyN_pkaaiDSy",
    "outputId": "00eb0870-7362-410c-b086-90416b9f6933"
   },
   "outputs": [
    {
     "data": {
      "text/plain": [
       "0     4432434\n",
       "1       11247\n",
       "2        1298\n",
       "3         297\n",
       "4          72\n",
       "5          36\n",
       "6          20\n",
       "7          11\n",
       "8           7\n",
       "11          2\n",
       "10          2\n",
       "9           2\n",
       "18          1\n",
       "14          1\n",
       "Name: roadKills, dtype: int64"
      ]
     },
     "execution_count": 41,
     "metadata": {},
     "output_type": "execute_result"
    }
   ],
   "source": [
    "# roadKills count\n",
    "\n",
    "\n",
    "train['roadKills'].value_counts()\n",
    "\n",
    "\n"
   ]
  },
  {
   "cell_type": "code",
   "execution_count": 42,
   "metadata": {
    "colab": {},
    "colab_type": "code",
    "id": "VQTH7Y0viDaQ"
   },
   "outputs": [],
   "source": [
    "# see most of the player have kills from  zero to 10 \n",
    "# so to remove the outliers from our data we drop all the player who have more than 10 roadkills.\n",
    "\n"
   ]
  },
  {
   "cell_type": "code",
   "execution_count": 43,
   "metadata": {
    "colab": {},
    "colab_type": "code",
    "id": "BdTuRQAm0dFe"
   },
   "outputs": [],
   "source": [
    "# drop all the road kills above 10\n",
    "\n",
    "\n",
    "#test\n",
    "\n",
    "train.drop(train[train['roadKills']>=10].index,inplace=True)\n",
    "\n",
    "#test \n",
    "\n",
    "test.drop(test[test['roadKills']>=10].index,inplace=True)"
   ]
  },
  {
   "cell_type": "markdown",
   "metadata": {
    "colab_type": "text",
    "id": "77IR5QbILY6o"
   },
   "source": [
    "**kills** - Number of enemy players killed."
   ]
  },
  {
   "cell_type": "code",
   "execution_count": 44,
   "metadata": {
    "colab": {
     "base_uri": "https://localhost:8080/",
     "height": 1090
    },
    "colab_type": "code",
    "id": "XrJBBK8JiDmA",
    "outputId": "cec3a3f3-99f6-4210-e685-ce2608a1b883"
   },
   "outputs": [
    {
     "data": {
      "text/plain": [
       "0     2529721\n",
       "1      927648\n",
       "2      472291\n",
       "3      232280\n",
       "4      124414\n",
       "5       66480\n",
       "6       37867\n",
       "7       21744\n",
       "8       12716\n",
       "9        7581\n",
       "10       4562\n",
       "11       2756\n",
       "12       1726\n",
       "13       1108\n",
       "14        742\n",
       "15        468\n",
       "16        319\n",
       "17        226\n",
       "18        159\n",
       "19        105\n",
       "20         94\n",
       "22         74\n",
       "21         61\n",
       "23         40\n",
       "24         40\n",
       "26         24\n",
       "25         24\n",
       "28         22\n",
       "27         15\n",
       "33         12\n",
       "29         11\n",
       "30         11\n",
       "31         11\n",
       "35          6\n",
       "36          6\n",
       "38          6\n",
       "34          5\n",
       "37          5\n",
       "41          5\n",
       "53          4\n",
       "32          4\n",
       "39          4\n",
       "40          4\n",
       "42          3\n",
       "43          2\n",
       "44          2\n",
       "46          2\n",
       "55          2\n",
       "56          2\n",
       "57          2\n",
       "45          1\n",
       "47          1\n",
       "48          1\n",
       "49          1\n",
       "50          1\n",
       "66          1\n",
       "65          1\n",
       "72          1\n",
       "Name: kills, dtype: int64"
      ]
     },
     "execution_count": 44,
     "metadata": {},
     "output_type": "execute_result"
    }
   ],
   "source": [
    "# kills count\n",
    "\n",
    "train['kills'].value_counts()"
   ]
  },
  {
   "cell_type": "code",
   "execution_count": 45,
   "metadata": {
    "colab": {
     "base_uri": "https://localhost:8080/",
     "height": 872
    },
    "colab_type": "code",
    "id": "ONaYjDQt06Td",
    "outputId": "842af6f7-4da1-4110-f7cc-1d2ad17cffb1"
   },
   "outputs": [
    {
     "data": {
      "text/plain": [
       "0     1099421\n",
       "1      404819\n",
       "2      206319\n",
       "3      101149\n",
       "4       54100\n",
       "5       28877\n",
       "6       16468\n",
       "7        9262\n",
       "8        5278\n",
       "9        3281\n",
       "10       1902\n",
       "11       1155\n",
       "12        673\n",
       "13        417\n",
       "14        230\n",
       "15        150\n",
       "16        119\n",
       "17         71\n",
       "18         37\n",
       "19         33\n",
       "20         21\n",
       "22         11\n",
       "30         11\n",
       "21          8\n",
       "24          8\n",
       "23          5\n",
       "25          5\n",
       "26          4\n",
       "28          3\n",
       "31          3\n",
       "32          2\n",
       "37          2\n",
       "36          2\n",
       "33          2\n",
       "56          1\n",
       "34          1\n",
       "29          1\n",
       "27          1\n",
       "40          1\n",
       "41          1\n",
       "43          1\n",
       "46          1\n",
       "47          1\n",
       "52          1\n",
       "55          1\n",
       "58          1\n",
       "Name: kills, dtype: int64"
      ]
     },
     "execution_count": 45,
     "metadata": {},
     "output_type": "execute_result"
    }
   ],
   "source": [
    "#test\n",
    "test['kills'].value_counts()"
   ]
  },
  {
   "cell_type": "code",
   "execution_count": 46,
   "metadata": {
    "colab": {
     "base_uri": "https://localhost:8080/",
     "height": 569
    },
    "colab_type": "code",
    "id": "vvcA92jBiDrz",
    "outputId": "d7ac5786-548b-490a-86cd-d5913d8e9c23"
   },
   "outputs": [
    {
     "data": {
      "image/png": "[encoded data removed]",
      "text/plain": [
       "<Figure size 1080x576 with 1 Axes>"
      ]
     },
     "metadata": {},
     "output_type": "display_data"
    }
   ],
   "source": [
    "#Plot the kills data.\n",
    "\n",
    "plt.subplots(figsize=(15,8))\n",
    "sns.countplot(data=train,x=train['kills'])\n",
    "plt.title('Kills')\n",
    "plt.show()"
   ]
  },
  {
   "cell_type": "markdown",
   "metadata": {
    "colab_type": "text",
    "id": "-crg3Do6L4AO"
   },
   "source": [
    "See players who kills more that 35 are pretty rare so they all act as outliners. so lets drop all of them"
   ]
  },
  {
   "cell_type": "code",
   "execution_count": 47,
   "metadata": {
    "colab": {},
    "colab_type": "code",
    "id": "Jdzy7GaviDhZ"
   },
   "outputs": [],
   "source": [
    "# drop the outliers.\n",
    "\n",
    "#train\n",
    "train.drop(train[train['kills']>=35].index,inplace=True)\n",
    "\n",
    "#test\n",
    "\n",
    "test.drop(test[test['kills']>=35].index,inplace=True)"
   ]
  },
  {
   "cell_type": "markdown",
   "metadata": {
    "colab_type": "text",
    "id": "8GPIFKbHOvLB"
   },
   "source": [
    "## Should we remove all these outliers from our dataset or not what's your take on that."
   ]
  },
  {
   "cell_type": "markdown",
   "metadata": {
    "colab_type": "text",
    "id": "nwJIKoXiO63K"
   },
   "source": [
    "In DataScience their is no predefined strategy . Where you can say for sure this is the right way to do it.  All of us have different way, different methods and differnet openion.\n",
    "\n",
    "\n",
    "--------------------------------\n",
    "\n",
    "According to me in that particular case we have a millions of rows , So we can afford to loose few thousand . If it helps to create a better model."
   ]
  },
  {
   "cell_type": "markdown",
   "metadata": {
    "colab_type": "text",
    "id": "ilP1IirHPKcp"
   },
   "source": [
    ".\n",
    "\n",
    "\n",
    "\n",
    "**longestKill** - Longest distance between player and player killed at time of death. This may be misleading, as downing a player and driving away may lead to a large longestKill stat"
   ]
  },
  {
   "cell_type": "code",
   "execution_count": 48,
   "metadata": {
    "colab": {
     "base_uri": "https://localhost:8080/",
     "height": 515
    },
    "colab_type": "code",
    "id": "Gv6t8nVriDfl",
    "outputId": "e6ec7674-238b-4c61-c70c-28aa1f5d7cb6"
   },
   "outputs": [
    {
     "name": "stderr",
     "output_type": "stream",
     "text": [
      "/home/ec2-user/anaconda3/envs/tensorflow_p36/lib/python3.6/site-packages/matplotlib/axes/_axes.py:6462: UserWarning: The 'normed' kwarg is deprecated, and has been replaced by the 'density' kwarg.\n",
      "  warnings.warn(\"The 'normed' kwarg is deprecated, and has been \"\n"
     ]
    },
    {
     "data": {
      "text/plain": [
       "<matplotlib.axes._subplots.AxesSubplot at 0x7f439f1925f8>"
      ]
     },
     "execution_count": 48,
     "metadata": {},
     "output_type": "execute_result"
    },
    {
     "data": {
      "image/png": "[encoded data removed]",
      "text/plain": [
       "<Figure size 1080x576 with 1 Axes>"
      ]
     },
     "metadata": {},
     "output_type": "display_data"
    }
   ],
   "source": [
    "#longetKill \n",
    "#distplot\n",
    "plt.subplots(figsize=(15,8))\n",
    "sns.distplot(train['longestKill'],bins=20)\n"
   ]
  },
  {
   "cell_type": "markdown",
   "metadata": {
    "colab_type": "text",
    "id": "XwQuzayHQCSW"
   },
   "source": [
    "Most kills are made from a distance of 100 meters or closer. There are however some outliers who make a kill from more than 1km away. This is probably done by cheaters."
   ]
  },
  {
   "cell_type": "markdown",
   "metadata": {
    "colab_type": "text",
    "id": "5H982EG_3yc8"
   },
   "source": []
  },
  {
   "cell_type": "code",
   "execution_count": 49,
   "metadata": {
    "colab": {
     "base_uri": "https://localhost:8080/",
     "height": 697
    },
    "colab_type": "code",
    "id": "GzuDatpz41nH",
    "outputId": "b63a905b-b7b7-4d05-a65e-021d5a04457a"
   },
   "outputs": [
    {
     "data": {
      "text/html": [
       "<div>\n",
       "<style scoped>\n",
       "    .dataframe tbody tr th:only-of-type {\n",
       "        vertical-align: middle;\n",
       "    }\n",
       "\n",
       "    .dataframe tbody tr th {\n",
       "        vertical-align: top;\n",
       "    }\n",
       "\n",
       "    .dataframe thead th {\n",
       "        text-align: right;\n",
       "    }\n",
       "</style>\n",
       "<table border=\"1\" class=\"dataframe\">\n",
       "  <thead>\n",
       "    <tr style=\"text-align: right;\">\n",
       "      <th></th>\n",
       "      <th>Id</th>\n",
       "      <th>groupId</th>\n",
       "      <th>matchId</th>\n",
       "      <th>assists</th>\n",
       "      <th>boosts</th>\n",
       "      <th>damageDealt</th>\n",
       "      <th>DBNOs</th>\n",
       "      <th>headshotKills</th>\n",
       "      <th>heals</th>\n",
       "      <th>killPlace</th>\n",
       "      <th>...</th>\n",
       "      <th>swimDistance</th>\n",
       "      <th>teamKills</th>\n",
       "      <th>vehicleDestroys</th>\n",
       "      <th>walkDistance</th>\n",
       "      <th>weaponsAcquired</th>\n",
       "      <th>winPoints</th>\n",
       "      <th>winPlacePerc</th>\n",
       "      <th>player_played</th>\n",
       "      <th>total_distance</th>\n",
       "      <th>kills_without_moving</th>\n",
       "    </tr>\n",
       "  </thead>\n",
       "  <tbody>\n",
       "    <tr>\n",
       "      <th>202281</th>\n",
       "      <td>88e2af7d78af5a</td>\n",
       "      <td>34ddeede52c042</td>\n",
       "      <td>4346bc63bc67fa</td>\n",
       "      <td>0</td>\n",
       "      <td>3</td>\n",
       "      <td>783.9</td>\n",
       "      <td>5</td>\n",
       "      <td>1</td>\n",
       "      <td>1</td>\n",
       "      <td>5</td>\n",
       "      <td>...</td>\n",
       "      <td>0.00</td>\n",
       "      <td>0</td>\n",
       "      <td>1</td>\n",
       "      <td>3052.00</td>\n",
       "      <td>9</td>\n",
       "      <td>0</td>\n",
       "      <td>0.9231</td>\n",
       "      <td>88</td>\n",
       "      <td>3775.20</td>\n",
       "      <td>False</td>\n",
       "    </tr>\n",
       "    <tr>\n",
       "      <th>240005</th>\n",
       "      <td>41c2f5c0699807</td>\n",
       "      <td>9faecf87ab4275</td>\n",
       "      <td>634edab75860b3</td>\n",
       "      <td>5</td>\n",
       "      <td>0</td>\n",
       "      <td>1284.0</td>\n",
       "      <td>8</td>\n",
       "      <td>5</td>\n",
       "      <td>7</td>\n",
       "      <td>18</td>\n",
       "      <td>...</td>\n",
       "      <td>0.00</td>\n",
       "      <td>0</td>\n",
       "      <td>0</td>\n",
       "      <td>48.87</td>\n",
       "      <td>38</td>\n",
       "      <td>1500</td>\n",
       "      <td>0.5385</td>\n",
       "      <td>29</td>\n",
       "      <td>48.87</td>\n",
       "      <td>False</td>\n",
       "    </tr>\n",
       "    <tr>\n",
       "      <th>324313</th>\n",
       "      <td>ef390c152bcc3d</td>\n",
       "      <td>30fd444be3bbc1</td>\n",
       "      <td>4f7f8d6cf558b4</td>\n",
       "      <td>2</td>\n",
       "      <td>0</td>\n",
       "      <td>1028.0</td>\n",
       "      <td>0</td>\n",
       "      <td>0</td>\n",
       "      <td>0</td>\n",
       "      <td>9</td>\n",
       "      <td>...</td>\n",
       "      <td>0.00</td>\n",
       "      <td>0</td>\n",
       "      <td>0</td>\n",
       "      <td>1264.00</td>\n",
       "      <td>26</td>\n",
       "      <td>0</td>\n",
       "      <td>1.0000</td>\n",
       "      <td>51</td>\n",
       "      <td>2981.00</td>\n",
       "      <td>False</td>\n",
       "    </tr>\n",
       "    <tr>\n",
       "      <th>656553</th>\n",
       "      <td>9948b058562163</td>\n",
       "      <td>c8cb8491112bf6</td>\n",
       "      <td>0104eeb664494d</td>\n",
       "      <td>6</td>\n",
       "      <td>0</td>\n",
       "      <td>1410.0</td>\n",
       "      <td>17</td>\n",
       "      <td>5</td>\n",
       "      <td>0</td>\n",
       "      <td>3</td>\n",
       "      <td>...</td>\n",
       "      <td>0.00</td>\n",
       "      <td>0</td>\n",
       "      <td>0</td>\n",
       "      <td>29.21</td>\n",
       "      <td>30</td>\n",
       "      <td>1500</td>\n",
       "      <td>0.6000</td>\n",
       "      <td>41</td>\n",
       "      <td>29.21</td>\n",
       "      <td>False</td>\n",
       "    </tr>\n",
       "    <tr>\n",
       "      <th>803632</th>\n",
       "      <td>4e7e6c74e3c57d</td>\n",
       "      <td>94698690918933</td>\n",
       "      <td>da91b0c3d875f8</td>\n",
       "      <td>0</td>\n",
       "      <td>0</td>\n",
       "      <td>196.8</td>\n",
       "      <td>0</td>\n",
       "      <td>0</td>\n",
       "      <td>0</td>\n",
       "      <td>51</td>\n",
       "      <td>...</td>\n",
       "      <td>0.00</td>\n",
       "      <td>0</td>\n",
       "      <td>0</td>\n",
       "      <td>1074.00</td>\n",
       "      <td>22</td>\n",
       "      <td>0</td>\n",
       "      <td>0.0000</td>\n",
       "      <td>61</td>\n",
       "      <td>3159.00</td>\n",
       "      <td>False</td>\n",
       "    </tr>\n",
       "    <tr>\n",
       "      <th>895411</th>\n",
       "      <td>1f5ba6e0cfb968</td>\n",
       "      <td>512ea24b831be3</td>\n",
       "      <td>5fb0d8b1fc16cf</td>\n",
       "      <td>4</td>\n",
       "      <td>0</td>\n",
       "      <td>1012.0</td>\n",
       "      <td>11</td>\n",
       "      <td>5</td>\n",
       "      <td>0</td>\n",
       "      <td>5</td>\n",
       "      <td>...</td>\n",
       "      <td>0.00</td>\n",
       "      <td>0</td>\n",
       "      <td>0</td>\n",
       "      <td>569.50</td>\n",
       "      <td>18</td>\n",
       "      <td>0</td>\n",
       "      <td>0.9091</td>\n",
       "      <td>86</td>\n",
       "      <td>569.50</td>\n",
       "      <td>False</td>\n",
       "    </tr>\n",
       "    <tr>\n",
       "      <th>1172437</th>\n",
       "      <td>303a93cfa1f46c</td>\n",
       "      <td>8795d39fd0df86</td>\n",
       "      <td>9c8962b58bb3e3</td>\n",
       "      <td>2</td>\n",
       "      <td>1</td>\n",
       "      <td>329.3</td>\n",
       "      <td>0</td>\n",
       "      <td>0</td>\n",
       "      <td>2</td>\n",
       "      <td>45</td>\n",
       "      <td>...</td>\n",
       "      <td>0.00</td>\n",
       "      <td>0</td>\n",
       "      <td>0</td>\n",
       "      <td>832.50</td>\n",
       "      <td>9</td>\n",
       "      <td>1500</td>\n",
       "      <td>0.2857</td>\n",
       "      <td>58</td>\n",
       "      <td>832.50</td>\n",
       "      <td>False</td>\n",
       "    </tr>\n",
       "    <tr>\n",
       "      <th>1209416</th>\n",
       "      <td>528659ff1c1aec</td>\n",
       "      <td>7d1ba83423551d</td>\n",
       "      <td>ea9386587d5888</td>\n",
       "      <td>0</td>\n",
       "      <td>6</td>\n",
       "      <td>1640.0</td>\n",
       "      <td>0</td>\n",
       "      <td>7</td>\n",
       "      <td>0</td>\n",
       "      <td>1</td>\n",
       "      <td>...</td>\n",
       "      <td>0.00</td>\n",
       "      <td>0</td>\n",
       "      <td>0</td>\n",
       "      <td>2848.00</td>\n",
       "      <td>4</td>\n",
       "      <td>1500</td>\n",
       "      <td>0.9412</td>\n",
       "      <td>52</td>\n",
       "      <td>2848.00</td>\n",
       "      <td>False</td>\n",
       "    </tr>\n",
       "    <tr>\n",
       "      <th>1642712</th>\n",
       "      <td>91966848e08e2f</td>\n",
       "      <td>0ee4fbd27657c9</td>\n",
       "      <td>17dea22cefe62a</td>\n",
       "      <td>3</td>\n",
       "      <td>2</td>\n",
       "      <td>2103.0</td>\n",
       "      <td>0</td>\n",
       "      <td>4</td>\n",
       "      <td>11</td>\n",
       "      <td>11</td>\n",
       "      <td>...</td>\n",
       "      <td>0.00</td>\n",
       "      <td>0</td>\n",
       "      <td>0</td>\n",
       "      <td>235.30</td>\n",
       "      <td>41</td>\n",
       "      <td>0</td>\n",
       "      <td>0.5000</td>\n",
       "      <td>28</td>\n",
       "      <td>235.30</td>\n",
       "      <td>False</td>\n",
       "    </tr>\n",
       "    <tr>\n",
       "      <th>2015559</th>\n",
       "      <td>5ff0c1a9fab2ba</td>\n",
       "      <td>2d8119b1544f87</td>\n",
       "      <td>904cecf36217df</td>\n",
       "      <td>3</td>\n",
       "      <td>3</td>\n",
       "      <td>1302.0</td>\n",
       "      <td>0</td>\n",
       "      <td>6</td>\n",
       "      <td>5</td>\n",
       "      <td>15</td>\n",
       "      <td>...</td>\n",
       "      <td>0.00</td>\n",
       "      <td>0</td>\n",
       "      <td>0</td>\n",
       "      <td>133.20</td>\n",
       "      <td>43</td>\n",
       "      <td>0</td>\n",
       "      <td>0.6000</td>\n",
       "      <td>42</td>\n",
       "      <td>133.20</td>\n",
       "      <td>False</td>\n",
       "    </tr>\n",
       "    <tr>\n",
       "      <th>2122128</th>\n",
       "      <td>42df3102cb540b</td>\n",
       "      <td>7d9b2be15b355b</td>\n",
       "      <td>610d78f3affd2e</td>\n",
       "      <td>5</td>\n",
       "      <td>0</td>\n",
       "      <td>2500.0</td>\n",
       "      <td>0</td>\n",
       "      <td>7</td>\n",
       "      <td>1</td>\n",
       "      <td>2</td>\n",
       "      <td>...</td>\n",
       "      <td>0.00</td>\n",
       "      <td>2</td>\n",
       "      <td>0</td>\n",
       "      <td>464.50</td>\n",
       "      <td>52</td>\n",
       "      <td>0</td>\n",
       "      <td>0.0000</td>\n",
       "      <td>10</td>\n",
       "      <td>464.50</td>\n",
       "      <td>False</td>\n",
       "    </tr>\n",
       "    <tr>\n",
       "      <th>2152425</th>\n",
       "      <td>4b9f61bac5eb0a</td>\n",
       "      <td>bc717b964f3bbe</td>\n",
       "      <td>838cb9a3c94598</td>\n",
       "      <td>3</td>\n",
       "      <td>0</td>\n",
       "      <td>945.4</td>\n",
       "      <td>0</td>\n",
       "      <td>0</td>\n",
       "      <td>0</td>\n",
       "      <td>11</td>\n",
       "      <td>...</td>\n",
       "      <td>0.00</td>\n",
       "      <td>0</td>\n",
       "      <td>0</td>\n",
       "      <td>844.70</td>\n",
       "      <td>14</td>\n",
       "      <td>0</td>\n",
       "      <td>0.5714</td>\n",
       "      <td>60</td>\n",
       "      <td>844.70</td>\n",
       "      <td>False</td>\n",
       "    </tr>\n",
       "    <tr>\n",
       "      <th>2592718</th>\n",
       "      <td>24e0fec84c18e9</td>\n",
       "      <td>8404855ca02e48</td>\n",
       "      <td>e886a8ebb702cf</td>\n",
       "      <td>7</td>\n",
       "      <td>0</td>\n",
       "      <td>1684.0</td>\n",
       "      <td>0</td>\n",
       "      <td>4</td>\n",
       "      <td>7</td>\n",
       "      <td>11</td>\n",
       "      <td>...</td>\n",
       "      <td>0.00</td>\n",
       "      <td>0</td>\n",
       "      <td>0</td>\n",
       "      <td>1115.00</td>\n",
       "      <td>54</td>\n",
       "      <td>1500</td>\n",
       "      <td>0.5714</td>\n",
       "      <td>26</td>\n",
       "      <td>4851.00</td>\n",
       "      <td>False</td>\n",
       "    </tr>\n",
       "    <tr>\n",
       "      <th>2981715</th>\n",
       "      <td>7f77051c7cef52</td>\n",
       "      <td>d6579a630399b5</td>\n",
       "      <td>4784f7d9a06b51</td>\n",
       "      <td>3</td>\n",
       "      <td>5</td>\n",
       "      <td>1025.0</td>\n",
       "      <td>5</td>\n",
       "      <td>2</td>\n",
       "      <td>5</td>\n",
       "      <td>2</td>\n",
       "      <td>...</td>\n",
       "      <td>87.96</td>\n",
       "      <td>0</td>\n",
       "      <td>0</td>\n",
       "      <td>3998.00</td>\n",
       "      <td>7</td>\n",
       "      <td>0</td>\n",
       "      <td>1.0000</td>\n",
       "      <td>93</td>\n",
       "      <td>4085.96</td>\n",
       "      <td>False</td>\n",
       "    </tr>\n",
       "    <tr>\n",
       "      <th>3081503</th>\n",
       "      <td>f19a76e8d7ac52</td>\n",
       "      <td>624d65c529f87c</td>\n",
       "      <td>de19b70121c40f</td>\n",
       "      <td>3</td>\n",
       "      <td>0</td>\n",
       "      <td>1038.0</td>\n",
       "      <td>0</td>\n",
       "      <td>0</td>\n",
       "      <td>0</td>\n",
       "      <td>32</td>\n",
       "      <td>...</td>\n",
       "      <td>0.00</td>\n",
       "      <td>0</td>\n",
       "      <td>0</td>\n",
       "      <td>270.00</td>\n",
       "      <td>28</td>\n",
       "      <td>1500</td>\n",
       "      <td>0.8571</td>\n",
       "      <td>57</td>\n",
       "      <td>270.00</td>\n",
       "      <td>False</td>\n",
       "    </tr>\n",
       "    <tr>\n",
       "      <th>3255171</th>\n",
       "      <td>5524c154448425</td>\n",
       "      <td>674195558ad41b</td>\n",
       "      <td>db6f6d1f0d4904</td>\n",
       "      <td>1</td>\n",
       "      <td>0</td>\n",
       "      <td>1355.0</td>\n",
       "      <td>0</td>\n",
       "      <td>2</td>\n",
       "      <td>0</td>\n",
       "      <td>9</td>\n",
       "      <td>...</td>\n",
       "      <td>0.00</td>\n",
       "      <td>1</td>\n",
       "      <td>0</td>\n",
       "      <td>1039.00</td>\n",
       "      <td>37</td>\n",
       "      <td>0</td>\n",
       "      <td>0.5789</td>\n",
       "      <td>21</td>\n",
       "      <td>1039.00</td>\n",
       "      <td>False</td>\n",
       "    </tr>\n",
       "    <tr>\n",
       "      <th>3304284</th>\n",
       "      <td>d0c286ce498e17</td>\n",
       "      <td>17fdd45e612bab</td>\n",
       "      <td>3eaaa2f7a360fe</td>\n",
       "      <td>7</td>\n",
       "      <td>0</td>\n",
       "      <td>2330.0</td>\n",
       "      <td>0</td>\n",
       "      <td>2</td>\n",
       "      <td>0</td>\n",
       "      <td>2</td>\n",
       "      <td>...</td>\n",
       "      <td>0.00</td>\n",
       "      <td>1</td>\n",
       "      <td>0</td>\n",
       "      <td>68.02</td>\n",
       "      <td>32</td>\n",
       "      <td>0</td>\n",
       "      <td>1.0000</td>\n",
       "      <td>53</td>\n",
       "      <td>68.02</td>\n",
       "      <td>False</td>\n",
       "    </tr>\n",
       "    <tr>\n",
       "      <th>3320960</th>\n",
       "      <td>0040e53dfe7b5d</td>\n",
       "      <td>650661c2351eb7</td>\n",
       "      <td>2daabf3a7852e6</td>\n",
       "      <td>0</td>\n",
       "      <td>0</td>\n",
       "      <td>399.0</td>\n",
       "      <td>2</td>\n",
       "      <td>0</td>\n",
       "      <td>6</td>\n",
       "      <td>14</td>\n",
       "      <td>...</td>\n",
       "      <td>0.00</td>\n",
       "      <td>0</td>\n",
       "      <td>0</td>\n",
       "      <td>1511.00</td>\n",
       "      <td>45</td>\n",
       "      <td>1500</td>\n",
       "      <td>0.0000</td>\n",
       "      <td>15</td>\n",
       "      <td>5481.00</td>\n",
       "      <td>False</td>\n",
       "    </tr>\n",
       "    <tr>\n",
       "      <th>3552532</th>\n",
       "      <td>db638834c62f6f</td>\n",
       "      <td>0614b611d6a935</td>\n",
       "      <td>ff80300f8262f5</td>\n",
       "      <td>2</td>\n",
       "      <td>0</td>\n",
       "      <td>517.0</td>\n",
       "      <td>0</td>\n",
       "      <td>0</td>\n",
       "      <td>0</td>\n",
       "      <td>10</td>\n",
       "      <td>...</td>\n",
       "      <td>0.00</td>\n",
       "      <td>2</td>\n",
       "      <td>0</td>\n",
       "      <td>1310.00</td>\n",
       "      <td>6</td>\n",
       "      <td>0</td>\n",
       "      <td>0.0000</td>\n",
       "      <td>30</td>\n",
       "      <td>1344.88</td>\n",
       "      <td>False</td>\n",
       "    </tr>\n",
       "    <tr>\n",
       "      <th>4332473</th>\n",
       "      <td>d8857d3d7e31b6</td>\n",
       "      <td>085de7a36897e6</td>\n",
       "      <td>42f997c16d8a0e</td>\n",
       "      <td>5</td>\n",
       "      <td>0</td>\n",
       "      <td>1685.0</td>\n",
       "      <td>11</td>\n",
       "      <td>3</td>\n",
       "      <td>18</td>\n",
       "      <td>8</td>\n",
       "      <td>...</td>\n",
       "      <td>0.00</td>\n",
       "      <td>0</td>\n",
       "      <td>0</td>\n",
       "      <td>523.30</td>\n",
       "      <td>35</td>\n",
       "      <td>1500</td>\n",
       "      <td>0.9091</td>\n",
       "      <td>26</td>\n",
       "      <td>523.30</td>\n",
       "      <td>False</td>\n",
       "    </tr>\n",
       "  </tbody>\n",
       "</table>\n",
       "<p>20 rows × 32 columns</p>\n",
       "</div>"
      ],
      "text/plain": [
       "                     Id         groupId         matchId  assists  boosts  \\\n",
       "202281   88e2af7d78af5a  34ddeede52c042  4346bc63bc67fa        0       3   \n",
       "240005   41c2f5c0699807  9faecf87ab4275  634edab75860b3        5       0   \n",
       "324313   ef390c152bcc3d  30fd444be3bbc1  4f7f8d6cf558b4        2       0   \n",
       "656553   9948b058562163  c8cb8491112bf6  0104eeb664494d        6       0   \n",
       "803632   4e7e6c74e3c57d  94698690918933  da91b0c3d875f8        0       0   \n",
       "895411   1f5ba6e0cfb968  512ea24b831be3  5fb0d8b1fc16cf        4       0   \n",
       "1172437  303a93cfa1f46c  8795d39fd0df86  9c8962b58bb3e3        2       1   \n",
       "1209416  528659ff1c1aec  7d1ba83423551d  ea9386587d5888        0       6   \n",
       "1642712  91966848e08e2f  0ee4fbd27657c9  17dea22cefe62a        3       2   \n",
       "2015559  5ff0c1a9fab2ba  2d8119b1544f87  904cecf36217df        3       3   \n",
       "2122128  42df3102cb540b  7d9b2be15b355b  610d78f3affd2e        5       0   \n",
       "2152425  4b9f61bac5eb0a  bc717b964f3bbe  838cb9a3c94598        3       0   \n",
       "2592718  24e0fec84c18e9  8404855ca02e48  e886a8ebb702cf        7       0   \n",
       "2981715  7f77051c7cef52  d6579a630399b5  4784f7d9a06b51        3       5   \n",
       "3081503  f19a76e8d7ac52  624d65c529f87c  de19b70121c40f        3       0   \n",
       "3255171  5524c154448425  674195558ad41b  db6f6d1f0d4904        1       0   \n",
       "3304284  d0c286ce498e17  17fdd45e612bab  3eaaa2f7a360fe        7       0   \n",
       "3320960  0040e53dfe7b5d  650661c2351eb7  2daabf3a7852e6        0       0   \n",
       "3552532  db638834c62f6f  0614b611d6a935  ff80300f8262f5        2       0   \n",
       "4332473  d8857d3d7e31b6  085de7a36897e6  42f997c16d8a0e        5       0   \n",
       "\n",
       "         damageDealt  DBNOs  headshotKills  heals  killPlace  \\\n",
       "202281         783.9      5              1      1          5   \n",
       "240005        1284.0      8              5      7         18   \n",
       "324313        1028.0      0              0      0          9   \n",
       "656553        1410.0     17              5      0          3   \n",
       "803632         196.8      0              0      0         51   \n",
       "895411        1012.0     11              5      0          5   \n",
       "1172437        329.3      0              0      2         45   \n",
       "1209416       1640.0      0              7      0          1   \n",
       "1642712       2103.0      0              4     11         11   \n",
       "2015559       1302.0      0              6      5         15   \n",
       "2122128       2500.0      0              7      1          2   \n",
       "2152425        945.4      0              0      0         11   \n",
       "2592718       1684.0      0              4      7         11   \n",
       "2981715       1025.0      5              2      5          2   \n",
       "3081503       1038.0      0              0      0         32   \n",
       "3255171       1355.0      0              2      0          9   \n",
       "3304284       2330.0      0              2      0          2   \n",
       "3320960        399.0      2              0      6         14   \n",
       "3552532        517.0      0              0      0         10   \n",
       "4332473       1685.0     11              3     18          8   \n",
       "\n",
       "                 ...           swimDistance  teamKills  vehicleDestroys  \\\n",
       "202281           ...                   0.00          0                1   \n",
       "240005           ...                   0.00          0                0   \n",
       "324313           ...                   0.00          0                0   \n",
       "656553           ...                   0.00          0                0   \n",
       "803632           ...                   0.00          0                0   \n",
       "895411           ...                   0.00          0                0   \n",
       "1172437          ...                   0.00          0                0   \n",
       "1209416          ...                   0.00          0                0   \n",
       "1642712          ...                   0.00          0                0   \n",
       "2015559          ...                   0.00          0                0   \n",
       "2122128          ...                   0.00          2                0   \n",
       "2152425          ...                   0.00          0                0   \n",
       "2592718          ...                   0.00          0                0   \n",
       "2981715          ...                  87.96          0                0   \n",
       "3081503          ...                   0.00          0                0   \n",
       "3255171          ...                   0.00          1                0   \n",
       "3304284          ...                   0.00          1                0   \n",
       "3320960          ...                   0.00          0                0   \n",
       "3552532          ...                   0.00          2                0   \n",
       "4332473          ...                   0.00          0                0   \n",
       "\n",
       "         walkDistance  weaponsAcquired winPoints  winPlacePerc  player_played  \\\n",
       "202281        3052.00                9         0        0.9231             88   \n",
       "240005          48.87               38      1500        0.5385             29   \n",
       "324313        1264.00               26         0        1.0000             51   \n",
       "656553          29.21               30      1500        0.6000             41   \n",
       "803632        1074.00               22         0        0.0000             61   \n",
       "895411         569.50               18         0        0.9091             86   \n",
       "1172437        832.50                9      1500        0.2857             58   \n",
       "1209416       2848.00                4      1500        0.9412             52   \n",
       "1642712        235.30               41         0        0.5000             28   \n",
       "2015559        133.20               43         0        0.6000             42   \n",
       "2122128        464.50               52         0        0.0000             10   \n",
       "2152425        844.70               14         0        0.5714             60   \n",
       "2592718       1115.00               54      1500        0.5714             26   \n",
       "2981715       3998.00                7         0        1.0000             93   \n",
       "3081503        270.00               28      1500        0.8571             57   \n",
       "3255171       1039.00               37         0        0.5789             21   \n",
       "3304284         68.02               32         0        1.0000             53   \n",
       "3320960       1511.00               45      1500        0.0000             15   \n",
       "3552532       1310.00                6         0        0.0000             30   \n",
       "4332473        523.30               35      1500        0.9091             26   \n",
       "\n",
       "         total_distance  kills_without_moving  \n",
       "202281          3775.20                 False  \n",
       "240005            48.87                 False  \n",
       "324313          2981.00                 False  \n",
       "656553            29.21                 False  \n",
       "803632          3159.00                 False  \n",
       "895411           569.50                 False  \n",
       "1172437          832.50                 False  \n",
       "1209416         2848.00                 False  \n",
       "1642712          235.30                 False  \n",
       "2015559          133.20                 False  \n",
       "2122128          464.50                 False  \n",
       "2152425          844.70                 False  \n",
       "2592718         4851.00                 False  \n",
       "2981715         4085.96                 False  \n",
       "3081503          270.00                 False  \n",
       "3255171         1039.00                 False  \n",
       "3304284           68.02                 False  \n",
       "3320960         5481.00                 False  \n",
       "3552532         1344.88                 False  \n",
       "4332473          523.30                 False  \n",
       "\n",
       "[20 rows x 32 columns]"
      ]
     },
     "execution_count": 49,
     "metadata": {},
     "output_type": "execute_result"
    }
   ],
   "source": [
    "# Let's take a look at the players who make these shots. \n",
    "train[train['longestKill']>=1000]"
   ]
  },
  {
   "cell_type": "markdown",
   "metadata": {
    "colab_type": "text",
    "id": "TfJH3_KM5IYG"
   },
   "source": [
    "20 player who have longestKill more than 1000m."
   ]
  },
  {
   "cell_type": "code",
   "execution_count": 50,
   "metadata": {
    "colab": {
     "base_uri": "https://localhost:8080/",
     "height": 127
    },
    "colab_type": "code",
    "id": "XDaI335X5FU1",
    "outputId": "a794e116-15a0-4435-ccdf-6e718d0424c8"
   },
   "outputs": [
    {
     "data": {
      "text/html": [
       "<div>\n",
       "<style scoped>\n",
       "    .dataframe tbody tr th:only-of-type {\n",
       "        vertical-align: middle;\n",
       "    }\n",
       "\n",
       "    .dataframe tbody tr th {\n",
       "        vertical-align: top;\n",
       "    }\n",
       "\n",
       "    .dataframe thead th {\n",
       "        text-align: right;\n",
       "    }\n",
       "</style>\n",
       "<table border=\"1\" class=\"dataframe\">\n",
       "  <thead>\n",
       "    <tr style=\"text-align: right;\">\n",
       "      <th></th>\n",
       "      <th>Id</th>\n",
       "      <th>groupId</th>\n",
       "      <th>matchId</th>\n",
       "      <th>assists</th>\n",
       "      <th>boosts</th>\n",
       "      <th>damageDealt</th>\n",
       "      <th>DBNOs</th>\n",
       "      <th>headshotKills</th>\n",
       "      <th>heals</th>\n",
       "      <th>killPlace</th>\n",
       "      <th>...</th>\n",
       "      <th>roadKills</th>\n",
       "      <th>swimDistance</th>\n",
       "      <th>teamKills</th>\n",
       "      <th>vehicleDestroys</th>\n",
       "      <th>walkDistance</th>\n",
       "      <th>weaponsAcquired</th>\n",
       "      <th>winPoints</th>\n",
       "      <th>player_played</th>\n",
       "      <th>total_distance</th>\n",
       "      <th>kills_without_moving</th>\n",
       "    </tr>\n",
       "  </thead>\n",
       "  <tbody>\n",
       "    <tr>\n",
       "      <th>15085</th>\n",
       "      <td>b2d7b5499c7fdd</td>\n",
       "      <td>c57312c6ebd390</td>\n",
       "      <td>5fb683abbf1f33</td>\n",
       "      <td>4</td>\n",
       "      <td>0</td>\n",
       "      <td>1119.0</td>\n",
       "      <td>0</td>\n",
       "      <td>2</td>\n",
       "      <td>3</td>\n",
       "      <td>11</td>\n",
       "      <td>...</td>\n",
       "      <td>0</td>\n",
       "      <td>0.0</td>\n",
       "      <td>0</td>\n",
       "      <td>0</td>\n",
       "      <td>1135.0</td>\n",
       "      <td>19</td>\n",
       "      <td>0</td>\n",
       "      <td>48</td>\n",
       "      <td>1190.4</td>\n",
       "      <td>False</td>\n",
       "    </tr>\n",
       "  </tbody>\n",
       "</table>\n",
       "<p>1 rows × 31 columns</p>\n",
       "</div>"
      ],
      "text/plain": [
       "                   Id         groupId         matchId  assists  boosts  \\\n",
       "15085  b2d7b5499c7fdd  c57312c6ebd390  5fb683abbf1f33        4       0   \n",
       "\n",
       "       damageDealt  DBNOs  headshotKills  heals  killPlace  \\\n",
       "15085       1119.0      0              2      3         11   \n",
       "\n",
       "               ...           roadKills  swimDistance  teamKills  \\\n",
       "15085          ...                   0           0.0          0   \n",
       "\n",
       "       vehicleDestroys  walkDistance weaponsAcquired  winPoints  \\\n",
       "15085                0        1135.0              19          0   \n",
       "\n",
       "       player_played  total_distance  kills_without_moving  \n",
       "15085             48          1190.4                 False  \n",
       "\n",
       "[1 rows x 31 columns]"
      ]
     },
     "execution_count": 50,
     "metadata": {},
     "output_type": "execute_result"
    }
   ],
   "source": [
    "# Let's take a look at the players who make these shots. \n",
    "test[test['longestKill']>=1000]"
   ]
  },
  {
   "cell_type": "code",
   "execution_count": 51,
   "metadata": {
    "colab": {},
    "colab_type": "code",
    "id": "0T5HfJ8piDFQ"
   },
   "outputs": [],
   "source": [
    "# drop outliers.      \n",
    "\n",
    "\n",
    "#train\n",
    "train.drop(train[train['longestKill']>=1000].index,inplace=True)\n",
    "\n",
    "#test\n",
    "\n",
    "test.drop(test[test['longestKill']>=1000].index,inplace=True)"
   ]
  },
  {
   "cell_type": "markdown",
   "metadata": {
    "colab_type": "text",
    "id": "2WcUkbHf52O9"
   },
   "source": [
    "There is something fishy going on with these players. We are probably better off removing them from our dataset."
   ]
  },
  {
   "cell_type": "markdown",
   "metadata": {
    "colab_type": "text",
    "id": "_HpMPdelUXjR"
   },
   "source": [
    "### Lets findout the Anomalies in travelling (rideDistance, walkDistance and swimDistance)\n",
    "\n",
    "Let's check out anomalies in Distance travelled.\n"
   ]
  },
  {
   "cell_type": "code",
   "execution_count": 52,
   "metadata": {
    "colab": {
     "base_uri": "https://localhost:8080/",
     "height": 198
    },
    "colab_type": "code",
    "id": "-Ebn-kd7U68-",
    "outputId": "42290df1-da93-40e3-b002-7ddc202c19ee"
   },
   "outputs": [
    {
     "data": {
      "text/html": [
       "<div>\n",
       "<style scoped>\n",
       "    .dataframe tbody tr th:only-of-type {\n",
       "        vertical-align: middle;\n",
       "    }\n",
       "\n",
       "    .dataframe tbody tr th {\n",
       "        vertical-align: top;\n",
       "    }\n",
       "\n",
       "    .dataframe thead th {\n",
       "        text-align: right;\n",
       "    }\n",
       "</style>\n",
       "<table border=\"1\" class=\"dataframe\">\n",
       "  <thead>\n",
       "    <tr style=\"text-align: right;\">\n",
       "      <th></th>\n",
       "      <th>rideDistance</th>\n",
       "      <th>walkDistance</th>\n",
       "      <th>swimDistance</th>\n",
       "      <th>total_distance</th>\n",
       "    </tr>\n",
       "  </thead>\n",
       "  <tbody>\n",
       "    <tr>\n",
       "      <th>0</th>\n",
       "      <td>0.0000</td>\n",
       "      <td>244.80</td>\n",
       "      <td>0.00</td>\n",
       "      <td>244.8000</td>\n",
       "    </tr>\n",
       "    <tr>\n",
       "      <th>1</th>\n",
       "      <td>0.0045</td>\n",
       "      <td>1434.00</td>\n",
       "      <td>11.04</td>\n",
       "      <td>1445.0445</td>\n",
       "    </tr>\n",
       "    <tr>\n",
       "      <th>2</th>\n",
       "      <td>0.0000</td>\n",
       "      <td>161.80</td>\n",
       "      <td>0.00</td>\n",
       "      <td>161.8000</td>\n",
       "    </tr>\n",
       "    <tr>\n",
       "      <th>3</th>\n",
       "      <td>0.0000</td>\n",
       "      <td>202.70</td>\n",
       "      <td>0.00</td>\n",
       "      <td>202.7000</td>\n",
       "    </tr>\n",
       "    <tr>\n",
       "      <th>4</th>\n",
       "      <td>0.0000</td>\n",
       "      <td>49.75</td>\n",
       "      <td>0.00</td>\n",
       "      <td>49.7500</td>\n",
       "    </tr>\n",
       "  </tbody>\n",
       "</table>\n",
       "</div>"
      ],
      "text/plain": [
       "   rideDistance  walkDistance  swimDistance  total_distance\n",
       "0        0.0000        244.80          0.00        244.8000\n",
       "1        0.0045       1434.00         11.04       1445.0445\n",
       "2        0.0000        161.80          0.00        161.8000\n",
       "3        0.0000        202.70          0.00        202.7000\n",
       "4        0.0000         49.75          0.00         49.7500"
      ]
     },
     "execution_count": 52,
     "metadata": {},
     "output_type": "execute_result"
    }
   ],
   "source": [
    "train[['rideDistance','walkDistance','swimDistance','total_distance']].head()"
   ]
  },
  {
   "cell_type": "code",
   "execution_count": 53,
   "metadata": {
    "colab": {
     "base_uri": "https://localhost:8080/",
     "height": 279
    },
    "colab_type": "code",
    "id": "0llRAHglUYKb",
    "outputId": "376f3e64-8302-4b27-a045-e46f282b5e44"
   },
   "outputs": [
    {
     "name": "stderr",
     "output_type": "stream",
     "text": [
      "/home/ec2-user/anaconda3/envs/tensorflow_p36/lib/python3.6/site-packages/matplotlib/axes/_axes.py:6462: UserWarning: The 'normed' kwarg is deprecated, and has been replaced by the 'density' kwarg.\n",
      "  warnings.warn(\"The 'normed' kwarg is deprecated, and has been \"\n"
     ]
    },
    {
     "data": {
      "image/png": "[encoded data removed]",
      "text/plain": [
       "<Figure size 864x288 with 1 Axes>"
      ]
     },
     "metadata": {},
     "output_type": "display_data"
    }
   ],
   "source": [
    "# plot walkDistance \n",
    "\n",
    "plt.figure(figsize=(12,4))\n",
    "sns.distplot(train['walkDistance'], bins=10)\n",
    "plt.show()"
   ]
  },
  {
   "cell_type": "code",
   "execution_count": 54,
   "metadata": {
    "colab": {},
    "colab_type": "code",
    "id": "r4X9CCHhUmu_"
   },
   "outputs": [],
   "source": [
    "#Remove the outliers\n",
    "\n",
    "#train\n",
    "train.drop(train[train['walkDistance']>=10000].index,inplace=True)\n",
    "\n",
    "\n",
    "#test\n",
    "test.drop(test[test['walkDistance']>=10000].index,inplace=True)"
   ]
  },
  {
   "cell_type": "code",
   "execution_count": 55,
   "metadata": {
    "colab": {
     "base_uri": "https://localhost:8080/",
     "height": 279
    },
    "colab_type": "code",
    "id": "C34XenrJUnA9",
    "outputId": "f6ae58ff-720b-4bfb-858a-97fb0971b78a"
   },
   "outputs": [
    {
     "name": "stderr",
     "output_type": "stream",
     "text": [
      "/home/ec2-user/anaconda3/envs/tensorflow_p36/lib/python3.6/site-packages/matplotlib/axes/_axes.py:6462: UserWarning: The 'normed' kwarg is deprecated, and has been replaced by the 'density' kwarg.\n",
      "  warnings.warn(\"The 'normed' kwarg is deprecated, and has been \"\n"
     ]
    },
    {
     "data": {
      "image/png": "[encoded data removed]",
      "text/plain": [
       "<Figure size 864x288 with 1 Axes>"
      ]
     },
     "metadata": {},
     "output_type": "display_data"
    }
   ],
   "source": [
    "# plot rideDistance\n",
    "\n",
    "plt.subplots(figsize=(12,4))\n",
    "sns.distplot(train.rideDistance,bins=10)\n",
    "plt.show()\n"
   ]
  },
  {
   "cell_type": "code",
   "execution_count": 56,
   "metadata": {
    "colab": {},
    "colab_type": "code",
    "id": "XJVVJhKHUnFm"
   },
   "outputs": [],
   "source": [
    "#Remove the outliers.\n",
    "\n",
    "#test\n",
    "\n",
    "train.drop(train[train.rideDistance >=15000].index, inplace=True)\n",
    "\n",
    "#test\n",
    "\n",
    "test.drop(test[test.rideDistance >=15000].index, inplace=True)"
   ]
  },
  {
   "cell_type": "code",
   "execution_count": 57,
   "metadata": {
    "colab": {
     "base_uri": "https://localhost:8080/",
     "height": 297
    },
    "colab_type": "code",
    "id": "gYAeG3jgUnPo",
    "outputId": "5cb6b4f4-4225-452d-b16f-e7068faa4842"
   },
   "outputs": [
    {
     "name": "stderr",
     "output_type": "stream",
     "text": [
      "/home/ec2-user/anaconda3/envs/tensorflow_p36/lib/python3.6/site-packages/matplotlib/axes/_axes.py:6462: UserWarning: The 'normed' kwarg is deprecated, and has been replaced by the 'density' kwarg.\n",
      "  warnings.warn(\"The 'normed' kwarg is deprecated, and has been \"\n"
     ]
    },
    {
     "data": {
      "text/plain": [
       "<matplotlib.axes._subplots.AxesSubplot at 0x7f44110d6f98>"
      ]
     },
     "execution_count": 57,
     "metadata": {},
     "output_type": "execute_result"
    },
    {
     "data": {
      "image/png": "[encoded data removed]",
      "text/plain": [
       "<Figure size 864x288 with 1 Axes>"
      ]
     },
     "metadata": {},
     "output_type": "display_data"
    }
   ],
   "source": [
    "# swimDistance\n",
    "plt.subplots(figsize=(12, 4))\n",
    "sns.distplot(train.swimDistance,bins=10)\n",
    "\n"
   ]
  },
  {
   "cell_type": "markdown",
   "metadata": {
    "colab_type": "text",
    "id": "SKe8SYAl7VsF"
   },
   "source": [
    "Very few people prefer to swim."
   ]
  },
  {
   "cell_type": "code",
   "execution_count": 58,
   "metadata": {
    "colab": {
     "base_uri": "https://localhost:8080/",
     "height": 35
    },
    "colab_type": "code",
    "id": "QG1nOUnY7Uey",
    "outputId": "bbade0de-7988-4025-9aeb-60a0671c1a85"
   },
   "outputs": [
    {
     "data": {
      "text/plain": [
       "(138, 32)"
      ]
     },
     "execution_count": 58,
     "metadata": {},
     "output_type": "execute_result"
    }
   ],
   "source": [
    "train[train['swimDistance']>=1000].shape"
   ]
  },
  {
   "cell_type": "code",
   "execution_count": 59,
   "metadata": {
    "colab": {},
    "colab_type": "code",
    "id": "RpNIVKUdUnVQ"
   },
   "outputs": [],
   "source": [
    "#Remove the ouliers.\n",
    "\n",
    "#train\n",
    "train.drop(train[train.swimDistance>=1000].index,inplace=True)\n",
    "\n",
    "#test\n",
    "test.drop(test[test.swimDistance>=1000].index,inplace=True)"
   ]
  },
  {
   "cell_type": "code",
   "execution_count": 60,
   "metadata": {
    "colab": {
     "base_uri": "https://localhost:8080/",
     "height": 297
    },
    "colab_type": "code",
    "id": "yboknRMlUna4",
    "outputId": "90ca6474-16df-4f00-fea0-4d58e177313f"
   },
   "outputs": [
    {
     "name": "stderr",
     "output_type": "stream",
     "text": [
      "/home/ec2-user/anaconda3/envs/tensorflow_p36/lib/python3.6/site-packages/matplotlib/axes/_axes.py:6462: UserWarning: The 'normed' kwarg is deprecated, and has been replaced by the 'density' kwarg.\n",
      "  warnings.warn(\"The 'normed' kwarg is deprecated, and has been \"\n"
     ]
    },
    {
     "data": {
      "text/plain": [
       "<matplotlib.axes._subplots.AxesSubplot at 0x7f44110e4ef0>"
      ]
     },
     "execution_count": 60,
     "metadata": {},
     "output_type": "execute_result"
    },
    {
     "data": {
      "image/png": "[encoded data removed]",
      "text/plain": [
       "<Figure size 864x288 with 1 Axes>"
      ]
     },
     "metadata": {},
     "output_type": "display_data"
    }
   ],
   "source": [
    "# total_distance\n",
    "plt.subplots(figsize=(12,4))\n",
    "sns.distplot(train.total_distance,bins=10)"
   ]
  },
  {
   "cell_type": "code",
   "execution_count": 61,
   "metadata": {
    "colab": {
     "base_uri": "https://localhost:8080/",
     "height": 35
    },
    "colab_type": "code",
    "id": "u89Hu1Oi78o0",
    "outputId": "8edf7394-46d1-4e86-84bd-4117972e2c69"
   },
   "outputs": [
    {
     "data": {
      "text/plain": [
       "(519, 32)"
      ]
     },
     "execution_count": 61,
     "metadata": {},
     "output_type": "execute_result"
    }
   ],
   "source": [
    "train[train.total_distance>=15000].shape"
   ]
  },
  {
   "cell_type": "code",
   "execution_count": 62,
   "metadata": {
    "colab": {},
    "colab_type": "code",
    "id": "I8EsLpxJUnZk"
   },
   "outputs": [],
   "source": [
    "#Remove the outliers.\n",
    "\n",
    "#train\n",
    "train.drop(train[train.total_distance>=15000].index,inplace=True)\n",
    "\n",
    "#test\n",
    "test.drop(test[test.total_distance>=15000].index,inplace=True)\n",
    "\n"
   ]
  },
  {
   "cell_type": "markdown",
   "metadata": {
    "colab_type": "text",
    "id": "49ndbDRhVhbh"
   },
   "source": [
    "## Anomalies in weaponsAcquired"
   ]
  },
  {
   "cell_type": "code",
   "execution_count": 63,
   "metadata": {
    "colab": {
     "base_uri": "https://localhost:8080/",
     "height": 279
    },
    "colab_type": "code",
    "id": "6sTsVM6BUnNr",
    "outputId": "577ced49-3448-4de1-e3b0-25df413af200"
   },
   "outputs": [
    {
     "name": "stderr",
     "output_type": "stream",
     "text": [
      "/home/ec2-user/anaconda3/envs/tensorflow_p36/lib/python3.6/site-packages/matplotlib/axes/_axes.py:6462: UserWarning: The 'normed' kwarg is deprecated, and has been replaced by the 'density' kwarg.\n",
      "  warnings.warn(\"The 'normed' kwarg is deprecated, and has been \"\n"
     ]
    },
    {
     "data": {
      "image/png": "[encoded data removed]",
      "text/plain": [
       "<Figure size 864x288 with 1 Axes>"
      ]
     },
     "metadata": {},
     "output_type": "display_data"
    }
   ],
   "source": [
    "#weaponsAcquired\n",
    "#distplot\n",
    "\n",
    "plt.figure(figsize=(12,4))\n",
    "sns.distplot(train['weaponsAcquired'], bins=100)\n",
    "plt.show()"
   ]
  },
  {
   "cell_type": "code",
   "execution_count": 64,
   "metadata": {
    "colab": {
     "base_uri": "https://localhost:8080/",
     "height": 35
    },
    "colab_type": "code",
    "id": "vn4fFsJo8Rrj",
    "outputId": "e2bfbf8c-b7b9-461d-d4d7-9b8eade304ee"
   },
   "outputs": [
    {
     "data": {
      "text/plain": [
       "(135, 32)"
      ]
     },
     "execution_count": 64,
     "metadata": {},
     "output_type": "execute_result"
    }
   ],
   "source": [
    "train[train.weaponsAcquired>=50].shape"
   ]
  },
  {
   "cell_type": "markdown",
   "metadata": {
    "colab_type": "text",
    "id": "3RNM5fcD8S_7"
   },
   "source": [
    "We should probably remove these outliers from our model. Do you agree?\n",
    "\n",
    "Note that player '3f2bcf53b108c4' acquired 236 weapons in one game!"
   ]
  },
  {
   "cell_type": "code",
   "execution_count": null,
   "metadata": {
    "colab": {},
    "colab_type": "code",
    "id": "BaSjNAXQ8nSG"
   },
   "outputs": [],
   "source": []
  },
  {
   "cell_type": "code",
   "execution_count": 65,
   "metadata": {
    "colab": {},
    "colab_type": "code",
    "id": "20IfvzwrUnK5"
   },
   "outputs": [],
   "source": [
    "# remove the outliers.\n",
    "\n",
    "#train\n",
    "train.drop(train[train.weaponsAcquired>=50].index,inplace=True)\n",
    "\n",
    "#test\n",
    "test.drop(test[test.weaponsAcquired>=50].index,inplace=True)"
   ]
  },
  {
   "cell_type": "markdown",
   "metadata": {
    "colab_type": "text",
    "id": "4cUpWHC_V9y3"
   },
   "source": [
    "## Anomalies in Heals\n",
    "heals - Number of healing items used."
   ]
  },
  {
   "cell_type": "code",
   "execution_count": 66,
   "metadata": {
    "colab": {
     "base_uri": "https://localhost:8080/",
     "height": 297
    },
    "colab_type": "code",
    "id": "J6H3AcufUnEM",
    "outputId": "0df5edd3-8155-4e79-86f9-e11aa4ffa31c"
   },
   "outputs": [
    {
     "name": "stderr",
     "output_type": "stream",
     "text": [
      "/home/ec2-user/anaconda3/envs/tensorflow_p36/lib/python3.6/site-packages/matplotlib/axes/_axes.py:6462: UserWarning: The 'normed' kwarg is deprecated, and has been replaced by the 'density' kwarg.\n",
      "  warnings.warn(\"The 'normed' kwarg is deprecated, and has been \"\n"
     ]
    },
    {
     "data": {
      "text/plain": [
       "<matplotlib.axes._subplots.AxesSubplot at 0x7f439f112d30>"
      ]
     },
     "execution_count": 66,
     "metadata": {},
     "output_type": "execute_result"
    },
    {
     "data": {
      "image/png": "[encoded data removed]",
      "text/plain": [
       "<Figure size 864x288 with 1 Axes>"
      ]
     },
     "metadata": {},
     "output_type": "display_data"
    }
   ],
   "source": [
    "#heals \n",
    "#distplot\n",
    "\n",
    "plt.subplots(figsize=(12,4))\n",
    "sns.distplot(train.heals, bins=20)"
   ]
  },
  {
   "cell_type": "code",
   "execution_count": 67,
   "metadata": {
    "colab": {
     "base_uri": "https://localhost:8080/",
     "height": 35
    },
    "colab_type": "code",
    "id": "U5H2isFD85qM",
    "outputId": "924ba297-f2f7-4d22-c902-f525006085ce"
   },
   "outputs": [
    {
     "data": {
      "text/plain": [
       "(134, 32)"
      ]
     },
     "execution_count": 67,
     "metadata": {},
     "output_type": "execute_result"
    }
   ],
   "source": [
    "train[train.heals>=40].shape"
   ]
  },
  {
   "cell_type": "code",
   "execution_count": 68,
   "metadata": {
    "colab": {},
    "colab_type": "code",
    "id": "2678-m-TWNlf"
   },
   "outputs": [],
   "source": [
    "# remove the outliers.\n",
    "\n",
    "#train\n",
    "train.drop(train[train.heals>=40].index,inplace=True)\n",
    "\n",
    "#test\n",
    "\n",
    "test.drop(test[test.heals>=40].index,inplace=True)\n",
    "\n"
   ]
  },
  {
   "cell_type": "markdown",
   "metadata": {
    "colab_type": "text",
    "id": "9Ti1w2fFWVzM"
   },
   "source": [
    "##  Final outcome after Removing all outliers"
   ]
  },
  {
   "cell_type": "code",
   "execution_count": 69,
   "metadata": {
    "colab": {
     "base_uri": "https://localhost:8080/",
     "height": 35
    },
    "colab_type": "code",
    "id": "WCEG2N3yWNuc",
    "outputId": "201b3283-e4fb-4f8e-df7b-0570b26a7feb"
   },
   "outputs": [
    {
     "data": {
      "text/plain": [
       "(4443698, 32)"
      ]
     },
     "execution_count": 69,
     "metadata": {},
     "output_type": "execute_result"
    }
   ],
   "source": [
    "# Lets find the shape of training data\n",
    "train.shape\n",
    "\n"
   ]
  },
  {
   "cell_type": "markdown",
   "metadata": {
    "colab_type": "text",
    "id": "HWvge2HMWj_u"
   },
   "source": [
    "So the initial shape is (4446966, 29)   \n",
    "And After removeing the outliers the new shape is  (4443698, -)"
   ]
  },
  {
   "cell_type": "markdown",
   "metadata": {
    "colab_type": "text",
    "id": "LfJRDbR6WsrY"
   },
   "source": [
    "#### Something around 3000 rows we removed . Which is nothing compare to the number of rows we have."
   ]
  },
  {
   "cell_type": "markdown",
   "metadata": {
    "colab_type": "text",
    "id": "jUlNB3lJW44G"
   },
   "source": [
    "## Categorical Variables"
   ]
  },
  {
   "cell_type": "code",
   "execution_count": 70,
   "metadata": {
    "colab": {},
    "colab_type": "code",
    "id": "VBIOxzZDWN33"
   },
   "outputs": [],
   "source": [
    "# Create the dummy variable for categorical variable present in our data set.\n",
    "#matchType\n",
    "#train\n",
    "\n",
    "train=pd.get_dummies(train,columns=['matchType'])\n",
    "\n",
    "#test\n",
    "\n",
    "test=pd.get_dummies(test,columns=['matchType'])\n",
    "\n"
   ]
  },
  {
   "cell_type": "code",
   "execution_count": 71,
   "metadata": {
    "colab": {
     "base_uri": "https://localhost:8080/",
     "height": 35
    },
    "colab_type": "code",
    "id": "9EjSaTDM904O",
    "outputId": "af7a5723-b553-4ed6-e613-87a9809137ec"
   },
   "outputs": [
    {
     "data": {
      "text/plain": [
       "(4443698, 47)"
      ]
     },
     "execution_count": 71,
     "metadata": {},
     "output_type": "execute_result"
    }
   ],
   "source": [
    "train.shape"
   ]
  },
  {
   "cell_type": "markdown",
   "metadata": {
    "colab_type": "text",
    "id": "FoPxXpDR92HK"
   },
   "source": [
    "Now If you guys planning to create dummy variable of matchId and groupId ..\n",
    "\n",
    "For me it's like getting into a sucidal trap."
   ]
  },
  {
   "cell_type": "code",
   "execution_count": 72,
   "metadata": {
    "colab": {
     "base_uri": "https://localhost:8080/",
     "height": 963
    },
    "colab_type": "code",
    "id": "b2zThxeW-CBP",
    "outputId": "1be62d6b-f308-48ec-b86c-087de37c5306"
   },
   "outputs": [
    {
     "name": "stdout",
     "output_type": "stream",
     "text": [
      "<class 'pandas.core.frame.DataFrame'>\n",
      "Int64Index: 4443698 entries, 0 to 4446965\n",
      "Data columns (total 47 columns):\n",
      "Id                            object\n",
      "groupId                       object\n",
      "matchId                       object\n",
      "assists                       int64\n",
      "boosts                        int64\n",
      "damageDealt                   float64\n",
      "DBNOs                         int64\n",
      "headshotKills                 int64\n",
      "heals                         int64\n",
      "killPlace                     int64\n",
      "killPoints                    int64\n",
      "kills                         int64\n",
      "killStreaks                   int64\n",
      "longestKill                   float64\n",
      "matchDuration                 int64\n",
      "maxPlace                      int64\n",
      "numGroups                     int64\n",
      "rankPoints                    int64\n",
      "revives                       int64\n",
      "rideDistance                  float64\n",
      "roadKills                     int64\n",
      "swimDistance                  float64\n",
      "teamKills                     int64\n",
      "vehicleDestroys               int64\n",
      "walkDistance                  float64\n",
      "weaponsAcquired               int64\n",
      "winPoints                     int64\n",
      "winPlacePerc                  float64\n",
      "player_played                 int64\n",
      "total_distance                float64\n",
      "kills_without_moving          bool\n",
      "matchType_crashfpp            uint8\n",
      "matchType_crashtpp            uint8\n",
      "matchType_duo                 uint8\n",
      "matchType_duo-fpp             uint8\n",
      "matchType_flarefpp            uint8\n",
      "matchType_flaretpp            uint8\n",
      "matchType_normal-duo          uint8\n",
      "matchType_normal-duo-fpp      uint8\n",
      "matchType_normal-solo         uint8\n",
      "matchType_normal-solo-fpp     uint8\n",
      "matchType_normal-squad        uint8\n",
      "matchType_normal-squad-fpp    uint8\n",
      "matchType_solo                uint8\n",
      "matchType_solo-fpp            uint8\n",
      "matchType_squad               uint8\n",
      "matchType_squad-fpp           uint8\n",
      "dtypes: bool(1), float64(7), int64(20), object(3), uint8(16)\n",
      "memory usage: 1.1+ GB\n"
     ]
    }
   ],
   "source": [
    "# Lets again check the data structure of both train and test data\n",
    "train.info()\n",
    "\n"
   ]
  },
  {
   "cell_type": "code",
   "execution_count": 73,
   "metadata": {
    "colab": {
     "base_uri": "https://localhost:8080/",
     "height": 945
    },
    "colab_type": "code",
    "id": "FBtqgQez-IJg",
    "outputId": "5ffd46cb-6066-4f87-a523-94e221358448"
   },
   "outputs": [
    {
     "name": "stdout",
     "output_type": "stream",
     "text": [
      "<class 'pandas.core.frame.DataFrame'>\n",
      "Int64Index: 1933174 entries, 0 to 1934173\n",
      "Data columns (total 46 columns):\n",
      "Id                            object\n",
      "groupId                       object\n",
      "matchId                       object\n",
      "assists                       int64\n",
      "boosts                        int64\n",
      "damageDealt                   float64\n",
      "DBNOs                         int64\n",
      "headshotKills                 int64\n",
      "heals                         int64\n",
      "killPlace                     int64\n",
      "killPoints                    int64\n",
      "kills                         int64\n",
      "killStreaks                   int64\n",
      "longestKill                   float64\n",
      "matchDuration                 int64\n",
      "maxPlace                      int64\n",
      "numGroups                     int64\n",
      "rankPoints                    int64\n",
      "revives                       int64\n",
      "rideDistance                  float64\n",
      "roadKills                     int64\n",
      "swimDistance                  float64\n",
      "teamKills                     int64\n",
      "vehicleDestroys               int64\n",
      "walkDistance                  float64\n",
      "weaponsAcquired               int64\n",
      "winPoints                     int64\n",
      "player_played                 int64\n",
      "total_distance                float64\n",
      "kills_without_moving          bool\n",
      "matchType_crashfpp            uint8\n",
      "matchType_crashtpp            uint8\n",
      "matchType_duo                 uint8\n",
      "matchType_duo-fpp             uint8\n",
      "matchType_flarefpp            uint8\n",
      "matchType_flaretpp            uint8\n",
      "matchType_normal-duo          uint8\n",
      "matchType_normal-duo-fpp      uint8\n",
      "matchType_normal-solo         uint8\n",
      "matchType_normal-solo-fpp     uint8\n",
      "matchType_normal-squad        uint8\n",
      "matchType_normal-squad-fpp    uint8\n",
      "matchType_solo                uint8\n",
      "matchType_solo-fpp            uint8\n",
      "matchType_squad               uint8\n",
      "matchType_squad-fpp           uint8\n",
      "dtypes: bool(1), float64(6), int64(20), object(3), uint8(16)\n",
      "memory usage: 473.8+ MB\n"
     ]
    }
   ],
   "source": [
    "test.info()"
   ]
  },
  {
   "cell_type": "markdown",
   "metadata": {
    "colab_type": "text",
    "id": "pQ97MOHt0xLQ"
   },
   "source": [
    "## Feature Selection\n",
    "\n",
    "Feature selection methods can give you useful information on the relative importance or relevance of features for a given problem. You can use this information to create filtered versions of your dataset and increase the accuracy of your models."
   ]
  },
  {
   "cell_type": "markdown",
   "metadata": {
    "colab_type": "text",
    "id": "xjbd2-YJ9GPW"
   },
   "source": [
    "## Why to perform feature selection?\n",
    "\n",
    "- It enables the machine learning algorithm to train faster.\n",
    "- It reduces the complexity of a model and makes it easier to interpret.\n",
    "- It improves the accuracy of a model if the right subset is chosen.\n",
    "- It reduces overfitting.\n",
    "\n",
    "\n",
    "\n"
   ]
  },
  {
   "cell_type": "markdown",
   "metadata": {
    "colab_type": "text",
    "id": "3U8-QgPU-VhA"
   },
   "source": [
    "### Checking correlation is the fastest way to estimate the impact but it doesn't capture the actual contribution of the score."
   ]
  },
  {
   "cell_type": "markdown",
   "metadata": {
    "colab_type": "text",
    "id": "BIY4NvnY-cv4"
   },
   "source": [
    "But, correlation is naive, nearly primitive, method of feature selection. Consequently it will sometimes work (since data sometimes does follow the linear combination redundancy) and will fail miserably in many more complex tasks. There is no \"golden\" answer here. Correlation based feature selection is like logistic regression for classification - the easiest thing to try, but should not expect to solve any problem out there."
   ]
  },
  {
   "cell_type": "markdown",
   "metadata": {
    "colab_type": "text",
    "id": "tfYJZbeg-xHz"
   },
   "source": [
    "## One more step to make data more feasible for training."
   ]
  },
  {
   "cell_type": "code",
   "execution_count": 74,
   "metadata": {
    "colab": {},
    "colab_type": "code",
    "id": "e6G_8Jg9-kg7"
   },
   "outputs": [],
   "source": [
    "#drop the all unnecessary columns\n",
    "\n",
    "#train\n",
    "train.drop(['kills_without_moving'],axis=1,inplace=True)\n"
   ]
  },
  {
   "cell_type": "code",
   "execution_count": 75,
   "metadata": {
    "colab": {},
    "colab_type": "code",
    "id": "zi3tAkrQ-syo"
   },
   "outputs": [],
   "source": [
    "#test\n",
    "\n",
    "test.drop(['kills_without_moving'],axis=1,inplace=True)"
   ]
  },
  {
   "cell_type": "markdown",
   "metadata": {
    "colab_type": "text",
    "id": "majvWfSa8orV"
   },
   "source": [
    "## Featrue selection  using algorithm"
   ]
  },
  {
   "cell_type": "code",
   "execution_count": 76,
   "metadata": {
    "colab": {},
    "colab_type": "code",
    "id": "pg-OaCVoWN-O"
   },
   "outputs": [],
   "source": [
    "# feature selectionm using algorithm itself.\n",
    "from sklearn.ensemble import RandomForestRegressor\n"
   ]
  },
  {
   "cell_type": "code",
   "execution_count": 77,
   "metadata": {
    "colab": {},
    "colab_type": "code",
    "id": "EUHbQV84WOI2"
   },
   "outputs": [],
   "source": [
    "#before that first drop some unnecessary columns.\n",
    "\n",
    "#For train\n",
    "#Id #groupId  # matchId\n",
    "\n",
    "train.drop(['Id','groupId','matchId'],axis=1,inplace=True)\n",
    "\n",
    "# For test\n",
    "# Save the test Id \n",
    "test_id=test['Id']\n",
    "\n",
    "test.drop(['Id','groupId','matchId'],axis=1,inplace=True)\n"
   ]
  },
  {
   "cell_type": "code",
   "execution_count": 78,
   "metadata": {
    "colab": {
     "base_uri": "https://localhost:8080/",
     "height": 35
    },
    "colab_type": "code",
    "id": "5EaLi2EAR4wy",
    "outputId": "474c9a63-d620-4ac7-9070-92a25e48615a"
   },
   "outputs": [
    {
     "data": {
      "text/plain": [
       "(4443698, 43)"
      ]
     },
     "execution_count": 78,
     "metadata": {},
     "output_type": "execute_result"
    }
   ],
   "source": [
    "train.shape"
   ]
  },
  {
   "cell_type": "code",
   "execution_count": 79,
   "metadata": {
    "colab": {
     "base_uri": "https://localhost:8080/",
     "height": 35
    },
    "colab_type": "code",
    "id": "x_rTLHCmR8dP",
    "outputId": "fa0db5bc-78fb-4122-b1ba-442233da8354"
   },
   "outputs": [
    {
     "data": {
      "text/plain": [
       "(1933174, 42)"
      ]
     },
     "execution_count": 79,
     "metadata": {},
     "output_type": "execute_result"
    }
   ],
   "source": [
    "test.shape"
   ]
  },
  {
   "cell_type": "markdown",
   "metadata": {
    "colab_type": "text",
    "id": "ZCy4CO349u2O"
   },
   "source": [
    "### Sample data for training"
   ]
  },
  {
   "cell_type": "code",
   "execution_count": 80,
   "metadata": {
    "colab": {},
    "colab_type": "code",
    "id": "OYbAQgZFWOS6"
   },
   "outputs": [],
   "source": [
    "# Take sample for debugging and exploration\n",
    "sample = 500000\n",
    "df_sample = train.sample(sample)\n",
    "\n"
   ]
  },
  {
   "cell_type": "code",
   "execution_count": 81,
   "metadata": {
    "colab": {},
    "colab_type": "code",
    "id": "5Xo5hTarWONW"
   },
   "outputs": [],
   "source": [
    "# Metric used for the PUBG competition (Mean Absolute Error (MAE))\n",
    "from sklearn.metrics import mean_absolute_error"
   ]
  },
  {
   "cell_type": "code",
   "execution_count": 82,
   "metadata": {
    "colab": {},
    "colab_type": "code",
    "id": "TMQRfnUQWOED"
   },
   "outputs": [],
   "source": [
    "# Design model function. \n",
    "\n",
    "def score(m : RandomForestRegressor):\n",
    "    res = ['mae train: ', mean_absolute_error(m.predict(X_train), y_train), \n",
    "           'mae val: ', mean_absolute_error(m.predict(X_valid), y_valid)]\n",
    "    if hasattr(m, 'oob_score_'): res.append(m.oob_score_)\n",
    "    print(res)"
   ]
  },
  {
   "cell_type": "code",
   "execution_count": 83,
   "metadata": {
    "colab": {
     "base_uri": "https://localhost:8080/",
     "height": 890
    },
    "colab_type": "code",
    "id": "xV9E5Y-Y-VE1",
    "outputId": "621cb643-63fe-46df-dcf2-f92ebeecc4b7"
   },
   "outputs": [
    {
     "name": "stdout",
     "output_type": "stream",
     "text": [
      "<class 'pandas.core.frame.DataFrame'>\n",
      "Int64Index: 500000 entries, 3758734 to 4178247\n",
      "Data columns (total 43 columns):\n",
      "assists                       500000 non-null int64\n",
      "boosts                        500000 non-null int64\n",
      "damageDealt                   500000 non-null float64\n",
      "DBNOs                         500000 non-null int64\n",
      "headshotKills                 500000 non-null int64\n",
      "heals                         500000 non-null int64\n",
      "killPlace                     500000 non-null int64\n",
      "killPoints                    500000 non-null int64\n",
      "kills                         500000 non-null int64\n",
      "killStreaks                   500000 non-null int64\n",
      "longestKill                   500000 non-null float64\n",
      "matchDuration                 500000 non-null int64\n",
      "maxPlace                      500000 non-null int64\n",
      "numGroups                     500000 non-null int64\n",
      "rankPoints                    500000 non-null int64\n",
      "revives                       500000 non-null int64\n",
      "rideDistance                  500000 non-null float64\n",
      "roadKills                     500000 non-null int64\n",
      "swimDistance                  500000 non-null float64\n",
      "teamKills                     500000 non-null int64\n",
      "vehicleDestroys               500000 non-null int64\n",
      "walkDistance                  500000 non-null float64\n",
      "weaponsAcquired               500000 non-null int64\n",
      "winPoints                     500000 non-null int64\n",
      "winPlacePerc                  500000 non-null float64\n",
      "player_played                 500000 non-null int64\n",
      "total_distance                500000 non-null float64\n",
      "matchType_crashfpp            500000 non-null uint8\n",
      "matchType_crashtpp            500000 non-null uint8\n",
      "matchType_duo                 500000 non-null uint8\n",
      "matchType_duo-fpp             500000 non-null uint8\n",
      "matchType_flarefpp            500000 non-null uint8\n",
      "matchType_flaretpp            500000 non-null uint8\n",
      "matchType_normal-duo          500000 non-null uint8\n",
      "matchType_normal-duo-fpp      500000 non-null uint8\n",
      "matchType_normal-solo         500000 non-null uint8\n",
      "matchType_normal-solo-fpp     500000 non-null uint8\n",
      "matchType_normal-squad        500000 non-null uint8\n",
      "matchType_normal-squad-fpp    500000 non-null uint8\n",
      "matchType_solo                500000 non-null uint8\n",
      "matchType_solo-fpp            500000 non-null uint8\n",
      "matchType_squad               500000 non-null uint8\n",
      "matchType_squad-fpp           500000 non-null uint8\n",
      "dtypes: float64(7), int64(20), uint8(16)\n",
      "memory usage: 114.4 MB\n"
     ]
    }
   ],
   "source": [
    "df_sample.info()"
   ]
  },
  {
   "cell_type": "code",
   "execution_count": 84,
   "metadata": {
    "colab": {
     "base_uri": "https://localhost:8080/",
     "height": 35
    },
    "colab_type": "code",
    "id": "Do1e8MGjSSFb",
    "outputId": "e86671ee-b6b3-499c-847d-a38d9d907c2e"
   },
   "outputs": [
    {
     "data": {
      "text/plain": [
       "(500000, 42)"
      ]
     },
     "execution_count": 84,
     "metadata": {},
     "output_type": "execute_result"
    }
   ],
   "source": [
    "y=df_sample['winPlacePerc']\n",
    "df = df_sample.drop(columns = ['winPlacePerc'])\n",
    "df.shape"
   ]
  },
  {
   "cell_type": "code",
   "execution_count": 85,
   "metadata": {
    "colab": {},
    "colab_type": "code",
    "id": "wIp0wZSRWN1m"
   },
   "outputs": [],
   "source": [
    "#train test split.\n",
    "\n",
    "from sklearn.model_selection import train_test_split\n",
    "\n",
    "X_train,X_valid,y_train,y_valid=train_test_split(df,y,test_size=0.3,random_state=40)\n"
   ]
  },
  {
   "cell_type": "markdown",
   "metadata": {
    "colab_type": "text",
    "id": "pIWUMTRyrPCa"
   },
   "source": [
    "\n",
    "\n",
    "## Before training lets talk bit about randome forest regression algorithm.\n",
    "Random Forest is a supervised learning algorithm , very flexible and easy to use .And it produce better result even without hyper-parameter tuning.\n",
    "![alt text](https://cdn-images-1.medium.com/max/592/1*i0o8mjFfCn-uD79-F1Cqkw.png)\n",
    "\n",
    "Random Forest doc:\n",
    "[RandomForest Doc ](https://scikit-learn.org/stable/modules/generated/sklearn.ensemble.RandomForestClassifier.html)"
   ]
  },
  {
   "cell_type": "code",
   "execution_count": 86,
   "metadata": {
    "colab": {
     "base_uri": "https://localhost:8080/",
     "height": 35
    },
    "colab_type": "code",
    "id": "v2WgEfavWN0Z",
    "outputId": "ba5d5682-0b4f-4951-96bb-33def74d6d2e"
   },
   "outputs": [
    {
     "name": "stdout",
     "output_type": "stream",
     "text": [
      "['mae train: ', 0.04262312987586552, 'mae val: ', 0.0628290898932099]\n"
     ]
    }
   ],
   "source": [
    "#model with certaion parameter. Ramdon forest algorithm with default parameters.\n",
    "m1 = RandomForestRegressor(n_estimators=40, min_samples_leaf=3, max_features='sqrt',\n",
    "                          n_jobs=-1)\n",
    "\n",
    "m1.fit(X_train, y_train)\n",
    "score(m1)\n"
   ]
  },
  {
   "cell_type": "code",
   "execution_count": 87,
   "metadata": {
    "colab": {},
    "colab_type": "code",
    "id": "alhUa0N3WNsf"
   },
   "outputs": [],
   "source": [
    "# Find the important feature using random Forest algorithm.\n",
    "\n",
    "importance=m1.feature_importances_"
   ]
  },
  {
   "cell_type": "code",
   "execution_count": null,
   "metadata": {
    "colab": {},
    "colab_type": "code",
    "id": "bSLqbjgI-6qe"
   },
   "outputs": [],
   "source": []
  },
  {
   "cell_type": "code",
   "execution_count": 88,
   "metadata": {
    "colab": {},
    "colab_type": "code",
    "id": "bAMfXSJaWNq0"
   },
   "outputs": [],
   "source": [
    "# Create a new Dataframe for the given feature with their importance.\n",
    "data=pd.DataFrame(sorted(zip(m1.feature_importances_, df.columns)), columns=['Value','Feature'])"
   ]
  },
  {
   "cell_type": "code",
   "execution_count": 89,
   "metadata": {
    "colab": {
     "base_uri": "https://localhost:8080/",
     "height": 681
    },
    "colab_type": "code",
    "id": "mLVnNZWOWNo5",
    "outputId": "71bed138-6d02-46ce-c9e0-340db2bbe5d4"
   },
   "outputs": [
    {
     "data": {
      "text/plain": [
       "<matplotlib.axes._subplots.AxesSubplot at 0x7f439f1baf98>"
      ]
     },
     "execution_count": 89,
     "metadata": {},
     "output_type": "execute_result"
    },
    {
     "data": {
      "image/png": "[encoded data removed]",
      "text/plain": [
       "<Figure size 1440x720 with 1 Axes>"
      ]
     },
     "metadata": {},
     "output_type": "display_data"
    }
   ],
   "source": [
    "# Lets plot all the feature.\n",
    "\n",
    "plt.figure(figsize=(20, 10))\n",
    "sns.barplot(x=\"Value\", y=\"Feature\", data=data.sort_values(by=\"Value\", ascending=False))"
   ]
  },
  {
   "cell_type": "code",
   "execution_count": 90,
   "metadata": {
    "colab": {},
    "colab_type": "code",
    "id": "QofKEqxRAzwK"
   },
   "outputs": [],
   "source": [
    "# select top 25 features and re-train the model.\n",
    "\n",
    "\n",
    "new_data=data.sort_values(by='Value',ascending=False)[:25]"
   ]
  },
  {
   "cell_type": "code",
   "execution_count": 91,
   "metadata": {
    "colab": {
     "base_uri": "https://localhost:8080/",
     "height": 198
    },
    "colab_type": "code",
    "id": "UoKmvHea_QBs",
    "outputId": "d06ce5ca-09d1-4f02-acf3-df4ad6bd8e2c"
   },
   "outputs": [
    {
     "data": {
      "text/html": [
       "<div>\n",
       "<style scoped>\n",
       "    .dataframe tbody tr th:only-of-type {\n",
       "        vertical-align: middle;\n",
       "    }\n",
       "\n",
       "    .dataframe tbody tr th {\n",
       "        vertical-align: top;\n",
       "    }\n",
       "\n",
       "    .dataframe thead th {\n",
       "        text-align: right;\n",
       "    }\n",
       "</style>\n",
       "<table border=\"1\" class=\"dataframe\">\n",
       "  <thead>\n",
       "    <tr style=\"text-align: right;\">\n",
       "      <th></th>\n",
       "      <th>Value</th>\n",
       "      <th>Feature</th>\n",
       "    </tr>\n",
       "  </thead>\n",
       "  <tbody>\n",
       "    <tr>\n",
       "      <th>41</th>\n",
       "      <td>0.232452</td>\n",
       "      <td>walkDistance</td>\n",
       "    </tr>\n",
       "    <tr>\n",
       "      <th>40</th>\n",
       "      <td>0.217116</td>\n",
       "      <td>killPlace</td>\n",
       "    </tr>\n",
       "    <tr>\n",
       "      <th>39</th>\n",
       "      <td>0.175096</td>\n",
       "      <td>total_distance</td>\n",
       "    </tr>\n",
       "    <tr>\n",
       "      <th>38</th>\n",
       "      <td>0.098113</td>\n",
       "      <td>boosts</td>\n",
       "    </tr>\n",
       "    <tr>\n",
       "      <th>37</th>\n",
       "      <td>0.047796</td>\n",
       "      <td>weaponsAcquired</td>\n",
       "    </tr>\n",
       "  </tbody>\n",
       "</table>\n",
       "</div>"
      ],
      "text/plain": [
       "       Value          Feature\n",
       "41  0.232452     walkDistance\n",
       "40  0.217116        killPlace\n",
       "39  0.175096   total_distance\n",
       "38  0.098113           boosts\n",
       "37  0.047796  weaponsAcquired"
      ]
     },
     "execution_count": 91,
     "metadata": {},
     "output_type": "execute_result"
    }
   ],
   "source": [
    "new_data.head()"
   ]
  },
  {
   "cell_type": "code",
   "execution_count": 92,
   "metadata": {
    "colab": {
     "base_uri": "https://localhost:8080/",
     "height": 572
    },
    "colab_type": "code",
    "id": "eirIa1SEAz6O",
    "outputId": "ab641730-874c-47f7-bcd8-00ad27735b4d"
   },
   "outputs": [
    {
     "data": {
      "text/plain": [
       "<matplotlib.axes._subplots.AxesSubplot at 0x7f438d9d4d68>"
      ]
     },
     "execution_count": 92,
     "metadata": {},
     "output_type": "execute_result"
    },
    {
     "data": {
      "image/png": "[encoded data removed]",
      "text/plain": [
       "<Figure size 1080x576 with 1 Axes>"
      ]
     },
     "metadata": {},
     "output_type": "display_data"
    }
   ],
   "source": [
    "# Plot all the variables.\n",
    "plt.subplots(figsize=(15,8))\n",
    "sns.barplot(x='Value',y='Feature',data=new_data)"
   ]
  },
  {
   "cell_type": "code",
   "execution_count": 93,
   "metadata": {
    "colab": {},
    "colab_type": "code",
    "id": "ejddtcg-_ZtD"
   },
   "outputs": [],
   "source": [
    "cols=new_data.Feature.values"
   ]
  },
  {
   "cell_type": "code",
   "execution_count": 94,
   "metadata": {
    "colab": {
     "base_uri": "https://localhost:8080/",
     "height": 145
    },
    "colab_type": "code",
    "id": "PmUjO5lr_d0g",
    "outputId": "5649aab8-f266-4a46-fc39-ed4f5bbc6622"
   },
   "outputs": [
    {
     "data": {
      "text/plain": [
       "array(['walkDistance', 'killPlace', 'total_distance', 'boosts',\n",
       "       'weaponsAcquired', 'heals', 'rideDistance', 'longestKill',\n",
       "       'killStreaks', 'matchDuration', 'damageDealt', 'kills',\n",
       "       'numGroups', 'player_played', 'maxPlace', 'DBNOs', 'headshotKills',\n",
       "       'assists', 'rankPoints', 'winPoints', 'killPoints', 'swimDistance',\n",
       "       'revives', 'matchType_solo-fpp', 'matchType_squad'], dtype=object)"
      ]
     },
     "execution_count": 94,
     "metadata": {},
     "output_type": "execute_result"
    }
   ],
   "source": [
    "cols\n",
    "# so these are the top 25 set of feature"
   ]
  },
  {
   "cell_type": "markdown",
   "metadata": {
    "colab_type": "text",
    "id": "RauiFZ9A_fRf"
   },
   "source": [
    "So these are the top 25 features and we need to create new model based on these features."
   ]
  },
  {
   "cell_type": "markdown",
   "metadata": {
    "colab_type": "text",
    "id": "g2iOVtwBAHaa"
   },
   "source": [
    "## Recreate the model using sample data."
   ]
  },
  {
   "cell_type": "code",
   "execution_count": 95,
   "metadata": {
    "colab": {},
    "colab_type": "code",
    "id": "-OYgJHf0_qQz"
   },
   "outputs": [],
   "source": [
    "# train and validation data\n",
    "X_train,X_valid,y_train,y_valid=train_test_split(df[cols],y,test_size=0.3,random_state=40)"
   ]
  },
  {
   "cell_type": "code",
   "execution_count": 96,
   "metadata": {
    "colab": {
     "base_uri": "https://localhost:8080/",
     "height": 35
    },
    "colab_type": "code",
    "id": "9LE81mgPAZuq",
    "outputId": "6d87c254-9dc4-4fb7-8d6a-5cd7ef73613b"
   },
   "outputs": [
    {
     "name": "stdout",
     "output_type": "stream",
     "text": [
      "(150000, 25)\n"
     ]
    }
   ],
   "source": [
    "X_train.shape\n",
    "print(X_valid.shape)"
   ]
  },
  {
   "cell_type": "code",
   "execution_count": 97,
   "metadata": {
    "colab": {
     "base_uri": "https://localhost:8080/",
     "height": 35
    },
    "colab_type": "code",
    "id": "QbkE1mpSAtDB",
    "outputId": "c3f91a8e-a811-42b5-dde3-c770927b39c1"
   },
   "outputs": [
    {
     "name": "stdout",
     "output_type": "stream",
     "text": [
      "['mae train: ', 0.03811139365335763, 'mae val: ', 0.06070123073423204]\n"
     ]
    }
   ],
   "source": [
    "m1 = RandomForestRegressor(n_estimators=40, min_samples_leaf=3, max_features='sqrt',\n",
    "                          n_jobs=-1)\n",
    "m1.fit(X_train, y_train)\n",
    "score(m1)"
   ]
  },
  {
   "cell_type": "markdown",
   "metadata": {
    "colab_type": "text",
    "id": "ddfFrFKHCydp"
   },
   "source": [
    "# Now What"
   ]
  },
  {
   "cell_type": "markdown",
   "metadata": {
    "colab_type": "text",
    "id": "DxgffJf5C7GH"
   },
   "source": [
    "You guys must be thinking all seem to be perfectly working . Let's train the model for the complete data.\n",
    "\n",
    "Here the problem came  ,"
   ]
  },
  {
   "cell_type": "markdown",
   "metadata": {
    "colab_type": "text",
    "id": "X0YVD5-eDeNt"
   },
   "source": [
    "Google colab can handle that huge amoung of data for training. Because of tons of calculation is happeining in the backend. Due to which it ran out of memory."
   ]
  },
  {
   "cell_type": "markdown",
   "metadata": {
    "colab_type": "text",
    "id": "8PZLctzVEPqH"
   },
   "source": [
    "We gonna use cloud services . I prefer AWS(amazon web services ) you can choose of your choice.\n"
   ]
  },
  {
   "cell_type": "markdown",
   "metadata": {
    "colab_type": "text",
    "id": "lhhc2pXJTU-R"
   },
   "source": [
    "To learn more about how do we train model in cloud. Checkout the aws model for further training."
   ]
  },
  {
   "cell_type": "markdown",
   "metadata": {
    "colab": {},
    "colab_type": "code",
    "id": "ah4BJUmLbB6p"
   },
   "source": [
    "# Final model training using AWS (Amazon web services)\n"
   ]
  },
  {
   "cell_type": "markdown",
   "metadata": {},
   "source": [
    "![alt text](https://cdn-images-1.medium.com/max/1200/1*tFl-8wQUENETYLjX5mYWuA.png)"
   ]
  },
  {
   "cell_type": "code",
   "execution_count": 100,
   "metadata": {},
   "outputs": [
    {
     "data": {
      "text/plain": [
       "(4443698, 42)"
      ]
     },
     "execution_count": 100,
     "metadata": {},
     "output_type": "execute_result"
    }
   ],
   "source": [
    "y_final=train['winPlacePerc']\n",
    "df_final = train.drop(columns = ['winPlacePerc'])\n",
    "df_final.shape"
   ]
  },
  {
   "cell_type": "code",
   "execution_count": 103,
   "metadata": {},
   "outputs": [],
   "source": [
    "X_train,X_valid,y_train,y_valid=train_test_split(df_final,y_final,test_size=0.3,random_state=40)"
   ]
  },
  {
   "cell_type": "code",
   "execution_count": 104,
   "metadata": {},
   "outputs": [
    {
     "name": "stdout",
     "output_type": "stream",
     "text": [
      "['mae train: ', 0.04040340117365092, 'mae val: ', 0.058943413468435644]\n"
     ]
    }
   ],
   "source": [
    "m1 = RandomForestRegressor(n_estimators=40, min_samples_leaf=3, max_features='sqrt',\n",
    "                          n_jobs=-1)\n",
    "m1.fit(X_train, y_train)\n",
    "score(m1)"
   ]
  },
  {
   "cell_type": "code",
   "execution_count": 105,
   "metadata": {},
   "outputs": [
    {
     "data": {
      "text/plain": [
       "assists                       0\n",
       "boosts                        0\n",
       "damageDealt                   0\n",
       "DBNOs                         0\n",
       "headshotKills                 0\n",
       "heals                         0\n",
       "killPlace                     0\n",
       "killPoints                    0\n",
       "kills                         0\n",
       "killStreaks                   0\n",
       "longestKill                   0\n",
       "matchDuration                 0\n",
       "maxPlace                      0\n",
       "numGroups                     0\n",
       "rankPoints                    0\n",
       "revives                       0\n",
       "rideDistance                  0\n",
       "roadKills                     0\n",
       "swimDistance                  0\n",
       "teamKills                     0\n",
       "vehicleDestroys               0\n",
       "walkDistance                  0\n",
       "weaponsAcquired               0\n",
       "winPoints                     0\n",
       "player_played                 0\n",
       "total_distance                0\n",
       "matchType_crashfpp            0\n",
       "matchType_crashtpp            0\n",
       "matchType_duo                 0\n",
       "matchType_duo-fpp             0\n",
       "matchType_flarefpp            0\n",
       "matchType_flaretpp            0\n",
       "matchType_normal-duo          0\n",
       "matchType_normal-duo-fpp      0\n",
       "matchType_normal-solo         0\n",
       "matchType_normal-solo-fpp     0\n",
       "matchType_normal-squad        0\n",
       "matchType_normal-squad-fpp    0\n",
       "matchType_solo                0\n",
       "matchType_solo-fpp            0\n",
       "matchType_squad               0\n",
       "matchType_squad-fpp           0\n",
       "dtype: int64"
      ]
     },
     "execution_count": 105,
     "metadata": {},
     "output_type": "execute_result"
    }
   ],
   "source": [
    "# Replace all the infnite value from our test data. In Case ?\n",
    "\n",
    "test.replace([np.inf, -np.inf], np.nan)\n",
    "test.isnull().sum()\n"
   ]
  },
  {
   "cell_type": "code",
   "execution_count": 107,
   "metadata": {},
   "outputs": [],
   "source": [
    "predictions = np.clip(a = m1.predict(test), a_min = 0.0, a_max = 1.0)\n",
    "pred_df = pd.DataFrame({'Id' : test_id, 'winPlacePerc' : predictions})\n",
    "\n",
    "# Create submission file\n",
    "pred_df.to_csv(\"submission.csv\", index=False)"
   ]
  },
  {
   "cell_type": "code",
   "execution_count": 108,
   "metadata": {},
   "outputs": [],
   "source": [
    "final_output=pd.read_csv('submission.csv')"
   ]
  },
  {
   "cell_type": "code",
   "execution_count": null,
   "metadata": {},
   "outputs": [],
   "source": [
    "final_output.head()"
   ]
  }
 ],
 "metadata": {
  "accelerator": "GPU",
  "colab": {
   "collapsed_sections": [],
   "name": "PUBG.ipynb",
   "provenance": [],
   "version": "0.3.2"
  },
  "kernelspec": {
   "display_name": "conda_tensorflow_p36",
   "language": "python",
   "name": "conda_tensorflow_p36"
  },
  "language_info": {
   "codemirror_mode": {
    "name": "ipython",
    "version": 3
   },
   "file_extension": ".py",
   "mimetype": "text/x-python",
   "name": "python",
   "nbconvert_exporter": "python",
   "pygments_lexer": "ipython3",
   "version": "3.6.5"
  }
 },
 "nbformat": 4,
 "nbformat_minor": 1
}
