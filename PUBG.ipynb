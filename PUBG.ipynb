{
  "nbformat": 4,
  "nbformat_minor": 0,
  "metadata": {
    "colab": {
      "name": "PUBG.ipynb",
      "version": "0.3.2",
      "provenance": [],
      "collapsed_sections": []
    },
    "kernelspec": {
      "name": "python3",
      "display_name": "Python 3"
    },
    "accelerator": "GPU"
  },
  "cells": [
    {
      "metadata": {
        "id": "XmnwTr1DDKUi",
        "colab_type": "text"
      },
      "cell_type": "markdown",
      "source": [
        "# PUBG\n"
      ]
    },
    {
      "metadata": {
        "id": "JMCSeUaeCMHX",
        "colab_type": "text"
      },
      "cell_type": "markdown",
      "source": [
        "![alt text](https://pubgmobile.proximabeta.com/event/pics/youtubegaming2560_1440.jpg)"
      ]
    },
    {
      "metadata": {
        "id": "lWwEqdHWFNP5",
        "colab_type": "text"
      },
      "cell_type": "markdown",
      "source": [
        "## Outline :  what we will work on.\n",
        "\n",
        "\n",
        "---\n",
        "\n",
        "1. First & most important, How to handle that huge size of data. \n",
        "2. Then we importing this pubg data directly from kaggle to out working space. Without downloading it.\n",
        "3. Third, Preprocessing the train , test data &  check out the available feature set.\n",
        "4. Forth, Take down the deeper insight of Data, Perform exploratory data analysis & feature analysis.\n",
        "5. Finally, We use RandomForest algorithm .  One of the famous algorithm over kaggle. And using RF we creat a pubg Placement model.  Then create a prediction on given test data.\n"
      ]
    },
    {
      "metadata": {
        "id": "rKVOzomRB0VO",
        "colab_type": "code",
        "outputId": "3f6b3fd2-2898-41a5-d6bb-1c6c5e3b1cc3",
        "colab": {
          "base_uri": "https://localhost:8080/",
          "height": 217
        }
      },
      "cell_type": "code",
      "source": [
        "# Intall dependencies\n",
        "# To work with kaggle API, For directly importing the data from kaggle to google colab notebook,\n",
        "\n",
        "!pip install kaggle\n",
        "\n"
      ],
      "execution_count": 1,
      "outputs": [
        {
          "output_type": "stream",
          "text": [
            "Requirement already satisfied: kaggle in /usr/local/lib/python3.6/dist-packages (1.5.1.1)\n",
            "Requirement already satisfied: urllib3<1.23.0,>=1.15 in /usr/local/lib/python3.6/dist-packages (from kaggle) (1.22)\n",
            "Requirement already satisfied: six>=1.10 in /usr/local/lib/python3.6/dist-packages (from kaggle) (1.11.0)\n",
            "Requirement already satisfied: certifi in /usr/local/lib/python3.6/dist-packages (from kaggle) (2018.11.29)\n",
            "Requirement already satisfied: python-dateutil in /usr/local/lib/python3.6/dist-packages (from kaggle) (2.5.3)\n",
            "Requirement already satisfied: requests in /usr/local/lib/python3.6/dist-packages (from kaggle) (2.18.4)\n",
            "Requirement already satisfied: tqdm in /usr/local/lib/python3.6/dist-packages (from kaggle) (4.28.1)\n",
            "Requirement already satisfied: python-slugify in /usr/local/lib/python3.6/dist-packages (from kaggle) (1.2.6)\n",
            "Requirement already satisfied: idna<2.7,>=2.5 in /usr/local/lib/python3.6/dist-packages (from requests->kaggle) (2.6)\n",
            "Requirement already satisfied: chardet<3.1.0,>=3.0.2 in /usr/local/lib/python3.6/dist-packages (from requests->kaggle) (3.0.4)\n",
            "Requirement already satisfied: Unidecode>=0.04.16 in /usr/local/lib/python3.6/dist-packages (from python-slugify->kaggle) (1.0.23)\n"
          ],
          "name": "stdout"
        }
      ]
    },
    {
      "metadata": {
        "id": "gZXzijFJgqcm",
        "colab_type": "code",
        "colab": {}
      },
      "cell_type": "code",
      "source": [
        "# importing basic libraries\n",
        "#numpy # pandas # matplot #seaborn \n",
        "\n",
        "import numpy as np\n",
        "import pandas as pd\n",
        "import matplotlib.pyplot as pld\n",
        "import seaborn as sns\n",
        "\n"
      ],
      "execution_count": 0,
      "outputs": []
    },
    {
      "metadata": {
        "id": "gqqThsLyiQMp",
        "colab_type": "code",
        "outputId": "6dbc933e-19f3-4bbf-82b9-d656d0466824",
        "colab": {
          "resources": {
            "http://localhost:8080/nbextensions/google.colab/files.js": {
              "data": "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",
              "ok": true,
              "headers": [
                [
                  "content-type",
                  "application/javascript"
                ]
              ],
              "status": 200,
              "status_text": ""
            }
          },
          "base_uri": "https://localhost:8080/",
          "height": 91
        }
      },
      "cell_type": "code",
      "source": [
        "# upload the kaggle json file # Kaggle Credential\n",
        "from google.colab import files\n",
        "files.upload()"
      ],
      "execution_count": 3,
      "outputs": [
        {
          "output_type": "display_data",
          "data": {
            "text/html": [
              "\n",
              "     <input type=\"file\" id=\"files-98680524-e285-48f1-b578-42fd02c5b115\" name=\"files[]\" multiple disabled />\n",
              "     <output id=\"result-98680524-e285-48f1-b578-42fd02c5b115\">\n",
              "      Upload widget is only available when the cell has been executed in the\n",
              "      current browser session. Please rerun this cell to enable.\n",
              "      </output>\n",
              "      <script src=\"/nbextensions/google.colab/files.js\"></script> "
            ],
            "text/plain": [
              "<IPython.core.display.HTML object>"
            ]
          },
          "metadata": {
            "tags": []
          }
        },
        {
          "output_type": "stream",
          "text": [
            "Saving kaggle.json to kaggle.json\n"
          ],
          "name": "stdout"
        },
        {
          "output_type": "execute_result",
          "data": {
            "text/plain": [
              "{'kaggle.json': b'{\"username\":\"vin1234\",\"key\":\"929881c20dc9da038e20c07ca1bd7818\"}'}"
            ]
          },
          "metadata": {
            "tags": []
          },
          "execution_count": 3
        }
      ]
    },
    {
      "metadata": {
        "id": "ldoHmeAhvEZa",
        "colab_type": "code",
        "outputId": "c6471c3b-333d-47c3-e431-6f81fb74fa7c",
        "colab": {
          "base_uri": "https://localhost:8080/",
          "height": 35
        }
      },
      "cell_type": "code",
      "source": [
        "# check the file.\n",
        "!ls"
      ],
      "execution_count": 4,
      "outputs": [
        {
          "output_type": "stream",
          "text": [
            "kaggle.json  sample_data\n"
          ],
          "name": "stdout"
        }
      ]
    },
    {
      "metadata": {
        "id": "eHWFY1Z5JO45",
        "colab_type": "text"
      },
      "cell_type": "markdown",
      "source": [
        "Check out the github repo for kaggle api [Kaggle API](https://github.com/Kaggle/kaggle-api)"
      ]
    },
    {
      "metadata": {
        "id": "AzWpGVUbd0wb",
        "colab_type": "code",
        "colab": {}
      },
      "cell_type": "code",
      "source": [
        "# specified by the kaggle\n",
        "# Ensure kaggle.json is in the location ~/.kaggle/kaggle.json to use the API.\n",
        "!mkdir -p ~/.kaggle\n",
        "!cp kaggle.json ~/.kaggle/\n",
        "\n",
        "# Now to secure your credentials. Run a Unix based Command\n",
        "!chmod 600 ~/.kaggle/kaggle.json\n"
      ],
      "execution_count": 0,
      "outputs": []
    },
    {
      "metadata": {
        "id": "4xiS-ECrd1Z5",
        "colab_type": "code",
        "outputId": "30b86e68-b4be-4610-dc05-b74871fd4fd4",
        "colab": {
          "base_uri": "https://localhost:8080/",
          "height": 181
        }
      },
      "cell_type": "code",
      "source": [
        "# Copy the kaggle API paste it here. To directly import the data form kaggle to google colab.\n",
        "\n",
        "!kaggle competitions download -c pubg-finish-placement-prediction"
      ],
      "execution_count": 6,
      "outputs": [
        {
          "output_type": "stream",
          "text": [
            "Downloading sample_submission_V2.csv.zip to /content\n",
            " 30% 5.00M/16.9M [00:00<00:00, 15.4MB/s]\n",
            "100% 16.9M/16.9M [00:00<00:00, 38.1MB/s]\n",
            "Downloading test_V2.csv.zip to /content\n",
            " 91% 89.0M/98.3M [00:03<00:00, 17.5MB/s]\n",
            "100% 98.3M/98.3M [00:03<00:00, 32.5MB/s]\n",
            "Downloading train_V2.csv.zip to /content\n",
            "100% 239M/239M [00:03<00:00, 67.0MB/s]\n",
            "100% 239M/239M [00:04<00:00, 62.3MB/s]\n"
          ],
          "name": "stdout"
        }
      ]
    },
    {
      "metadata": {
        "id": "YrMBCmSvfDgl",
        "colab_type": "code",
        "outputId": "d03f4d8b-ec97-436c-b186-de0d146223e9",
        "colab": {
          "base_uri": "https://localhost:8080/",
          "height": 54
        }
      },
      "cell_type": "code",
      "source": [
        "# check the files.\n",
        "\n",
        "!ls\n"
      ],
      "execution_count": 7,
      "outputs": [
        {
          "output_type": "stream",
          "text": [
            "kaggle.json  sample_submission_V2.csv.zip  train_V2.csv.zip\n",
            "sample_data  test_V2.csv.zip\n"
          ],
          "name": "stdout"
        }
      ]
    },
    {
      "metadata": {
        "id": "y6jDWDfftU0S",
        "colab_type": "code",
        "outputId": "c74983d9-799d-4433-fcb3-da65c459ab0d",
        "colab": {
          "base_uri": "https://localhost:8080/",
          "height": 54
        }
      },
      "cell_type": "code",
      "source": [
        "!unzip train_V2.csv.zip\n"
      ],
      "execution_count": 8,
      "outputs": [
        {
          "output_type": "stream",
          "text": [
            "Archive:  train_V2.csv.zip\n",
            "  inflating: train_V2.csv            \n"
          ],
          "name": "stdout"
        }
      ]
    },
    {
      "metadata": {
        "id": "h6-vq4Z2tuFS",
        "colab_type": "code",
        "outputId": "b1119be6-6079-40ef-8534-f698b547eb08",
        "colab": {
          "base_uri": "https://localhost:8080/",
          "height": 54
        }
      },
      "cell_type": "code",
      "source": [
        "!unzip test_V2.csv.zip"
      ],
      "execution_count": 9,
      "outputs": [
        {
          "output_type": "stream",
          "text": [
            "Archive:  test_V2.csv.zip\n",
            "  inflating: test_V2.csv             \n"
          ],
          "name": "stdout"
        }
      ]
    },
    {
      "metadata": {
        "id": "0oGDJKzCfHg0",
        "colab_type": "code",
        "outputId": "6710090e-83ef-4c3e-f564-0303fe4b1a12",
        "colab": {
          "base_uri": "https://localhost:8080/",
          "height": 54
        }
      },
      "cell_type": "code",
      "source": [
        "# Unzip the train and test file.\n",
        "\n",
        "!ls"
      ],
      "execution_count": 10,
      "outputs": [
        {
          "output_type": "stream",
          "text": [
            "kaggle.json  sample_submission_V2.csv.zip  test_V2.csv.zip  train_V2.csv.zip\n",
            "sample_data  test_V2.csv\t\t   train_V2.csv\n"
          ],
          "name": "stdout"
        }
      ]
    },
    {
      "metadata": {
        "id": "L5GecMlGfHln",
        "colab_type": "code",
        "colab": {}
      },
      "cell_type": "code",
      "source": [
        "# read train and test file.\n",
        "\n",
        "train=pd.read_csv('train_V2.csv')\n",
        "test=pd.read_csv('test_V2.csv')\n"
      ],
      "execution_count": 0,
      "outputs": []
    },
    {
      "metadata": {
        "id": "42nhMaO1vWYB",
        "colab_type": "code",
        "outputId": "562293ba-7a89-4f14-875b-7699dc9ab13e",
        "colab": {
          "base_uri": "https://localhost:8080/",
          "height": 35
        }
      },
      "cell_type": "code",
      "source": [
        "# shape of train data\n",
        "train.head()\n",
        "train.shape"
      ],
      "execution_count": 12,
      "outputs": [
        {
          "output_type": "execute_result",
          "data": {
            "text/plain": [
              "(4446966, 29)"
            ]
          },
          "metadata": {
            "tags": []
          },
          "execution_count": 12
        }
      ]
    },
    {
      "metadata": {
        "id": "7H9LN3XFvzxM",
        "colab_type": "code",
        "outputId": "d916160f-8d01-4c1c-bcb4-a838fdd0408e",
        "colab": {
          "base_uri": "https://localhost:8080/",
          "height": 35
        }
      },
      "cell_type": "code",
      "source": [
        "#shape of test data.\n",
        "test.head()\n",
        "test.shape"
      ],
      "execution_count": 13,
      "outputs": [
        {
          "output_type": "execute_result",
          "data": {
            "text/plain": [
              "(1934174, 28)"
            ]
          },
          "metadata": {
            "tags": []
          },
          "execution_count": 13
        }
      ]
    },
    {
      "metadata": {
        "id": "JzLtdJyAf3U5",
        "colab_type": "code",
        "outputId": "8d37465e-0bae-4884-df6e-11f3605b5738",
        "colab": {
          "base_uri": "https://localhost:8080/",
          "height": 145
        }
      },
      "cell_type": "code",
      "source": [
        "# Columns or features.\n",
        "train.columns\n"
      ],
      "execution_count": 14,
      "outputs": [
        {
          "output_type": "execute_result",
          "data": {
            "text/plain": [
              "Index(['Id', 'groupId', 'matchId', 'assists', 'boosts', 'damageDealt', 'DBNOs',\n",
              "       'headshotKills', 'heals', 'killPlace', 'killPoints', 'kills',\n",
              "       'killStreaks', 'longestKill', 'matchDuration', 'matchType', 'maxPlace',\n",
              "       'numGroups', 'rankPoints', 'revives', 'rideDistance', 'roadKills',\n",
              "       'swimDistance', 'teamKills', 'vehicleDestroys', 'walkDistance',\n",
              "       'weaponsAcquired', 'winPoints', 'winPlacePerc'],\n",
              "      dtype='object')"
            ]
          },
          "metadata": {
            "tags": []
          },
          "execution_count": 14
        }
      ]
    },
    {
      "metadata": {
        "id": "xOc0nlEHfc0_",
        "colab_type": "text"
      },
      "cell_type": "markdown",
      "source": [
        "## Feature set :\n",
        "\n",
        "\n",
        "---\n",
        "\n",
        "Let's talk about availabe feature in the given PubG Data."
      ]
    },
    {
      "metadata": {
        "id": "a0iXx28ffpf0",
        "colab_type": "text"
      },
      "cell_type": "markdown",
      "source": [
        "**Data** fields\n",
        "\n",
        "**DBNOs** - Number of enemy players knocked.\n",
        "\n",
        "**assists** - Number of enemy players this player damaged that were killed by teammates.\n",
        "\n",
        "**boosts** - Number of boost items used.\n",
        "\n",
        "**damageDealt** - Total damage dealt. Note: Self inflicted damage is subtracted.\n",
        "\n",
        "**headshotKills** - Number of enemy players killed with headshots.\n",
        "\n",
        "**heals** - Number of healing items used.\n",
        "\n",
        "**Id** - Player’s Id\n",
        "\n",
        "**killPlace** - Ranking in match of number of enemy players killed.\n",
        "\n",
        "\n",
        "**killPoints **- Kills-based external ranking of player. (Think of this as an Elo ranking where only kills matter.) If there is a value other than -1 in rankPoints, then any 0 in killPoints should be treated as a “None”.\n",
        "\n",
        "\n",
        "**killStreaks** - Max number of enemy players killed in a short amount of time.\n",
        "\n",
        "\n",
        "**kills** - Number of enemy players killed.\n",
        "\n",
        "**longestKill** - Longest distance between player and player killed at time of death. This may be misleading, as downing a player and driving away may lead to a large longestKill stat.\n",
        "\n",
        "\n",
        "**matchDuration** - Duration of match in seconds.\n",
        "\n",
        "**matchId** - ID to identify match. There are no matches that are in both the training and testing set.\n",
        "\n",
        "\n",
        "**matchType **- String identifying the game mode that the data comes from. The standard modes are “solo”, “duo”, “squad”, “solo-fpp”, “duo-fpp”, and “squad-fpp”; other modes are from events or custom matches.\n",
        "\n",
        "**rankPoints **- Elo-like ranking of player. This ranking is inconsistent and is being deprecated in the API’s next version, so use with caution. Value of -1 takes place of “None”.\n",
        "\n",
        "\n",
        "**revives **- Number of times this player revived teammates.\n",
        "\n",
        "**rideDistance** - Total distance traveled in vehicles measured in meters.\n",
        "\n",
        "**roadKills **- Number of kills while in a vehicle.\n",
        "\n",
        "**swimDistance ** Total distance traveled by swimming measured in meters.\n",
        "\n",
        "**teamKills **- Number of times this player killed a teammate.\n",
        "\n",
        "**vehicleDestroys **- Number of vehicles destroyed.\n",
        "\n",
        "**walkDistance **- Total distance traveled on foot measured in meters.\n",
        "\n",
        "**weaponsAcquired **- Number of weapons picked up.\n",
        "\n",
        "**winPoints **- Win-based external ranking of player. (Think of this as an Elo ranking where only winning matters.) If there is a value other than -1 in rankPoints, then any 0 in winPoints should be treated as a “None”.\n",
        "\n",
        "**groupId - ID** to identify a group within a match. If the same group of players plays in different matches, they will have a different groupId each time.\n",
        "\n",
        "**numGroups **- Number of groups we have data for in the match.\n",
        "\n",
        "**maxPlace **- Worst placement we have data for in the match. This may not match with numGroups, as sometimes the data skips over placements.\n",
        "\n",
        "\n",
        "**winPlacePerc **- The target of prediction. This is a percentile winning placement, where 1 corresponds to 1st place, and 0 corresponds to last place in the match. It is calculated off of maxPlace, not numGroups, so it is possible to have missing chunks in a match."
      ]
    },
    {
      "metadata": {
        "id": "35d0eTAcfHoW",
        "colab_type": "code",
        "outputId": "69acb628-bd3f-4de1-96f1-7ef35eed1e48",
        "colab": {
          "base_uri": "https://localhost:8080/",
          "height": 635
        }
      },
      "cell_type": "code",
      "source": [
        "#Summary of a DataFrame. Test|Train\n",
        "\n",
        "train.info()\n"
      ],
      "execution_count": 15,
      "outputs": [
        {
          "output_type": "stream",
          "text": [
            "<class 'pandas.core.frame.DataFrame'>\n",
            "RangeIndex: 4446966 entries, 0 to 4446965\n",
            "Data columns (total 29 columns):\n",
            "Id                 object\n",
            "groupId            object\n",
            "matchId            object\n",
            "assists            int64\n",
            "boosts             int64\n",
            "damageDealt        float64\n",
            "DBNOs              int64\n",
            "headshotKills      int64\n",
            "heals              int64\n",
            "killPlace          int64\n",
            "killPoints         int64\n",
            "kills              int64\n",
            "killStreaks        int64\n",
            "longestKill        float64\n",
            "matchDuration      int64\n",
            "matchType          object\n",
            "maxPlace           int64\n",
            "numGroups          int64\n",
            "rankPoints         int64\n",
            "revives            int64\n",
            "rideDistance       float64\n",
            "roadKills          int64\n",
            "swimDistance       float64\n",
            "teamKills          int64\n",
            "vehicleDestroys    int64\n",
            "walkDistance       float64\n",
            "weaponsAcquired    int64\n",
            "winPoints          int64\n",
            "winPlacePerc       float64\n",
            "dtypes: float64(6), int64(19), object(4)\n",
            "memory usage: 983.9+ MB\n"
          ],
          "name": "stdout"
        }
      ]
    },
    {
      "metadata": {
        "id": "otNznFbzgjgs",
        "colab_type": "code",
        "outputId": "43378058-3d08-4f13-d08e-7f3439bdb4d0",
        "colab": {
          "base_uri": "https://localhost:8080/",
          "height": 617
        }
      },
      "cell_type": "code",
      "source": [
        "#Test data\n",
        "test.info()\n",
        "\n"
      ],
      "execution_count": 16,
      "outputs": [
        {
          "output_type": "stream",
          "text": [
            "<class 'pandas.core.frame.DataFrame'>\n",
            "RangeIndex: 1934174 entries, 0 to 1934173\n",
            "Data columns (total 28 columns):\n",
            "Id                 object\n",
            "groupId            object\n",
            "matchId            object\n",
            "assists            int64\n",
            "boosts             int64\n",
            "damageDealt        float64\n",
            "DBNOs              int64\n",
            "headshotKills      int64\n",
            "heals              int64\n",
            "killPlace          int64\n",
            "killPoints         int64\n",
            "kills              int64\n",
            "killStreaks        int64\n",
            "longestKill        float64\n",
            "matchDuration      int64\n",
            "matchType          object\n",
            "maxPlace           int64\n",
            "numGroups          int64\n",
            "rankPoints         int64\n",
            "revives            int64\n",
            "rideDistance       float64\n",
            "roadKills          int64\n",
            "swimDistance       float64\n",
            "teamKills          int64\n",
            "vehicleDestroys    int64\n",
            "walkDistance       float64\n",
            "weaponsAcquired    int64\n",
            "winPoints          int64\n",
            "dtypes: float64(5), int64(19), object(4)\n",
            "memory usage: 413.2+ MB\n"
          ],
          "name": "stdout"
        }
      ]
    },
    {
      "metadata": {
        "id": "xwDebNjGfHsU",
        "colab_type": "code",
        "outputId": "573daffe-eb0a-4c0c-890b-0ab81744f07b",
        "colab": {
          "base_uri": "https://localhost:8080/",
          "height": 563
        }
      },
      "cell_type": "code",
      "source": [
        "# Check out for the missing value.\n",
        "#train\n",
        "\n",
        "train.isnull().sum()"
      ],
      "execution_count": 17,
      "outputs": [
        {
          "output_type": "execute_result",
          "data": {
            "text/plain": [
              "Id                 0\n",
              "groupId            0\n",
              "matchId            0\n",
              "assists            0\n",
              "boosts             0\n",
              "damageDealt        0\n",
              "DBNOs              0\n",
              "headshotKills      0\n",
              "heals              0\n",
              "killPlace          0\n",
              "killPoints         0\n",
              "kills              0\n",
              "killStreaks        0\n",
              "longestKill        0\n",
              "matchDuration      0\n",
              "matchType          0\n",
              "maxPlace           0\n",
              "numGroups          0\n",
              "rankPoints         0\n",
              "revives            0\n",
              "rideDistance       0\n",
              "roadKills          0\n",
              "swimDistance       0\n",
              "teamKills          0\n",
              "vehicleDestroys    0\n",
              "walkDistance       0\n",
              "weaponsAcquired    0\n",
              "winPoints          0\n",
              "winPlacePerc       1\n",
              "dtype: int64"
            ]
          },
          "metadata": {
            "tags": []
          },
          "execution_count": 17
        }
      ]
    },
    {
      "metadata": {
        "id": "ExAC98Qygs7e",
        "colab_type": "code",
        "outputId": "5769e061-7e1b-4815-9b56-8dba20a536ce",
        "colab": {
          "base_uri": "https://localhost:8080/",
          "height": 545
        }
      },
      "cell_type": "code",
      "source": [
        "#test\n",
        "\n",
        "test.isnull().sum()"
      ],
      "execution_count": 18,
      "outputs": [
        {
          "output_type": "execute_result",
          "data": {
            "text/plain": [
              "Id                 0\n",
              "groupId            0\n",
              "matchId            0\n",
              "assists            0\n",
              "boosts             0\n",
              "damageDealt        0\n",
              "DBNOs              0\n",
              "headshotKills      0\n",
              "heals              0\n",
              "killPlace          0\n",
              "killPoints         0\n",
              "kills              0\n",
              "killStreaks        0\n",
              "longestKill        0\n",
              "matchDuration      0\n",
              "matchType          0\n",
              "maxPlace           0\n",
              "numGroups          0\n",
              "rankPoints         0\n",
              "revives            0\n",
              "rideDistance       0\n",
              "roadKills          0\n",
              "swimDistance       0\n",
              "teamKills          0\n",
              "vehicleDestroys    0\n",
              "walkDistance       0\n",
              "weaponsAcquired    0\n",
              "winPoints          0\n",
              "dtype: int64"
            ]
          },
          "metadata": {
            "tags": []
          },
          "execution_count": 18
        }
      ]
    },
    {
      "metadata": {
        "id": "qBHOaLhSfHw2",
        "colab_type": "code",
        "colab": {}
      },
      "cell_type": "code",
      "source": [
        "# find the missing rows and drop them.\n",
        "train[train.winPlacePerc.isnull()]\n",
        "train.drop(2744604,inplace=True)"
      ],
      "execution_count": 0,
      "outputs": []
    },
    {
      "metadata": {
        "id": "bRFadjj9CoQY",
        "colab_type": "code",
        "outputId": "7d8e00c7-c4a4-4bf3-9e36-a6b447ab46bd",
        "colab": {
          "base_uri": "https://localhost:8080/",
          "height": 563
        }
      },
      "cell_type": "code",
      "source": [
        "train.isnull().sum()"
      ],
      "execution_count": 20,
      "outputs": [
        {
          "output_type": "execute_result",
          "data": {
            "text/plain": [
              "Id                 0\n",
              "groupId            0\n",
              "matchId            0\n",
              "assists            0\n",
              "boosts             0\n",
              "damageDealt        0\n",
              "DBNOs              0\n",
              "headshotKills      0\n",
              "heals              0\n",
              "killPlace          0\n",
              "killPoints         0\n",
              "kills              0\n",
              "killStreaks        0\n",
              "longestKill        0\n",
              "matchDuration      0\n",
              "matchType          0\n",
              "maxPlace           0\n",
              "numGroups          0\n",
              "rankPoints         0\n",
              "revives            0\n",
              "rideDistance       0\n",
              "roadKills          0\n",
              "swimDistance       0\n",
              "teamKills          0\n",
              "vehicleDestroys    0\n",
              "walkDistance       0\n",
              "weaponsAcquired    0\n",
              "winPoints          0\n",
              "winPlacePerc       0\n",
              "dtype: int64"
            ]
          },
          "metadata": {
            "tags": []
          },
          "execution_count": 20
        }
      ]
    },
    {
      "metadata": {
        "id": "8SP-OFcSfH0Q",
        "colab_type": "code",
        "outputId": "70e3544c-1cd1-4280-8511-216c2ec769f9",
        "colab": {
          "base_uri": "https://localhost:8080/",
          "height": 35
        }
      },
      "cell_type": "code",
      "source": [
        "# Number of matches played in each train and test data.\n",
        "#matchId\n",
        "len(train.matchId.unique())\n",
        "\n"
      ],
      "execution_count": 21,
      "outputs": [
        {
          "output_type": "execute_result",
          "data": {
            "text/plain": [
              "47964"
            ]
          },
          "metadata": {
            "tags": []
          },
          "execution_count": 21
        }
      ]
    },
    {
      "metadata": {
        "id": "coMRxT2lDEhV",
        "colab_type": "code",
        "outputId": "551be5e8-8398-4179-89c5-d95f584350f8",
        "colab": {
          "base_uri": "https://localhost:8080/",
          "height": 35
        }
      },
      "cell_type": "code",
      "source": [
        "len(test.matchId.unique())"
      ],
      "execution_count": 22,
      "outputs": [
        {
          "output_type": "execute_result",
          "data": {
            "text/plain": [
              "20556"
            ]
          },
          "metadata": {
            "tags": []
          },
          "execution_count": 22
        }
      ]
    },
    {
      "metadata": {
        "id": "JAQGf4CRfHu1",
        "colab_type": "code",
        "outputId": "429f762c-7f19-4f1f-d3a0-4436d4a5daf1",
        "colab": {
          "base_uri": "https://localhost:8080/",
          "height": 1163
        }
      },
      "cell_type": "code",
      "source": [
        "# Player in each match.\n",
        "# According to the rules of the pubG  Maximum of 100 players can only participate in a match.\n",
        "# Lets find out the number of player participated in each match\n",
        "train.groupby('matchId')['matchId'].count()"
      ],
      "execution_count": 23,
      "outputs": [
        {
          "output_type": "execute_result",
          "data": {
            "text/plain": [
              "matchId\n",
              "0000a43bce5eec     95\n",
              "0000eb01ea6cdd     98\n",
              "0002912fe5ed71     95\n",
              "0003b92987589e    100\n",
              "0006eb8c17708d     93\n",
              "00077604e50a63     98\n",
              "00086c74bb4efc     98\n",
              "00086e740a5804     98\n",
              "001125344b660c     96\n",
              "001360264d4b5f     91\n",
              "0014d9d1b0aff6     94\n",
              "001616ed5da99b     97\n",
              "0016fe3ee17ce7     97\n",
              "00177a6ce4dfb5     92\n",
              "00188d50e054f5     92\n",
              "001937f739426c     95\n",
              "0019bc34b3c58e     97\n",
              "0019d729577e9c     94\n",
              "001cd8e7e6b737     24\n",
              "001e5e4799a31c     92\n",
              "001e7bc06b1611     59\n",
              "001eeedf57047a     99\n",
              "00200fe5d9aae5     99\n",
              "0022adebf59be6     96\n",
              "0022e660571ee8     97\n",
              "00232f9d9c5421     96\n",
              "0025477f88bbd9     94\n",
              "002771bd25fe0e     92\n",
              "0027a504cd3b0c     99\n",
              "0027b1ffb2e346     17\n",
              "                 ... \n",
              "ffdebe280440e8     86\n",
              "ffdf8e9dc18596     98\n",
              "ffdff4a21177ea     92\n",
              "ffe08b9747a59f     94\n",
              "ffe21d8fafaf43     96\n",
              "ffe2a50b7023fb     89\n",
              "ffe2ee39f210ff     92\n",
              "ffe6c9fd39b935     98\n",
              "ffe71c86ca1d81     97\n",
              "ffe7d37a82297b     98\n",
              "ffe94ff48407e7     93\n",
              "ffead5be0b50e8     98\n",
              "ffeaf5f7073d41     89\n",
              "ffeb2131284e45     94\n",
              "ffed6b75ebe4ce     91\n",
              "ffed79cf43d7d7     97\n",
              "ffef306edf6b36     98\n",
              "fff0a2994a6f3a     87\n",
              "fff2c218352941     98\n",
              "fff2dfadd0635e     40\n",
              "fff497dff0186d     90\n",
              "fff4d3cbb6c317    100\n",
              "fffa170cf8ed83     93\n",
              "fffa3a29e38094     93\n",
              "fffb576fad6509     95\n",
              "fffd74b5150cb4     97\n",
              "fffe53015be300     97\n",
              "fffe562611d981     94\n",
              "fffe721f841f85     97\n",
              "fffe92232706aa     93\n",
              "Name: matchId, Length: 47964, dtype: int64"
            ]
          },
          "metadata": {
            "tags": []
          },
          "execution_count": 23
        }
      ]
    },
    {
      "metadata": {
        "id": "BbwXwEBKh50v",
        "colab_type": "code",
        "colab": {}
      },
      "cell_type": "code",
      "source": [
        "# create new feature player_played\n",
        "\n",
        "train['player_played']=train.groupby('matchId')['matchId'].transform('count')\n",
        "\n",
        "\n",
        "# test\n",
        "\n",
        "test['player_played']=test.groupby('matchId')['matchId'].transform('count')\n",
        "\n",
        "\n"
      ],
      "execution_count": 0,
      "outputs": []
    },
    {
      "metadata": {
        "id": "T7m4TnFism5U",
        "colab_type": "text"
      },
      "cell_type": "markdown",
      "source": [
        "## Exploratory Data Analysis (EDA)   "
      ]
    },
    {
      "metadata": {
        "id": "9tkcdBc6iC7V",
        "colab_type": "code",
        "outputId": "6317fa9d-a9dc-40b1-ddc2-64e2d16ab84b",
        "colab": {
          "base_uri": "https://localhost:8080/",
          "height": 572
        }
      },
      "cell_type": "code",
      "source": [
        "#Let's visualize the feature set.\n",
        "\n",
        "import matplotlib.pyplot as plt\n",
        "import seaborn as sns\n",
        "# Plotting matches having player more that 60.\n",
        "plt.subplots(figsize=(15,8))\n",
        "sns.countplot(train[train['player_played']>=60]['player_played'])\n",
        "\n"
      ],
      "execution_count": 25,
      "outputs": [
        {
          "output_type": "stream",
          "text": [
            "/usr/local/lib/python3.6/dist-packages/seaborn/categorical.py:1428: FutureWarning: remove_na is deprecated and is a private function. Do not use.\n",
            "  stat_data = remove_na(group_data)\n"
          ],
          "name": "stderr"
        },
        {
          "output_type": "execute_result",
          "data": {
            "text/plain": [
              "<matplotlib.axes._subplots.AxesSubplot at 0x7fd363965080>"
            ]
          },
          "metadata": {
            "tags": []
          },
          "execution_count": 25
        },
        {
          "output_type": "display_data",
          "data": {
            "image/png": "[encoded data removed]",
            "text/plain": [
              "<matplotlib.figure.Figure at 0x7fd363965ac8>"
            ]
          },
          "metadata": {
            "tags": []
          }
        }
      ]
    },
    {
      "metadata": {
        "id": "QjM9nbWX-lMM",
        "colab_type": "text"
      },
      "cell_type": "markdown",
      "source": [
        "### Outliers Detectors\n",
        "\n",
        "\n",
        "### What are Outliers. \n",
        "Any data point or a set of data point which shows different  behavious compare to the rest of  data set.\n",
        "\n",
        "---\n",
        "\n",
        "\n",
        "\n",
        "![alt text](https://cdn-images-1.medium.com/max/1600/1*TbUF_HTQ6jOhO8EoPnmekQ.jpeg)\n",
        "\n",
        "## Pubg Outliers \n",
        "\n",
        "\n",
        "\n",
        "- According to the rules of the game you need to find the players and then kill them. That's what the basic strategy of the game . \n",
        "- But few people do what they just hide and start their killing streak . But data tells everything.\n",
        "- So we need to scrap out these cheaters."
      ]
    },
    {
      "metadata": {
        "id": "M9faxAa7DkjQ",
        "colab_type": "text"
      },
      "cell_type": "markdown",
      "source": [
        "\n",
        "\n",
        "\n",
        "\n",
        "\n",
        "\n",
        "\n",
        "\n",
        "\n",
        "\n",
        "\n",
        "\n",
        "\n",
        "\n",
        "\n",
        "\n",
        "\n",
        "\n",
        "\n",
        "\n",
        "\n",
        "\n",
        "\n",
        "\n",
        "\n",
        "\n",
        "\n",
        "\n",
        "\n",
        "\n",
        "\n",
        "\n",
        "\n",
        "\n",
        "\n",
        "\n",
        "\n",
        "\n",
        "\n",
        "\n",
        "\n",
        "\n",
        "\n",
        "\n",
        "\n",
        "\n",
        "\n",
        "\n",
        "\n",
        "\n",
        "\n",
        "\n",
        "\n",
        "\n",
        "\n",
        "\n",
        "\n",
        "\n",
        "\n",
        "\n",
        "\n",
        "\n",
        "\n",
        "\n",
        "\n",
        "\n",
        "\n",
        "\n",
        "\n",
        "\n",
        "## Distance Covered \n",
        "\n",
        "---\n",
        "\n",
        "In pubg We have three way to cover a particular distance to reach to a destination.\n",
        "### walkDistance.\n",
        "![alt text](https://blog.turtlebeach.com/wp-content/uploads/2017/04/media_img_1490255446609-1024x576.jpg)\n",
        "\n",
        "### swimDistance\n",
        "\n",
        "![alt text](https://thumbs.gfycat.com/EvenSpiffyFerret-small.gif)\n",
        "\n",
        "### rideDistance \n",
        "\n",
        "![alt text](https://i.ytimg.com/vi/atlOIN_stzI/maxresdefault.jpg)\n",
        "\n",
        " So ingeneral we have three mode.\n",
        " \n",
        "\n"
      ]
    },
    {
      "metadata": {
        "id": "rpLSV0HAiDAS",
        "colab_type": "code",
        "colab": {}
      },
      "cell_type": "code",
      "source": [
        "#rideDistance\n",
        "#walkDistance\n",
        "#swimDistance"
      ],
      "execution_count": 0,
      "outputs": []
    },
    {
      "metadata": {
        "id": "Wp3kKquLIT6d",
        "colab_type": "text"
      },
      "cell_type": "markdown",
      "source": [
        "##  Find the cheaters|Outliers\n",
        "To identify outliers we gonna do what . \n",
        "Create two new features .\n",
        " - Total Distance\n",
        " \n",
        " -  kills without moving"
      ]
    },
    {
      "metadata": {
        "id": "jzW7-8YoiDCz",
        "colab_type": "code",
        "colab": {}
      },
      "cell_type": "code",
      "source": [
        "#total_distance   #train.\n",
        "train['total_distance']=train.rideDistance+train.walkDistance+train.swimDistance\n"
      ],
      "execution_count": 0,
      "outputs": []
    },
    {
      "metadata": {
        "id": "0wD_9Lq3x5Yo",
        "colab_type": "code",
        "colab": {}
      },
      "cell_type": "code",
      "source": [
        "# total distance  #test\n",
        "test['total_distance']=test.rideDistance+test.walkDistance+test.swimDistance"
      ],
      "execution_count": 0,
      "outputs": []
    },
    {
      "metadata": {
        "id": "nwMT_wGgiDHy",
        "colab_type": "code",
        "colab": {}
      },
      "cell_type": "code",
      "source": [
        "# kills_without_moving\n",
        "\n",
        "#kills\n",
        "#total_distance\n",
        "\n",
        "#train\n",
        "train['kills_without_moving']=((train['kills']>0)&(train['total_distance']==0))\n",
        "\n",
        "#test\n",
        "test['kills_without_moving']=((test['kills']>0)&(test['total_distance']==0))\n"
      ],
      "execution_count": 0,
      "outputs": []
    },
    {
      "metadata": {
        "id": "wDrxzDyXJXF4",
        "colab_type": "text"
      },
      "cell_type": "markdown",
      "source": [
        "Now we drop all those players who have kills the they didn't cover the some least distance."
      ]
    },
    {
      "metadata": {
        "id": "0BLibRpbiDLP",
        "colab_type": "code",
        "outputId": "a685580e-83a7-4db2-f9c6-89d4d8b285c4",
        "colab": {
          "base_uri": "https://localhost:8080/",
          "height": 72
        }
      },
      "cell_type": "code",
      "source": [
        "# find the count.\n",
        "train['kills_without_moving'].value_counts()\n"
      ],
      "execution_count": 30,
      "outputs": [
        {
          "output_type": "execute_result",
          "data": {
            "text/plain": [
              "False    4445430\n",
              "True        1535\n",
              "Name: kills_without_moving, dtype: int64"
            ]
          },
          "metadata": {
            "tags": []
          },
          "execution_count": 30
        }
      ]
    },
    {
      "metadata": {
        "id": "cIuulo2xzQHp",
        "colab_type": "code",
        "outputId": "c2292a96-8189-4cb0-ce60-e5930ef6266d",
        "colab": {
          "base_uri": "https://localhost:8080/",
          "height": 72
        }
      },
      "cell_type": "code",
      "source": [
        "# find the count for test data.\n",
        "\n",
        "test['kills_without_moving'].value_counts()"
      ],
      "execution_count": 31,
      "outputs": [
        {
          "output_type": "execute_result",
          "data": {
            "text/plain": [
              "False    1933863\n",
              "True         311\n",
              "Name: kills_without_moving, dtype: int64"
            ]
          },
          "metadata": {
            "tags": []
          },
          "execution_count": 31
        }
      ]
    },
    {
      "metadata": {
        "id": "WQtpziEEzDnc",
        "colab_type": "text"
      },
      "cell_type": "markdown",
      "source": [
        "So there are 1535 outliers in train data and 311 outliers in test data .\n",
        "\n"
      ]
    },
    {
      "metadata": {
        "id": "hUETMqKOiDOY",
        "colab_type": "code",
        "colab": {}
      },
      "cell_type": "code",
      "source": [
        "# drop them.\n",
        "\n",
        "train.drop(train[train['kills_without_moving']==True].index,inplace=True)\n",
        "\n",
        "\n",
        "test.drop(test[test['kills_without_moving']==True].index,inplace=True)\n"
      ],
      "execution_count": 0,
      "outputs": []
    },
    {
      "metadata": {
        "id": "xSzbh3MsLIjS",
        "colab_type": "text"
      },
      "cell_type": "markdown",
      "source": [
        "Now let's work on the given feature set of train and test data."
      ]
    },
    {
      "metadata": {
        "id": "lrX4eym3Kr2u",
        "colab_type": "text"
      },
      "cell_type": "markdown",
      "source": [
        "**roadKills** - Number of kills while in a vehicle."
      ]
    },
    {
      "metadata": {
        "id": "lyN_pkaaiDSy",
        "colab_type": "code",
        "outputId": "00eb0870-7362-410c-b086-90416b9f6933",
        "colab": {
          "base_uri": "https://localhost:8080/",
          "height": 290
        }
      },
      "cell_type": "code",
      "source": [
        "# roadKills count\n",
        "\n",
        "\n",
        "train['roadKills'].value_counts()\n",
        "\n",
        "\n"
      ],
      "execution_count": 33,
      "outputs": [
        {
          "output_type": "execute_result",
          "data": {
            "text/plain": [
              "0     4432434\n",
              "1       11247\n",
              "2        1298\n",
              "3         297\n",
              "4          72\n",
              "5          36\n",
              "6          20\n",
              "7          11\n",
              "8           7\n",
              "11          2\n",
              "10          2\n",
              "9           2\n",
              "18          1\n",
              "14          1\n",
              "Name: roadKills, dtype: int64"
            ]
          },
          "metadata": {
            "tags": []
          },
          "execution_count": 33
        }
      ]
    },
    {
      "metadata": {
        "id": "VQTH7Y0viDaQ",
        "colab_type": "code",
        "colab": {}
      },
      "cell_type": "code",
      "source": [
        "# see most of the player have kills from  zero to 10 \n",
        "# so to remove the outliers from our data we drop all the player who have more than 10 roadkills.\n",
        "\n"
      ],
      "execution_count": 0,
      "outputs": []
    },
    {
      "metadata": {
        "id": "BdTuRQAm0dFe",
        "colab_type": "code",
        "colab": {}
      },
      "cell_type": "code",
      "source": [
        "# drop all the road kills above 10\n",
        "\n",
        "\n",
        "#test\n",
        "\n",
        "train.drop(train[train['roadKills']>=10].index,inplace=True)\n",
        "\n",
        "#test \n",
        "\n",
        "test.drop(test[test['roadKills']>=10].index,inplace=True)"
      ],
      "execution_count": 0,
      "outputs": []
    },
    {
      "metadata": {
        "id": "77IR5QbILY6o",
        "colab_type": "text"
      },
      "cell_type": "markdown",
      "source": [
        "**kills** - Number of enemy players killed."
      ]
    },
    {
      "metadata": {
        "id": "XrJBBK8JiDmA",
        "colab_type": "code",
        "outputId": "cec3a3f3-99f6-4210-e685-ce2608a1b883",
        "colab": {
          "base_uri": "https://localhost:8080/",
          "height": 1090
        }
      },
      "cell_type": "code",
      "source": [
        "# kills count\n",
        "\n",
        "train['kills'].value_counts()"
      ],
      "execution_count": 35,
      "outputs": [
        {
          "output_type": "execute_result",
          "data": {
            "text/plain": [
              "0     2529721\n",
              "1      927648\n",
              "2      472291\n",
              "3      232280\n",
              "4      124414\n",
              "5       66480\n",
              "6       37867\n",
              "7       21744\n",
              "8       12716\n",
              "9        7581\n",
              "10       4562\n",
              "11       2756\n",
              "12       1726\n",
              "13       1108\n",
              "14        742\n",
              "15        468\n",
              "16        319\n",
              "17        226\n",
              "18        159\n",
              "19        105\n",
              "20         94\n",
              "22         74\n",
              "21         61\n",
              "23         40\n",
              "24         40\n",
              "26         24\n",
              "25         24\n",
              "28         22\n",
              "27         15\n",
              "33         12\n",
              "29         11\n",
              "30         11\n",
              "31         11\n",
              "35          6\n",
              "36          6\n",
              "38          6\n",
              "34          5\n",
              "37          5\n",
              "41          5\n",
              "53          4\n",
              "32          4\n",
              "39          4\n",
              "40          4\n",
              "42          3\n",
              "43          2\n",
              "44          2\n",
              "46          2\n",
              "55          2\n",
              "56          2\n",
              "57          2\n",
              "45          1\n",
              "47          1\n",
              "48          1\n",
              "49          1\n",
              "50          1\n",
              "66          1\n",
              "65          1\n",
              "72          1\n",
              "Name: kills, dtype: int64"
            ]
          },
          "metadata": {
            "tags": []
          },
          "execution_count": 35
        }
      ]
    },
    {
      "metadata": {
        "id": "ONaYjDQt06Td",
        "colab_type": "code",
        "outputId": "842af6f7-4da1-4110-f7cc-1d2ad17cffb1",
        "colab": {
          "base_uri": "https://localhost:8080/",
          "height": 872
        }
      },
      "cell_type": "code",
      "source": [
        "#test\n",
        "test['kills'].value_counts()"
      ],
      "execution_count": 36,
      "outputs": [
        {
          "output_type": "execute_result",
          "data": {
            "text/plain": [
              "0     1099421\n",
              "1      404819\n",
              "2      206319\n",
              "3      101149\n",
              "4       54100\n",
              "5       28877\n",
              "6       16468\n",
              "7        9262\n",
              "8        5278\n",
              "9        3281\n",
              "10       1902\n",
              "11       1155\n",
              "12        673\n",
              "13        417\n",
              "14        230\n",
              "15        150\n",
              "16        119\n",
              "17         71\n",
              "18         37\n",
              "19         33\n",
              "20         21\n",
              "22         11\n",
              "30         11\n",
              "21          8\n",
              "24          8\n",
              "23          5\n",
              "25          5\n",
              "26          4\n",
              "28          3\n",
              "31          3\n",
              "32          2\n",
              "37          2\n",
              "36          2\n",
              "33          2\n",
              "56          1\n",
              "34          1\n",
              "29          1\n",
              "27          1\n",
              "40          1\n",
              "41          1\n",
              "43          1\n",
              "46          1\n",
              "47          1\n",
              "52          1\n",
              "55          1\n",
              "58          1\n",
              "Name: kills, dtype: int64"
            ]
          },
          "metadata": {
            "tags": []
          },
          "execution_count": 36
        }
      ]
    },
    {
      "metadata": {
        "id": "vvcA92jBiDrz",
        "colab_type": "code",
        "outputId": "d7ac5786-548b-490a-86cd-d5913d8e9c23",
        "colab": {
          "base_uri": "https://localhost:8080/",
          "height": 569
        }
      },
      "cell_type": "code",
      "source": [
        "#Plot the kills data.\n",
        "\n",
        "plt.subplots(figsize=(15,8))\n",
        "sns.countplot(data=train,x=train['kills'])\n",
        "plt.title('Kills')\n",
        "plt.show()"
      ],
      "execution_count": 37,
      "outputs": [
        {
          "output_type": "stream",
          "text": [
            "/usr/local/lib/python3.6/dist-packages/seaborn/categorical.py:1428: FutureWarning: remove_na is deprecated and is a private function. Do not use.\n",
            "  stat_data = remove_na(group_data)\n"
          ],
          "name": "stderr"
        },
        {
          "output_type": "display_data",
          "data": {
            "image/png": "[encoded data removed]",
            "text/plain": [
              "<matplotlib.figure.Figure at 0x7fd355102048>"
            ]
          },
          "metadata": {
            "tags": []
          }
        }
      ]
    },
    {
      "metadata": {
        "id": "-crg3Do6L4AO",
        "colab_type": "text"
      },
      "cell_type": "markdown",
      "source": [
        "See players who kills more that 35 are pretty rare so they all act as outliners. so lets drop all of them"
      ]
    },
    {
      "metadata": {
        "id": "Jdzy7GaviDhZ",
        "colab_type": "code",
        "colab": {}
      },
      "cell_type": "code",
      "source": [
        "# drop the outliers.\n",
        "\n",
        "#train\n",
        "train.drop(train[train['kills']>=35].index,inplace=True)\n",
        "\n",
        "#test\n",
        "\n",
        "test.drop(test[test['kills']>=35].index,inplace=True)"
      ],
      "execution_count": 0,
      "outputs": []
    },
    {
      "metadata": {
        "id": "8GPIFKbHOvLB",
        "colab_type": "text"
      },
      "cell_type": "markdown",
      "source": [
        "## Should we remove all these outliers from our dataset or not what's your take on that."
      ]
    },
    {
      "metadata": {
        "id": "nwJIKoXiO63K",
        "colab_type": "text"
      },
      "cell_type": "markdown",
      "source": [
        "In DataScience their is no predefined strategy . Where you can say for sure this is the right way to do it.  All of us have different way, different methods and differnet openion.\n",
        "\n",
        "\n",
        "--------------------------------\n",
        "\n",
        "According to me in that particular case we have a millions of rows , So we can afford to loose few thousand . If it helps to create a better model."
      ]
    },
    {
      "metadata": {
        "id": "ilP1IirHPKcp",
        "colab_type": "text"
      },
      "cell_type": "markdown",
      "source": [
        ".\n",
        "\n",
        "\n",
        "\n",
        "**longestKill** - Longest distance between player and player killed at time of death. This may be misleading, as downing a player and driving away may lead to a large longestKill stat"
      ]
    },
    {
      "metadata": {
        "id": "Gv6t8nVriDfl",
        "colab_type": "code",
        "outputId": "e6ec7674-238b-4c61-c70c-28aa1f5d7cb6",
        "colab": {
          "base_uri": "https://localhost:8080/",
          "height": 515
        }
      },
      "cell_type": "code",
      "source": [
        "#longetKill \n",
        "#distplot\n",
        "plt.subplots(figsize=(15,8))\n",
        "sns.distplot(train['longestKill'],bins=20)\n"
      ],
      "execution_count": 39,
      "outputs": [
        {
          "output_type": "execute_result",
          "data": {
            "text/plain": [
              "<matplotlib.axes._subplots.AxesSubplot at 0x7fd35502e048>"
            ]
          },
          "metadata": {
            "tags": []
          },
          "execution_count": 39
        },
        {
          "output_type": "display_data",
          "data": {
            "image/png": "[encoded data removed]",
            "text/plain": [
              "<matplotlib.figure.Figure at 0x7fd3563b4f60>"
            ]
          },
          "metadata": {
            "tags": []
          }
        }
      ]
    },
    {
      "metadata": {
        "id": "XwQuzayHQCSW",
        "colab_type": "text"
      },
      "cell_type": "markdown",
      "source": [
        "Most kills are made from a distance of 100 meters or closer. There are however some outliers who make a kill from more than 1km away. This is probably done by cheaters."
      ]
    },
    {
      "metadata": {
        "id": "5H982EG_3yc8",
        "colab_type": "text"
      },
      "cell_type": "markdown",
      "source": [
        ""
      ]
    },
    {
      "metadata": {
        "id": "GzuDatpz41nH",
        "colab_type": "code",
        "outputId": "b63a905b-b7b7-4d05-a65e-021d5a04457a",
        "colab": {
          "base_uri": "https://localhost:8080/",
          "height": 697
        }
      },
      "cell_type": "code",
      "source": [
        "# Let's take a look at the players who make these shots. \n",
        "train[train['longestKill']>=1000]"
      ],
      "execution_count": 40,
      "outputs": [
        {
          "output_type": "execute_result",
          "data": {
            "text/html": [
              "<div>\n",
              "<style scoped>\n",
              "    .dataframe tbody tr th:only-of-type {\n",
              "        vertical-align: middle;\n",
              "    }\n",
              "\n",
              "    .dataframe tbody tr th {\n",
              "        vertical-align: top;\n",
              "    }\n",
              "\n",
              "    .dataframe thead th {\n",
              "        text-align: right;\n",
              "    }\n",
              "</style>\n",
              "<table border=\"1\" class=\"dataframe\">\n",
              "  <thead>\n",
              "    <tr style=\"text-align: right;\">\n",
              "      <th></th>\n",
              "      <th>Id</th>\n",
              "      <th>groupId</th>\n",
              "      <th>matchId</th>\n",
              "      <th>assists</th>\n",
              "      <th>boosts</th>\n",
              "      <th>damageDealt</th>\n",
              "      <th>DBNOs</th>\n",
              "      <th>headshotKills</th>\n",
              "      <th>heals</th>\n",
              "      <th>killPlace</th>\n",
              "      <th>...</th>\n",
              "      <th>swimDistance</th>\n",
              "      <th>teamKills</th>\n",
              "      <th>vehicleDestroys</th>\n",
              "      <th>walkDistance</th>\n",
              "      <th>weaponsAcquired</th>\n",
              "      <th>winPoints</th>\n",
              "      <th>winPlacePerc</th>\n",
              "      <th>player_played</th>\n",
              "      <th>total_distance</th>\n",
              "      <th>kills_without_moving</th>\n",
              "    </tr>\n",
              "  </thead>\n",
              "  <tbody>\n",
              "    <tr>\n",
              "      <th>202281</th>\n",
              "      <td>88e2af7d78af5a</td>\n",
              "      <td>34ddeede52c042</td>\n",
              "      <td>4346bc63bc67fa</td>\n",
              "      <td>0</td>\n",
              "      <td>3</td>\n",
              "      <td>783.9</td>\n",
              "      <td>5</td>\n",
              "      <td>1</td>\n",
              "      <td>1</td>\n",
              "      <td>5</td>\n",
              "      <td>...</td>\n",
              "      <td>0.00</td>\n",
              "      <td>0</td>\n",
              "      <td>1</td>\n",
              "      <td>3052.00</td>\n",
              "      <td>9</td>\n",
              "      <td>0</td>\n",
              "      <td>0.9231</td>\n",
              "      <td>88</td>\n",
              "      <td>3775.20</td>\n",
              "      <td>False</td>\n",
              "    </tr>\n",
              "    <tr>\n",
              "      <th>240005</th>\n",
              "      <td>41c2f5c0699807</td>\n",
              "      <td>9faecf87ab4275</td>\n",
              "      <td>634edab75860b3</td>\n",
              "      <td>5</td>\n",
              "      <td>0</td>\n",
              "      <td>1284.0</td>\n",
              "      <td>8</td>\n",
              "      <td>5</td>\n",
              "      <td>7</td>\n",
              "      <td>18</td>\n",
              "      <td>...</td>\n",
              "      <td>0.00</td>\n",
              "      <td>0</td>\n",
              "      <td>0</td>\n",
              "      <td>48.87</td>\n",
              "      <td>38</td>\n",
              "      <td>1500</td>\n",
              "      <td>0.5385</td>\n",
              "      <td>29</td>\n",
              "      <td>48.87</td>\n",
              "      <td>False</td>\n",
              "    </tr>\n",
              "    <tr>\n",
              "      <th>324313</th>\n",
              "      <td>ef390c152bcc3d</td>\n",
              "      <td>30fd444be3bbc1</td>\n",
              "      <td>4f7f8d6cf558b4</td>\n",
              "      <td>2</td>\n",
              "      <td>0</td>\n",
              "      <td>1028.0</td>\n",
              "      <td>0</td>\n",
              "      <td>0</td>\n",
              "      <td>0</td>\n",
              "      <td>9</td>\n",
              "      <td>...</td>\n",
              "      <td>0.00</td>\n",
              "      <td>0</td>\n",
              "      <td>0</td>\n",
              "      <td>1264.00</td>\n",
              "      <td>26</td>\n",
              "      <td>0</td>\n",
              "      <td>1.0000</td>\n",
              "      <td>51</td>\n",
              "      <td>2981.00</td>\n",
              "      <td>False</td>\n",
              "    </tr>\n",
              "    <tr>\n",
              "      <th>656553</th>\n",
              "      <td>9948b058562163</td>\n",
              "      <td>c8cb8491112bf6</td>\n",
              "      <td>0104eeb664494d</td>\n",
              "      <td>6</td>\n",
              "      <td>0</td>\n",
              "      <td>1410.0</td>\n",
              "      <td>17</td>\n",
              "      <td>5</td>\n",
              "      <td>0</td>\n",
              "      <td>3</td>\n",
              "      <td>...</td>\n",
              "      <td>0.00</td>\n",
              "      <td>0</td>\n",
              "      <td>0</td>\n",
              "      <td>29.21</td>\n",
              "      <td>30</td>\n",
              "      <td>1500</td>\n",
              "      <td>0.6000</td>\n",
              "      <td>41</td>\n",
              "      <td>29.21</td>\n",
              "      <td>False</td>\n",
              "    </tr>\n",
              "    <tr>\n",
              "      <th>803632</th>\n",
              "      <td>4e7e6c74e3c57d</td>\n",
              "      <td>94698690918933</td>\n",
              "      <td>da91b0c3d875f8</td>\n",
              "      <td>0</td>\n",
              "      <td>0</td>\n",
              "      <td>196.8</td>\n",
              "      <td>0</td>\n",
              "      <td>0</td>\n",
              "      <td>0</td>\n",
              "      <td>51</td>\n",
              "      <td>...</td>\n",
              "      <td>0.00</td>\n",
              "      <td>0</td>\n",
              "      <td>0</td>\n",
              "      <td>1074.00</td>\n",
              "      <td>22</td>\n",
              "      <td>0</td>\n",
              "      <td>0.0000</td>\n",
              "      <td>61</td>\n",
              "      <td>3159.00</td>\n",
              "      <td>False</td>\n",
              "    </tr>\n",
              "    <tr>\n",
              "      <th>895411</th>\n",
              "      <td>1f5ba6e0cfb968</td>\n",
              "      <td>512ea24b831be3</td>\n",
              "      <td>5fb0d8b1fc16cf</td>\n",
              "      <td>4</td>\n",
              "      <td>0</td>\n",
              "      <td>1012.0</td>\n",
              "      <td>11</td>\n",
              "      <td>5</td>\n",
              "      <td>0</td>\n",
              "      <td>5</td>\n",
              "      <td>...</td>\n",
              "      <td>0.00</td>\n",
              "      <td>0</td>\n",
              "      <td>0</td>\n",
              "      <td>569.50</td>\n",
              "      <td>18</td>\n",
              "      <td>0</td>\n",
              "      <td>0.9091</td>\n",
              "      <td>86</td>\n",
              "      <td>569.50</td>\n",
              "      <td>False</td>\n",
              "    </tr>\n",
              "    <tr>\n",
              "      <th>1172437</th>\n",
              "      <td>303a93cfa1f46c</td>\n",
              "      <td>8795d39fd0df86</td>\n",
              "      <td>9c8962b58bb3e3</td>\n",
              "      <td>2</td>\n",
              "      <td>1</td>\n",
              "      <td>329.3</td>\n",
              "      <td>0</td>\n",
              "      <td>0</td>\n",
              "      <td>2</td>\n",
              "      <td>45</td>\n",
              "      <td>...</td>\n",
              "      <td>0.00</td>\n",
              "      <td>0</td>\n",
              "      <td>0</td>\n",
              "      <td>832.50</td>\n",
              "      <td>9</td>\n",
              "      <td>1500</td>\n",
              "      <td>0.2857</td>\n",
              "      <td>58</td>\n",
              "      <td>832.50</td>\n",
              "      <td>False</td>\n",
              "    </tr>\n",
              "    <tr>\n",
              "      <th>1209416</th>\n",
              "      <td>528659ff1c1aec</td>\n",
              "      <td>7d1ba83423551d</td>\n",
              "      <td>ea9386587d5888</td>\n",
              "      <td>0</td>\n",
              "      <td>6</td>\n",
              "      <td>1640.0</td>\n",
              "      <td>0</td>\n",
              "      <td>7</td>\n",
              "      <td>0</td>\n",
              "      <td>1</td>\n",
              "      <td>...</td>\n",
              "      <td>0.00</td>\n",
              "      <td>0</td>\n",
              "      <td>0</td>\n",
              "      <td>2848.00</td>\n",
              "      <td>4</td>\n",
              "      <td>1500</td>\n",
              "      <td>0.9412</td>\n",
              "      <td>52</td>\n",
              "      <td>2848.00</td>\n",
              "      <td>False</td>\n",
              "    </tr>\n",
              "    <tr>\n",
              "      <th>1642712</th>\n",
              "      <td>91966848e08e2f</td>\n",
              "      <td>0ee4fbd27657c9</td>\n",
              "      <td>17dea22cefe62a</td>\n",
              "      <td>3</td>\n",
              "      <td>2</td>\n",
              "      <td>2103.0</td>\n",
              "      <td>0</td>\n",
              "      <td>4</td>\n",
              "      <td>11</td>\n",
              "      <td>11</td>\n",
              "      <td>...</td>\n",
              "      <td>0.00</td>\n",
              "      <td>0</td>\n",
              "      <td>0</td>\n",
              "      <td>235.30</td>\n",
              "      <td>41</td>\n",
              "      <td>0</td>\n",
              "      <td>0.5000</td>\n",
              "      <td>28</td>\n",
              "      <td>235.30</td>\n",
              "      <td>False</td>\n",
              "    </tr>\n",
              "    <tr>\n",
              "      <th>2015559</th>\n",
              "      <td>5ff0c1a9fab2ba</td>\n",
              "      <td>2d8119b1544f87</td>\n",
              "      <td>904cecf36217df</td>\n",
              "      <td>3</td>\n",
              "      <td>3</td>\n",
              "      <td>1302.0</td>\n",
              "      <td>0</td>\n",
              "      <td>6</td>\n",
              "      <td>5</td>\n",
              "      <td>15</td>\n",
              "      <td>...</td>\n",
              "      <td>0.00</td>\n",
              "      <td>0</td>\n",
              "      <td>0</td>\n",
              "      <td>133.20</td>\n",
              "      <td>43</td>\n",
              "      <td>0</td>\n",
              "      <td>0.6000</td>\n",
              "      <td>42</td>\n",
              "      <td>133.20</td>\n",
              "      <td>False</td>\n",
              "    </tr>\n",
              "    <tr>\n",
              "      <th>2122128</th>\n",
              "      <td>42df3102cb540b</td>\n",
              "      <td>7d9b2be15b355b</td>\n",
              "      <td>610d78f3affd2e</td>\n",
              "      <td>5</td>\n",
              "      <td>0</td>\n",
              "      <td>2500.0</td>\n",
              "      <td>0</td>\n",
              "      <td>7</td>\n",
              "      <td>1</td>\n",
              "      <td>2</td>\n",
              "      <td>...</td>\n",
              "      <td>0.00</td>\n",
              "      <td>2</td>\n",
              "      <td>0</td>\n",
              "      <td>464.50</td>\n",
              "      <td>52</td>\n",
              "      <td>0</td>\n",
              "      <td>0.0000</td>\n",
              "      <td>10</td>\n",
              "      <td>464.50</td>\n",
              "      <td>False</td>\n",
              "    </tr>\n",
              "    <tr>\n",
              "      <th>2152425</th>\n",
              "      <td>4b9f61bac5eb0a</td>\n",
              "      <td>bc717b964f3bbe</td>\n",
              "      <td>838cb9a3c94598</td>\n",
              "      <td>3</td>\n",
              "      <td>0</td>\n",
              "      <td>945.4</td>\n",
              "      <td>0</td>\n",
              "      <td>0</td>\n",
              "      <td>0</td>\n",
              "      <td>11</td>\n",
              "      <td>...</td>\n",
              "      <td>0.00</td>\n",
              "      <td>0</td>\n",
              "      <td>0</td>\n",
              "      <td>844.70</td>\n",
              "      <td>14</td>\n",
              "      <td>0</td>\n",
              "      <td>0.5714</td>\n",
              "      <td>60</td>\n",
              "      <td>844.70</td>\n",
              "      <td>False</td>\n",
              "    </tr>\n",
              "    <tr>\n",
              "      <th>2592718</th>\n",
              "      <td>24e0fec84c18e9</td>\n",
              "      <td>8404855ca02e48</td>\n",
              "      <td>e886a8ebb702cf</td>\n",
              "      <td>7</td>\n",
              "      <td>0</td>\n",
              "      <td>1684.0</td>\n",
              "      <td>0</td>\n",
              "      <td>4</td>\n",
              "      <td>7</td>\n",
              "      <td>11</td>\n",
              "      <td>...</td>\n",
              "      <td>0.00</td>\n",
              "      <td>0</td>\n",
              "      <td>0</td>\n",
              "      <td>1115.00</td>\n",
              "      <td>54</td>\n",
              "      <td>1500</td>\n",
              "      <td>0.5714</td>\n",
              "      <td>26</td>\n",
              "      <td>4851.00</td>\n",
              "      <td>False</td>\n",
              "    </tr>\n",
              "    <tr>\n",
              "      <th>2981715</th>\n",
              "      <td>7f77051c7cef52</td>\n",
              "      <td>d6579a630399b5</td>\n",
              "      <td>4784f7d9a06b51</td>\n",
              "      <td>3</td>\n",
              "      <td>5</td>\n",
              "      <td>1025.0</td>\n",
              "      <td>5</td>\n",
              "      <td>2</td>\n",
              "      <td>5</td>\n",
              "      <td>2</td>\n",
              "      <td>...</td>\n",
              "      <td>87.96</td>\n",
              "      <td>0</td>\n",
              "      <td>0</td>\n",
              "      <td>3998.00</td>\n",
              "      <td>7</td>\n",
              "      <td>0</td>\n",
              "      <td>1.0000</td>\n",
              "      <td>93</td>\n",
              "      <td>4085.96</td>\n",
              "      <td>False</td>\n",
              "    </tr>\n",
              "    <tr>\n",
              "      <th>3081503</th>\n",
              "      <td>f19a76e8d7ac52</td>\n",
              "      <td>624d65c529f87c</td>\n",
              "      <td>de19b70121c40f</td>\n",
              "      <td>3</td>\n",
              "      <td>0</td>\n",
              "      <td>1038.0</td>\n",
              "      <td>0</td>\n",
              "      <td>0</td>\n",
              "      <td>0</td>\n",
              "      <td>32</td>\n",
              "      <td>...</td>\n",
              "      <td>0.00</td>\n",
              "      <td>0</td>\n",
              "      <td>0</td>\n",
              "      <td>270.00</td>\n",
              "      <td>28</td>\n",
              "      <td>1500</td>\n",
              "      <td>0.8571</td>\n",
              "      <td>57</td>\n",
              "      <td>270.00</td>\n",
              "      <td>False</td>\n",
              "    </tr>\n",
              "    <tr>\n",
              "      <th>3255171</th>\n",
              "      <td>5524c154448425</td>\n",
              "      <td>674195558ad41b</td>\n",
              "      <td>db6f6d1f0d4904</td>\n",
              "      <td>1</td>\n",
              "      <td>0</td>\n",
              "      <td>1355.0</td>\n",
              "      <td>0</td>\n",
              "      <td>2</td>\n",
              "      <td>0</td>\n",
              "      <td>9</td>\n",
              "      <td>...</td>\n",
              "      <td>0.00</td>\n",
              "      <td>1</td>\n",
              "      <td>0</td>\n",
              "      <td>1039.00</td>\n",
              "      <td>37</td>\n",
              "      <td>0</td>\n",
              "      <td>0.5789</td>\n",
              "      <td>21</td>\n",
              "      <td>1039.00</td>\n",
              "      <td>False</td>\n",
              "    </tr>\n",
              "    <tr>\n",
              "      <th>3304284</th>\n",
              "      <td>d0c286ce498e17</td>\n",
              "      <td>17fdd45e612bab</td>\n",
              "      <td>3eaaa2f7a360fe</td>\n",
              "      <td>7</td>\n",
              "      <td>0</td>\n",
              "      <td>2330.0</td>\n",
              "      <td>0</td>\n",
              "      <td>2</td>\n",
              "      <td>0</td>\n",
              "      <td>2</td>\n",
              "      <td>...</td>\n",
              "      <td>0.00</td>\n",
              "      <td>1</td>\n",
              "      <td>0</td>\n",
              "      <td>68.02</td>\n",
              "      <td>32</td>\n",
              "      <td>0</td>\n",
              "      <td>1.0000</td>\n",
              "      <td>53</td>\n",
              "      <td>68.02</td>\n",
              "      <td>False</td>\n",
              "    </tr>\n",
              "    <tr>\n",
              "      <th>3320960</th>\n",
              "      <td>0040e53dfe7b5d</td>\n",
              "      <td>650661c2351eb7</td>\n",
              "      <td>2daabf3a7852e6</td>\n",
              "      <td>0</td>\n",
              "      <td>0</td>\n",
              "      <td>399.0</td>\n",
              "      <td>2</td>\n",
              "      <td>0</td>\n",
              "      <td>6</td>\n",
              "      <td>14</td>\n",
              "      <td>...</td>\n",
              "      <td>0.00</td>\n",
              "      <td>0</td>\n",
              "      <td>0</td>\n",
              "      <td>1511.00</td>\n",
              "      <td>45</td>\n",
              "      <td>1500</td>\n",
              "      <td>0.0000</td>\n",
              "      <td>15</td>\n",
              "      <td>5481.00</td>\n",
              "      <td>False</td>\n",
              "    </tr>\n",
              "    <tr>\n",
              "      <th>3552532</th>\n",
              "      <td>db638834c62f6f</td>\n",
              "      <td>0614b611d6a935</td>\n",
              "      <td>ff80300f8262f5</td>\n",
              "      <td>2</td>\n",
              "      <td>0</td>\n",
              "      <td>517.0</td>\n",
              "      <td>0</td>\n",
              "      <td>0</td>\n",
              "      <td>0</td>\n",
              "      <td>10</td>\n",
              "      <td>...</td>\n",
              "      <td>0.00</td>\n",
              "      <td>2</td>\n",
              "      <td>0</td>\n",
              "      <td>1310.00</td>\n",
              "      <td>6</td>\n",
              "      <td>0</td>\n",
              "      <td>0.0000</td>\n",
              "      <td>30</td>\n",
              "      <td>1344.88</td>\n",
              "      <td>False</td>\n",
              "    </tr>\n",
              "    <tr>\n",
              "      <th>4332473</th>\n",
              "      <td>d8857d3d7e31b6</td>\n",
              "      <td>085de7a36897e6</td>\n",
              "      <td>42f997c16d8a0e</td>\n",
              "      <td>5</td>\n",
              "      <td>0</td>\n",
              "      <td>1685.0</td>\n",
              "      <td>11</td>\n",
              "      <td>3</td>\n",
              "      <td>18</td>\n",
              "      <td>8</td>\n",
              "      <td>...</td>\n",
              "      <td>0.00</td>\n",
              "      <td>0</td>\n",
              "      <td>0</td>\n",
              "      <td>523.30</td>\n",
              "      <td>35</td>\n",
              "      <td>1500</td>\n",
              "      <td>0.9091</td>\n",
              "      <td>26</td>\n",
              "      <td>523.30</td>\n",
              "      <td>False</td>\n",
              "    </tr>\n",
              "  </tbody>\n",
              "</table>\n",
              "<p>20 rows × 32 columns</p>\n",
              "</div>"
            ],
            "text/plain": [
              "                     Id         groupId         matchId  assists  boosts  \\\n",
              "202281   88e2af7d78af5a  34ddeede52c042  4346bc63bc67fa        0       3   \n",
              "240005   41c2f5c0699807  9faecf87ab4275  634edab75860b3        5       0   \n",
              "324313   ef390c152bcc3d  30fd444be3bbc1  4f7f8d6cf558b4        2       0   \n",
              "656553   9948b058562163  c8cb8491112bf6  0104eeb664494d        6       0   \n",
              "803632   4e7e6c74e3c57d  94698690918933  da91b0c3d875f8        0       0   \n",
              "895411   1f5ba6e0cfb968  512ea24b831be3  5fb0d8b1fc16cf        4       0   \n",
              "1172437  303a93cfa1f46c  8795d39fd0df86  9c8962b58bb3e3        2       1   \n",
              "1209416  528659ff1c1aec  7d1ba83423551d  ea9386587d5888        0       6   \n",
              "1642712  91966848e08e2f  0ee4fbd27657c9  17dea22cefe62a        3       2   \n",
              "2015559  5ff0c1a9fab2ba  2d8119b1544f87  904cecf36217df        3       3   \n",
              "2122128  42df3102cb540b  7d9b2be15b355b  610d78f3affd2e        5       0   \n",
              "2152425  4b9f61bac5eb0a  bc717b964f3bbe  838cb9a3c94598        3       0   \n",
              "2592718  24e0fec84c18e9  8404855ca02e48  e886a8ebb702cf        7       0   \n",
              "2981715  7f77051c7cef52  d6579a630399b5  4784f7d9a06b51        3       5   \n",
              "3081503  f19a76e8d7ac52  624d65c529f87c  de19b70121c40f        3       0   \n",
              "3255171  5524c154448425  674195558ad41b  db6f6d1f0d4904        1       0   \n",
              "3304284  d0c286ce498e17  17fdd45e612bab  3eaaa2f7a360fe        7       0   \n",
              "3320960  0040e53dfe7b5d  650661c2351eb7  2daabf3a7852e6        0       0   \n",
              "3552532  db638834c62f6f  0614b611d6a935  ff80300f8262f5        2       0   \n",
              "4332473  d8857d3d7e31b6  085de7a36897e6  42f997c16d8a0e        5       0   \n",
              "\n",
              "         damageDealt  DBNOs  headshotKills  heals  killPlace  \\\n",
              "202281         783.9      5              1      1          5   \n",
              "240005        1284.0      8              5      7         18   \n",
              "324313        1028.0      0              0      0          9   \n",
              "656553        1410.0     17              5      0          3   \n",
              "803632         196.8      0              0      0         51   \n",
              "895411        1012.0     11              5      0          5   \n",
              "1172437        329.3      0              0      2         45   \n",
              "1209416       1640.0      0              7      0          1   \n",
              "1642712       2103.0      0              4     11         11   \n",
              "2015559       1302.0      0              6      5         15   \n",
              "2122128       2500.0      0              7      1          2   \n",
              "2152425        945.4      0              0      0         11   \n",
              "2592718       1684.0      0              4      7         11   \n",
              "2981715       1025.0      5              2      5          2   \n",
              "3081503       1038.0      0              0      0         32   \n",
              "3255171       1355.0      0              2      0          9   \n",
              "3304284       2330.0      0              2      0          2   \n",
              "3320960        399.0      2              0      6         14   \n",
              "3552532        517.0      0              0      0         10   \n",
              "4332473       1685.0     11              3     18          8   \n",
              "\n",
              "                 ...           swimDistance  teamKills  vehicleDestroys  \\\n",
              "202281           ...                   0.00          0                1   \n",
              "240005           ...                   0.00          0                0   \n",
              "324313           ...                   0.00          0                0   \n",
              "656553           ...                   0.00          0                0   \n",
              "803632           ...                   0.00          0                0   \n",
              "895411           ...                   0.00          0                0   \n",
              "1172437          ...                   0.00          0                0   \n",
              "1209416          ...                   0.00          0                0   \n",
              "1642712          ...                   0.00          0                0   \n",
              "2015559          ...                   0.00          0                0   \n",
              "2122128          ...                   0.00          2                0   \n",
              "2152425          ...                   0.00          0                0   \n",
              "2592718          ...                   0.00          0                0   \n",
              "2981715          ...                  87.96          0                0   \n",
              "3081503          ...                   0.00          0                0   \n",
              "3255171          ...                   0.00          1                0   \n",
              "3304284          ...                   0.00          1                0   \n",
              "3320960          ...                   0.00          0                0   \n",
              "3552532          ...                   0.00          2                0   \n",
              "4332473          ...                   0.00          0                0   \n",
              "\n",
              "         walkDistance  weaponsAcquired winPoints  winPlacePerc  player_played  \\\n",
              "202281        3052.00                9         0        0.9231             88   \n",
              "240005          48.87               38      1500        0.5385             29   \n",
              "324313        1264.00               26         0        1.0000             51   \n",
              "656553          29.21               30      1500        0.6000             41   \n",
              "803632        1074.00               22         0        0.0000             61   \n",
              "895411         569.50               18         0        0.9091             86   \n",
              "1172437        832.50                9      1500        0.2857             58   \n",
              "1209416       2848.00                4      1500        0.9412             52   \n",
              "1642712        235.30               41         0        0.5000             28   \n",
              "2015559        133.20               43         0        0.6000             42   \n",
              "2122128        464.50               52         0        0.0000             10   \n",
              "2152425        844.70               14         0        0.5714             60   \n",
              "2592718       1115.00               54      1500        0.5714             26   \n",
              "2981715       3998.00                7         0        1.0000             93   \n",
              "3081503        270.00               28      1500        0.8571             57   \n",
              "3255171       1039.00               37         0        0.5789             21   \n",
              "3304284         68.02               32         0        1.0000             53   \n",
              "3320960       1511.00               45      1500        0.0000             15   \n",
              "3552532       1310.00                6         0        0.0000             30   \n",
              "4332473        523.30               35      1500        0.9091             26   \n",
              "\n",
              "         total_distance  kills_without_moving  \n",
              "202281          3775.20                 False  \n",
              "240005            48.87                 False  \n",
              "324313          2981.00                 False  \n",
              "656553            29.21                 False  \n",
              "803632          3159.00                 False  \n",
              "895411           569.50                 False  \n",
              "1172437          832.50                 False  \n",
              "1209416         2848.00                 False  \n",
              "1642712          235.30                 False  \n",
              "2015559          133.20                 False  \n",
              "2122128          464.50                 False  \n",
              "2152425          844.70                 False  \n",
              "2592718         4851.00                 False  \n",
              "2981715         4085.96                 False  \n",
              "3081503          270.00                 False  \n",
              "3255171         1039.00                 False  \n",
              "3304284           68.02                 False  \n",
              "3320960         5481.00                 False  \n",
              "3552532         1344.88                 False  \n",
              "4332473          523.30                 False  \n",
              "\n",
              "[20 rows x 32 columns]"
            ]
          },
          "metadata": {
            "tags": []
          },
          "execution_count": 40
        }
      ]
    },
    {
      "metadata": {
        "id": "TfJH3_KM5IYG",
        "colab_type": "text"
      },
      "cell_type": "markdown",
      "source": [
        "20 player who have longestKill more than 1000m."
      ]
    },
    {
      "metadata": {
        "id": "XDaI335X5FU1",
        "colab_type": "code",
        "outputId": "a794e116-15a0-4435-ccdf-6e718d0424c8",
        "colab": {
          "base_uri": "https://localhost:8080/",
          "height": 127
        }
      },
      "cell_type": "code",
      "source": [
        "# Let's take a look at the players who make these shots. \n",
        "test[test['longestKill']>=1000]"
      ],
      "execution_count": 41,
      "outputs": [
        {
          "output_type": "execute_result",
          "data": {
            "text/html": [
              "<div>\n",
              "<style scoped>\n",
              "    .dataframe tbody tr th:only-of-type {\n",
              "        vertical-align: middle;\n",
              "    }\n",
              "\n",
              "    .dataframe tbody tr th {\n",
              "        vertical-align: top;\n",
              "    }\n",
              "\n",
              "    .dataframe thead th {\n",
              "        text-align: right;\n",
              "    }\n",
              "</style>\n",
              "<table border=\"1\" class=\"dataframe\">\n",
              "  <thead>\n",
              "    <tr style=\"text-align: right;\">\n",
              "      <th></th>\n",
              "      <th>Id</th>\n",
              "      <th>groupId</th>\n",
              "      <th>matchId</th>\n",
              "      <th>assists</th>\n",
              "      <th>boosts</th>\n",
              "      <th>damageDealt</th>\n",
              "      <th>DBNOs</th>\n",
              "      <th>headshotKills</th>\n",
              "      <th>heals</th>\n",
              "      <th>killPlace</th>\n",
              "      <th>...</th>\n",
              "      <th>roadKills</th>\n",
              "      <th>swimDistance</th>\n",
              "      <th>teamKills</th>\n",
              "      <th>vehicleDestroys</th>\n",
              "      <th>walkDistance</th>\n",
              "      <th>weaponsAcquired</th>\n",
              "      <th>winPoints</th>\n",
              "      <th>player_played</th>\n",
              "      <th>total_distance</th>\n",
              "      <th>kills_without_moving</th>\n",
              "    </tr>\n",
              "  </thead>\n",
              "  <tbody>\n",
              "    <tr>\n",
              "      <th>15085</th>\n",
              "      <td>b2d7b5499c7fdd</td>\n",
              "      <td>c57312c6ebd390</td>\n",
              "      <td>5fb683abbf1f33</td>\n",
              "      <td>4</td>\n",
              "      <td>0</td>\n",
              "      <td>1119.0</td>\n",
              "      <td>0</td>\n",
              "      <td>2</td>\n",
              "      <td>3</td>\n",
              "      <td>11</td>\n",
              "      <td>...</td>\n",
              "      <td>0</td>\n",
              "      <td>0.0</td>\n",
              "      <td>0</td>\n",
              "      <td>0</td>\n",
              "      <td>1135.0</td>\n",
              "      <td>19</td>\n",
              "      <td>0</td>\n",
              "      <td>48</td>\n",
              "      <td>1190.4</td>\n",
              "      <td>False</td>\n",
              "    </tr>\n",
              "  </tbody>\n",
              "</table>\n",
              "<p>1 rows × 31 columns</p>\n",
              "</div>"
            ],
            "text/plain": [
              "                   Id         groupId         matchId  assists  boosts  \\\n",
              "15085  b2d7b5499c7fdd  c57312c6ebd390  5fb683abbf1f33        4       0   \n",
              "\n",
              "       damageDealt  DBNOs  headshotKills  heals  killPlace  \\\n",
              "15085       1119.0      0              2      3         11   \n",
              "\n",
              "               ...           roadKills  swimDistance  teamKills  \\\n",
              "15085          ...                   0           0.0          0   \n",
              "\n",
              "       vehicleDestroys  walkDistance weaponsAcquired  winPoints  \\\n",
              "15085                0        1135.0              19          0   \n",
              "\n",
              "       player_played  total_distance  kills_without_moving  \n",
              "15085             48          1190.4                 False  \n",
              "\n",
              "[1 rows x 31 columns]"
            ]
          },
          "metadata": {
            "tags": []
          },
          "execution_count": 41
        }
      ]
    },
    {
      "metadata": {
        "id": "0T5HfJ8piDFQ",
        "colab_type": "code",
        "colab": {}
      },
      "cell_type": "code",
      "source": [
        "# drop outliers.      \n",
        "\n",
        "\n",
        "#train\n",
        "train.drop(train[train['longestKill']>=1000].index,inplace=True)\n",
        "\n",
        "#test\n",
        "\n",
        "test.drop(test[test['longestKill']>=1000].index,inplace=True)"
      ],
      "execution_count": 0,
      "outputs": []
    },
    {
      "metadata": {
        "id": "2WcUkbHf52O9",
        "colab_type": "text"
      },
      "cell_type": "markdown",
      "source": [
        "There is something fishy going on with these players. We are probably better off removing them from our dataset."
      ]
    },
    {
      "metadata": {
        "id": "_HpMPdelUXjR",
        "colab_type": "text"
      },
      "cell_type": "markdown",
      "source": [
        "### Lets findout the Anomalies in travelling (rideDistance, walkDistance and swimDistance)\n",
        "\n",
        "Let's check out anomalies in Distance travelled.\n"
      ]
    },
    {
      "metadata": {
        "id": "-Ebn-kd7U68-",
        "colab_type": "code",
        "outputId": "42290df1-da93-40e3-b002-7ddc202c19ee",
        "colab": {
          "base_uri": "https://localhost:8080/",
          "height": 198
        }
      },
      "cell_type": "code",
      "source": [
        "train[['rideDistance','walkDistance','swimDistance','total_distance']].head()"
      ],
      "execution_count": 43,
      "outputs": [
        {
          "output_type": "execute_result",
          "data": {
            "text/html": [
              "<div>\n",
              "<style scoped>\n",
              "    .dataframe tbody tr th:only-of-type {\n",
              "        vertical-align: middle;\n",
              "    }\n",
              "\n",
              "    .dataframe tbody tr th {\n",
              "        vertical-align: top;\n",
              "    }\n",
              "\n",
              "    .dataframe thead th {\n",
              "        text-align: right;\n",
              "    }\n",
              "</style>\n",
              "<table border=\"1\" class=\"dataframe\">\n",
              "  <thead>\n",
              "    <tr style=\"text-align: right;\">\n",
              "      <th></th>\n",
              "      <th>rideDistance</th>\n",
              "      <th>walkDistance</th>\n",
              "      <th>swimDistance</th>\n",
              "      <th>total_distance</th>\n",
              "    </tr>\n",
              "  </thead>\n",
              "  <tbody>\n",
              "    <tr>\n",
              "      <th>0</th>\n",
              "      <td>0.0000</td>\n",
              "      <td>244.80</td>\n",
              "      <td>0.00</td>\n",
              "      <td>244.8000</td>\n",
              "    </tr>\n",
              "    <tr>\n",
              "      <th>1</th>\n",
              "      <td>0.0045</td>\n",
              "      <td>1434.00</td>\n",
              "      <td>11.04</td>\n",
              "      <td>1445.0445</td>\n",
              "    </tr>\n",
              "    <tr>\n",
              "      <th>2</th>\n",
              "      <td>0.0000</td>\n",
              "      <td>161.80</td>\n",
              "      <td>0.00</td>\n",
              "      <td>161.8000</td>\n",
              "    </tr>\n",
              "    <tr>\n",
              "      <th>3</th>\n",
              "      <td>0.0000</td>\n",
              "      <td>202.70</td>\n",
              "      <td>0.00</td>\n",
              "      <td>202.7000</td>\n",
              "    </tr>\n",
              "    <tr>\n",
              "      <th>4</th>\n",
              "      <td>0.0000</td>\n",
              "      <td>49.75</td>\n",
              "      <td>0.00</td>\n",
              "      <td>49.7500</td>\n",
              "    </tr>\n",
              "  </tbody>\n",
              "</table>\n",
              "</div>"
            ],
            "text/plain": [
              "   rideDistance  walkDistance  swimDistance  total_distance\n",
              "0        0.0000        244.80          0.00        244.8000\n",
              "1        0.0045       1434.00         11.04       1445.0445\n",
              "2        0.0000        161.80          0.00        161.8000\n",
              "3        0.0000        202.70          0.00        202.7000\n",
              "4        0.0000         49.75          0.00         49.7500"
            ]
          },
          "metadata": {
            "tags": []
          },
          "execution_count": 43
        }
      ]
    },
    {
      "metadata": {
        "id": "0llRAHglUYKb",
        "colab_type": "code",
        "outputId": "376f3e64-8302-4b27-a045-e46f282b5e44",
        "colab": {
          "base_uri": "https://localhost:8080/",
          "height": 279
        }
      },
      "cell_type": "code",
      "source": [
        "# plot walkDistance \n",
        "\n",
        "plt.figure(figsize=(12,4))\n",
        "sns.distplot(train['walkDistance'], bins=10)\n",
        "plt.show()"
      ],
      "execution_count": 44,
      "outputs": [
        {
          "output_type": "display_data",
          "data": {
            "image/png": "[encoded data removed]",
            "text/plain": [
              "<matplotlib.figure.Figure at 0x7fd354f67438>"
            ]
          },
          "metadata": {
            "tags": []
          }
        }
      ]
    },
    {
      "metadata": {
        "id": "r4X9CCHhUmu_",
        "colab_type": "code",
        "colab": {}
      },
      "cell_type": "code",
      "source": [
        "#Remove the outliers\n",
        "\n",
        "#train\n",
        "train.drop(train[train['walkDistance']>=10000].index,inplace=True)\n",
        "\n",
        "\n",
        "#test\n",
        "test.drop(test[test['walkDistance']>=10000].index,inplace=True)"
      ],
      "execution_count": 0,
      "outputs": []
    },
    {
      "metadata": {
        "id": "C34XenrJUnA9",
        "colab_type": "code",
        "colab": {
          "base_uri": "https://localhost:8080/",
          "height": 279
        },
        "outputId": "f6ae58ff-720b-4bfb-858a-97fb0971b78a"
      },
      "cell_type": "code",
      "source": [
        "# plot rideDistance\n",
        "\n",
        "plt.subplots(figsize=(12,4))\n",
        "sns.distplot(train.rideDistance,bins=10)\n",
        "plt.show()\n"
      ],
      "execution_count": 46,
      "outputs": [
        {
          "output_type": "display_data",
          "data": {
            "image/png": "[encoded data removed]",
            "text/plain": [
              "<matplotlib.figure.Figure at 0x7fd35510c630>"
            ]
          },
          "metadata": {
            "tags": []
          }
        }
      ]
    },
    {
      "metadata": {
        "id": "XJVVJhKHUnFm",
        "colab_type": "code",
        "colab": {}
      },
      "cell_type": "code",
      "source": [
        "#Remove the outliers.\n",
        "\n",
        "#test\n",
        "\n",
        "train.drop(train[train.rideDistance >=15000].index, inplace=True)\n",
        "\n",
        "#test\n",
        "\n",
        "test.drop(test[test.rideDistance >=15000].index, inplace=True)"
      ],
      "execution_count": 0,
      "outputs": []
    },
    {
      "metadata": {
        "id": "gYAeG3jgUnPo",
        "colab_type": "code",
        "colab": {
          "base_uri": "https://localhost:8080/",
          "height": 297
        },
        "outputId": "5cb6b4f4-4225-452d-b16f-e7068faa4842"
      },
      "cell_type": "code",
      "source": [
        "# swimDistance\n",
        "plt.subplots(figsize=(12, 4))\n",
        "sns.distplot(train.swimDistance,bins=10)\n",
        "\n"
      ],
      "execution_count": 48,
      "outputs": [
        {
          "output_type": "execute_result",
          "data": {
            "text/plain": [
              "<matplotlib.axes._subplots.AxesSubplot at 0x7fd354e88e80>"
            ]
          },
          "metadata": {
            "tags": []
          },
          "execution_count": 48
        },
        {
          "output_type": "display_data",
          "data": {
            "image/png": "[encoded data removed]",
            "text/plain": [
              "<matplotlib.figure.Figure at 0x7fd354eeb9b0>"
            ]
          },
          "metadata": {
            "tags": []
          }
        }
      ]
    },
    {
      "metadata": {
        "id": "SKe8SYAl7VsF",
        "colab_type": "text"
      },
      "cell_type": "markdown",
      "source": [
        "Very few people prefer to swim."
      ]
    },
    {
      "metadata": {
        "id": "QG1nOUnY7Uey",
        "colab_type": "code",
        "colab": {
          "base_uri": "https://localhost:8080/",
          "height": 35
        },
        "outputId": "bbade0de-7988-4025-9aeb-60a0671c1a85"
      },
      "cell_type": "code",
      "source": [
        "train[train['swimDistance']>=1000].shape"
      ],
      "execution_count": 49,
      "outputs": [
        {
          "output_type": "execute_result",
          "data": {
            "text/plain": [
              "(138, 32)"
            ]
          },
          "metadata": {
            "tags": []
          },
          "execution_count": 49
        }
      ]
    },
    {
      "metadata": {
        "id": "RpNIVKUdUnVQ",
        "colab_type": "code",
        "colab": {}
      },
      "cell_type": "code",
      "source": [
        "#Remove the ouliers.\n",
        "\n",
        "#train\n",
        "train.drop(train[train.swimDistance>=1000].index,inplace=True)\n",
        "\n",
        "#test\n",
        "test.drop(test[test.swimDistance>=1000].index,inplace=True)"
      ],
      "execution_count": 0,
      "outputs": []
    },
    {
      "metadata": {
        "id": "yboknRMlUna4",
        "colab_type": "code",
        "colab": {
          "base_uri": "https://localhost:8080/",
          "height": 297
        },
        "outputId": "90ca6474-16df-4f00-fea0-4d58e177313f"
      },
      "cell_type": "code",
      "source": [
        "# total_distance\n",
        "plt.subplots(figsize=(12,4))\n",
        "sns.distplot(train.total_distance,bins=10)"
      ],
      "execution_count": 51,
      "outputs": [
        {
          "output_type": "execute_result",
          "data": {
            "text/plain": [
              "<matplotlib.axes._subplots.AxesSubplot at 0x7fd354ea4668>"
            ]
          },
          "metadata": {
            "tags": []
          },
          "execution_count": 51
        },
        {
          "output_type": "display_data",
          "data": {
            "image/png": "[encoded data removed]",
            "text/plain": [
              "<matplotlib.figure.Figure at 0x7fd354ebc550>"
            ]
          },
          "metadata": {
            "tags": []
          }
        }
      ]
    },
    {
      "metadata": {
        "id": "u89Hu1Oi78o0",
        "colab_type": "code",
        "colab": {
          "base_uri": "https://localhost:8080/",
          "height": 35
        },
        "outputId": "8edf7394-46d1-4e86-84bd-4117972e2c69"
      },
      "cell_type": "code",
      "source": [
        "train[train.total_distance>=15000].shape"
      ],
      "execution_count": 52,
      "outputs": [
        {
          "output_type": "execute_result",
          "data": {
            "text/plain": [
              "(519, 32)"
            ]
          },
          "metadata": {
            "tags": []
          },
          "execution_count": 52
        }
      ]
    },
    {
      "metadata": {
        "id": "I8EsLpxJUnZk",
        "colab_type": "code",
        "colab": {}
      },
      "cell_type": "code",
      "source": [
        "#Remove the outliers.\n",
        "\n",
        "#train\n",
        "train.drop(train[train.total_distance>=15000].index,inplace=True)\n",
        "\n",
        "#test\n",
        "test.drop(test[test.total_distance>=15000].index,inplace=True)\n",
        "\n"
      ],
      "execution_count": 0,
      "outputs": []
    },
    {
      "metadata": {
        "id": "49ndbDRhVhbh",
        "colab_type": "text"
      },
      "cell_type": "markdown",
      "source": [
        "## Anomalies in weaponsAcquired"
      ]
    },
    {
      "metadata": {
        "id": "6sTsVM6BUnNr",
        "colab_type": "code",
        "colab": {
          "base_uri": "https://localhost:8080/",
          "height": 279
        },
        "outputId": "577ced49-3448-4de1-e3b0-25df413af200"
      },
      "cell_type": "code",
      "source": [
        "#weaponsAcquired\n",
        "#distplot\n",
        "\n",
        "plt.figure(figsize=(12,4))\n",
        "sns.distplot(train['weaponsAcquired'], bins=100)\n",
        "plt.show()"
      ],
      "execution_count": 54,
      "outputs": [
        {
          "output_type": "display_data",
          "data": {
            "image/png": "[encoded data removed]",
            "text/plain": [
              "<matplotlib.figure.Figure at 0x7fd354f2b2e8>"
            ]
          },
          "metadata": {
            "tags": []
          }
        }
      ]
    },
    {
      "metadata": {
        "id": "vn4fFsJo8Rrj",
        "colab_type": "code",
        "colab": {
          "base_uri": "https://localhost:8080/",
          "height": 35
        },
        "outputId": "e2bfbf8c-b7b9-461d-d4d7-9b8eade304ee"
      },
      "cell_type": "code",
      "source": [
        "train[train.weaponsAcquired>=50].shape"
      ],
      "execution_count": 55,
      "outputs": [
        {
          "output_type": "execute_result",
          "data": {
            "text/plain": [
              "(135, 32)"
            ]
          },
          "metadata": {
            "tags": []
          },
          "execution_count": 55
        }
      ]
    },
    {
      "metadata": {
        "id": "3RNM5fcD8S_7",
        "colab_type": "text"
      },
      "cell_type": "markdown",
      "source": [
        "We should probably remove these outliers from our model. Do you agree?\n",
        "\n",
        "Note that player '3f2bcf53b108c4' acquired 236 weapons in one game!"
      ]
    },
    {
      "metadata": {
        "id": "BaSjNAXQ8nSG",
        "colab_type": "code",
        "colab": {}
      },
      "cell_type": "code",
      "source": [
        ""
      ],
      "execution_count": 0,
      "outputs": []
    },
    {
      "metadata": {
        "id": "20IfvzwrUnK5",
        "colab_type": "code",
        "colab": {}
      },
      "cell_type": "code",
      "source": [
        "# remove the outliers.\n",
        "\n",
        "#train\n",
        "train.drop(train[train.weaponsAcquired>=50].index,inplace=True)\n",
        "\n",
        "#test\n",
        "test.drop(test[test.weaponsAcquired>=50].index,inplace=True)"
      ],
      "execution_count": 0,
      "outputs": []
    },
    {
      "metadata": {
        "id": "4cUpWHC_V9y3",
        "colab_type": "text"
      },
      "cell_type": "markdown",
      "source": [
        "## Anomalies in Heals\n",
        "heals - Number of healing items used."
      ]
    },
    {
      "metadata": {
        "id": "J6H3AcufUnEM",
        "colab_type": "code",
        "colab": {
          "base_uri": "https://localhost:8080/",
          "height": 297
        },
        "outputId": "0df5edd3-8155-4e79-86f9-e11aa4ffa31c"
      },
      "cell_type": "code",
      "source": [
        "#heals \n",
        "#distplot\n",
        "\n",
        "plt.subplots(figsize=(12,4))\n",
        "sns.distplot(train.heals, bins=20)"
      ],
      "execution_count": 57,
      "outputs": [
        {
          "output_type": "execute_result",
          "data": {
            "text/plain": [
              "<matplotlib.axes._subplots.AxesSubplot at 0x7fd3550fec50>"
            ]
          },
          "metadata": {
            "tags": []
          },
          "execution_count": 57
        },
        {
          "output_type": "display_data",
          "data": {
            "image/png": "[encoded data removed]",
            "text/plain": [
              "<matplotlib.figure.Figure at 0x7fd354f82cc0>"
            ]
          },
          "metadata": {
            "tags": []
          }
        }
      ]
    },
    {
      "metadata": {
        "id": "U5H2isFD85qM",
        "colab_type": "code",
        "colab": {
          "base_uri": "https://localhost:8080/",
          "height": 35
        },
        "outputId": "924ba297-f2f7-4d22-c902-f525006085ce"
      },
      "cell_type": "code",
      "source": [
        "train[train.heals>=40].shape"
      ],
      "execution_count": 58,
      "outputs": [
        {
          "output_type": "execute_result",
          "data": {
            "text/plain": [
              "(134, 32)"
            ]
          },
          "metadata": {
            "tags": []
          },
          "execution_count": 58
        }
      ]
    },
    {
      "metadata": {
        "id": "2678-m-TWNlf",
        "colab_type": "code",
        "colab": {}
      },
      "cell_type": "code",
      "source": [
        "# remove the outliers.\n",
        "\n",
        "#train\n",
        "train.drop(train[train.heals>=40].index,inplace=True)\n",
        "\n",
        "#test\n",
        "\n",
        "test.drop(test[test.heals>=40].index,inplace=True)\n",
        "\n"
      ],
      "execution_count": 0,
      "outputs": []
    },
    {
      "metadata": {
        "id": "9Ti1w2fFWVzM",
        "colab_type": "text"
      },
      "cell_type": "markdown",
      "source": [
        "##  Final outcome after Removing all outliers"
      ]
    },
    {
      "metadata": {
        "id": "WCEG2N3yWNuc",
        "colab_type": "code",
        "colab": {
          "base_uri": "https://localhost:8080/",
          "height": 35
        },
        "outputId": "201b3283-e4fb-4f8e-df7b-0570b26a7feb"
      },
      "cell_type": "code",
      "source": [
        "# Lets find the shape of training data\n",
        "train.shape\n",
        "\n"
      ],
      "execution_count": 60,
      "outputs": [
        {
          "output_type": "execute_result",
          "data": {
            "text/plain": [
              "(4443698, 32)"
            ]
          },
          "metadata": {
            "tags": []
          },
          "execution_count": 60
        }
      ]
    },
    {
      "metadata": {
        "id": "HWvge2HMWj_u",
        "colab_type": "text"
      },
      "cell_type": "markdown",
      "source": [
        "So the initial shape is (4446966, 29)   \n",
        "And After removeing the outliers the new shape is  (4443698, -)"
      ]
    },
    {
      "metadata": {
        "id": "LfJRDbR6WsrY",
        "colab_type": "text"
      },
      "cell_type": "markdown",
      "source": [
        "#### Something around 3000 rows we removed . Which is nothing compare to the number of rows we have."
      ]
    },
    {
      "metadata": {
        "id": "jUlNB3lJW44G",
        "colab_type": "text"
      },
      "cell_type": "markdown",
      "source": [
        "## Categorical Variables"
      ]
    },
    {
      "metadata": {
        "id": "VBIOxzZDWN33",
        "colab_type": "code",
        "colab": {}
      },
      "cell_type": "code",
      "source": [
        "# Create the dummy variable for categorical variable present in our data set.\n",
        "#matchType\n",
        "#train\n",
        "\n",
        "train=pd.get_dummies(train,columns=['matchType'])\n",
        "\n",
        "#test\n",
        "\n",
        "test=pd.get_dummies(test,columns=['matchType'])\n",
        "\n"
      ],
      "execution_count": 0,
      "outputs": []
    },
    {
      "metadata": {
        "id": "9EjSaTDM904O",
        "colab_type": "code",
        "colab": {
          "base_uri": "https://localhost:8080/",
          "height": 35
        },
        "outputId": "af7a5723-b553-4ed6-e613-87a9809137ec"
      },
      "cell_type": "code",
      "source": [
        "train.shape"
      ],
      "execution_count": 62,
      "outputs": [
        {
          "output_type": "execute_result",
          "data": {
            "text/plain": [
              "(4443698, 47)"
            ]
          },
          "metadata": {
            "tags": []
          },
          "execution_count": 62
        }
      ]
    },
    {
      "metadata": {
        "id": "FoPxXpDR92HK",
        "colab_type": "text"
      },
      "cell_type": "markdown",
      "source": [
        "Now If you guys planning to create dummy variable of matchId and groupId ..\n",
        "\n",
        "For me it's like getting into a sucidal trap."
      ]
    },
    {
      "metadata": {
        "id": "b2zThxeW-CBP",
        "colab_type": "code",
        "colab": {
          "base_uri": "https://localhost:8080/",
          "height": 963
        },
        "outputId": "1be62d6b-f308-48ec-b86c-087de37c5306"
      },
      "cell_type": "code",
      "source": [
        "# Lets again check the data structure of both train and test data\n",
        "train.info()\n",
        "\n"
      ],
      "execution_count": 63,
      "outputs": [
        {
          "output_type": "stream",
          "text": [
            "<class 'pandas.core.frame.DataFrame'>\n",
            "Int64Index: 4443698 entries, 0 to 4446965\n",
            "Data columns (total 47 columns):\n",
            "Id                            object\n",
            "groupId                       object\n",
            "matchId                       object\n",
            "assists                       int64\n",
            "boosts                        int64\n",
            "damageDealt                   float64\n",
            "DBNOs                         int64\n",
            "headshotKills                 int64\n",
            "heals                         int64\n",
            "killPlace                     int64\n",
            "killPoints                    int64\n",
            "kills                         int64\n",
            "killStreaks                   int64\n",
            "longestKill                   float64\n",
            "matchDuration                 int64\n",
            "maxPlace                      int64\n",
            "numGroups                     int64\n",
            "rankPoints                    int64\n",
            "revives                       int64\n",
            "rideDistance                  float64\n",
            "roadKills                     int64\n",
            "swimDistance                  float64\n",
            "teamKills                     int64\n",
            "vehicleDestroys               int64\n",
            "walkDistance                  float64\n",
            "weaponsAcquired               int64\n",
            "winPoints                     int64\n",
            "winPlacePerc                  float64\n",
            "player_played                 int64\n",
            "total_distance                float64\n",
            "kills_without_moving          bool\n",
            "matchType_crashfpp            uint8\n",
            "matchType_crashtpp            uint8\n",
            "matchType_duo                 uint8\n",
            "matchType_duo-fpp             uint8\n",
            "matchType_flarefpp            uint8\n",
            "matchType_flaretpp            uint8\n",
            "matchType_normal-duo          uint8\n",
            "matchType_normal-duo-fpp      uint8\n",
            "matchType_normal-solo         uint8\n",
            "matchType_normal-solo-fpp     uint8\n",
            "matchType_normal-squad        uint8\n",
            "matchType_normal-squad-fpp    uint8\n",
            "matchType_solo                uint8\n",
            "matchType_solo-fpp            uint8\n",
            "matchType_squad               uint8\n",
            "matchType_squad-fpp           uint8\n",
            "dtypes: bool(1), float64(7), int64(20), object(3), uint8(16)\n",
            "memory usage: 1.1+ GB\n"
          ],
          "name": "stdout"
        }
      ]
    },
    {
      "metadata": {
        "id": "FBtqgQez-IJg",
        "colab_type": "code",
        "colab": {
          "base_uri": "https://localhost:8080/",
          "height": 945
        },
        "outputId": "5ffd46cb-6066-4f87-a523-94e221358448"
      },
      "cell_type": "code",
      "source": [
        "test.info()"
      ],
      "execution_count": 64,
      "outputs": [
        {
          "output_type": "stream",
          "text": [
            "<class 'pandas.core.frame.DataFrame'>\n",
            "Int64Index: 1933174 entries, 0 to 1934173\n",
            "Data columns (total 46 columns):\n",
            "Id                            object\n",
            "groupId                       object\n",
            "matchId                       object\n",
            "assists                       int64\n",
            "boosts                        int64\n",
            "damageDealt                   float64\n",
            "DBNOs                         int64\n",
            "headshotKills                 int64\n",
            "heals                         int64\n",
            "killPlace                     int64\n",
            "killPoints                    int64\n",
            "kills                         int64\n",
            "killStreaks                   int64\n",
            "longestKill                   float64\n",
            "matchDuration                 int64\n",
            "maxPlace                      int64\n",
            "numGroups                     int64\n",
            "rankPoints                    int64\n",
            "revives                       int64\n",
            "rideDistance                  float64\n",
            "roadKills                     int64\n",
            "swimDistance                  float64\n",
            "teamKills                     int64\n",
            "vehicleDestroys               int64\n",
            "walkDistance                  float64\n",
            "weaponsAcquired               int64\n",
            "winPoints                     int64\n",
            "player_played                 int64\n",
            "total_distance                float64\n",
            "kills_without_moving          bool\n",
            "matchType_crashfpp            uint8\n",
            "matchType_crashtpp            uint8\n",
            "matchType_duo                 uint8\n",
            "matchType_duo-fpp             uint8\n",
            "matchType_flarefpp            uint8\n",
            "matchType_flaretpp            uint8\n",
            "matchType_normal-duo          uint8\n",
            "matchType_normal-duo-fpp      uint8\n",
            "matchType_normal-solo         uint8\n",
            "matchType_normal-solo-fpp     uint8\n",
            "matchType_normal-squad        uint8\n",
            "matchType_normal-squad-fpp    uint8\n",
            "matchType_solo                uint8\n",
            "matchType_solo-fpp            uint8\n",
            "matchType_squad               uint8\n",
            "matchType_squad-fpp           uint8\n",
            "dtypes: bool(1), float64(6), int64(20), object(3), uint8(16)\n",
            "memory usage: 473.8+ MB\n"
          ],
          "name": "stdout"
        }
      ]
    },
    {
      "metadata": {
        "id": "pQ97MOHt0xLQ",
        "colab_type": "text"
      },
      "cell_type": "markdown",
      "source": [
        "## Feature Selection\n",
        "\n",
        "Feature selection methods can give you useful information on the relative importance or relevance of features for a given problem. You can use this information to create filtered versions of your dataset and increase the accuracy of your models."
      ]
    },
    {
      "metadata": {
        "id": "xjbd2-YJ9GPW",
        "colab_type": "text"
      },
      "cell_type": "markdown",
      "source": [
        "## Why to perform feature selection?\n",
        "\n",
        "- It enables the machine learning algorithm to train faster.\n",
        "- It reduces the complexity of a model and makes it easier to interpret.\n",
        "- It improves the accuracy of a model if the right subset is chosen.\n",
        "- It reduces overfitting.\n",
        "\n",
        "\n",
        "\n"
      ]
    },
    {
      "metadata": {
        "id": "3U8-QgPU-VhA",
        "colab_type": "text"
      },
      "cell_type": "markdown",
      "source": [
        "### Checking correlation is the fastest way to estimate the impact but it doesn't capture the actual contribution of the score."
      ]
    },
    {
      "metadata": {
        "id": "BIY4NvnY-cv4",
        "colab_type": "text"
      },
      "cell_type": "markdown",
      "source": [
        "But, correlation is naive, nearly primitive, method of feature selection. Consequently it will sometimes work (since data sometimes does follow the linear combination redundancy) and will fail miserably in many more complex tasks. There is no \"golden\" answer here. Correlation based feature selection is like logistic regression for classification - the easiest thing to try, but should not expect to solve any problem out there."
      ]
    },
    {
      "metadata": {
        "id": "tfYJZbeg-xHz",
        "colab_type": "text"
      },
      "cell_type": "markdown",
      "source": [
        "## One more step to make data more feasible for training."
      ]
    },
    {
      "metadata": {
        "id": "e6G_8Jg9-kg7",
        "colab_type": "code",
        "colab": {}
      },
      "cell_type": "code",
      "source": [
        "#drop the all unnecessary columns\n",
        "\n",
        "#train\n",
        "train.drop(['kills_without_moving'],axis=1,inplace=True)\n"
      ],
      "execution_count": 0,
      "outputs": []
    },
    {
      "metadata": {
        "id": "zi3tAkrQ-syo",
        "colab_type": "code",
        "colab": {}
      },
      "cell_type": "code",
      "source": [
        "#test\n",
        "\n",
        "test.drop(['kills_without_moving'],axis=1,inplace=True)"
      ],
      "execution_count": 0,
      "outputs": []
    },
    {
      "metadata": {
        "id": "majvWfSa8orV",
        "colab_type": "text"
      },
      "cell_type": "markdown",
      "source": [
        "## Featrue selection  using algorithm"
      ]
    },
    {
      "metadata": {
        "id": "pg-OaCVoWN-O",
        "colab_type": "code",
        "colab": {}
      },
      "cell_type": "code",
      "source": [
        "# feature selectionm using algorithm itself.\n",
        "from sklearn.ensemble import RandomForestRegressor\n"
      ],
      "execution_count": 0,
      "outputs": []
    },
    {
      "metadata": {
        "id": "EUHbQV84WOI2",
        "colab_type": "code",
        "colab": {}
      },
      "cell_type": "code",
      "source": [
        "#before that first drop some unnecessary columns.\n",
        "\n",
        "#For train\n",
        "#Id #groupId  # matchId\n",
        "\n",
        "train.drop(['Id','groupId','matchId'],axis=1,inplace=True)\n",
        "\n",
        "# For test\n",
        "# Save the test Id \n",
        "test_id=test['Id']\n",
        "\n",
        "test.drop(['Id','groupId','matchId'],axis=1,inplace=True)\n"
      ],
      "execution_count": 0,
      "outputs": []
    },
    {
      "metadata": {
        "id": "5EaLi2EAR4wy",
        "colab_type": "code",
        "colab": {
          "base_uri": "https://localhost:8080/",
          "height": 35
        },
        "outputId": "474c9a63-d620-4ac7-9070-92a25e48615a"
      },
      "cell_type": "code",
      "source": [
        "train.shape"
      ],
      "execution_count": 69,
      "outputs": [
        {
          "output_type": "execute_result",
          "data": {
            "text/plain": [
              "(4443698, 43)"
            ]
          },
          "metadata": {
            "tags": []
          },
          "execution_count": 69
        }
      ]
    },
    {
      "metadata": {
        "id": "x_rTLHCmR8dP",
        "colab_type": "code",
        "colab": {
          "base_uri": "https://localhost:8080/",
          "height": 35
        },
        "outputId": "fa0db5bc-78fb-4122-b1ba-442233da8354"
      },
      "cell_type": "code",
      "source": [
        "test.shape"
      ],
      "execution_count": 70,
      "outputs": [
        {
          "output_type": "execute_result",
          "data": {
            "text/plain": [
              "(1933174, 42)"
            ]
          },
          "metadata": {
            "tags": []
          },
          "execution_count": 70
        }
      ]
    },
    {
      "metadata": {
        "id": "ZCy4CO349u2O",
        "colab_type": "text"
      },
      "cell_type": "markdown",
      "source": [
        "### Sample data for training"
      ]
    },
    {
      "metadata": {
        "id": "OYbAQgZFWOS6",
        "colab_type": "code",
        "colab": {}
      },
      "cell_type": "code",
      "source": [
        "# Take sample for debugging and exploration\n",
        "sample = 500000\n",
        "df_sample = train.sample(sample)\n",
        "\n"
      ],
      "execution_count": 0,
      "outputs": []
    },
    {
      "metadata": {
        "id": "5Xo5hTarWONW",
        "colab_type": "code",
        "colab": {}
      },
      "cell_type": "code",
      "source": [
        "# Metric used for the PUBG competition (Mean Absolute Error (MAE))\n",
        "from sklearn.metrics import mean_absolute_error"
      ],
      "execution_count": 0,
      "outputs": []
    },
    {
      "metadata": {
        "id": "TMQRfnUQWOED",
        "colab_type": "code",
        "colab": {}
      },
      "cell_type": "code",
      "source": [
        "# Design model function. \n",
        "\n",
        "def score(m : RandomForestRegressor):\n",
        "    res = ['mae train: ', mean_absolute_error(m.predict(X_train), y_train), \n",
        "           'mae val: ', mean_absolute_error(m.predict(X_valid), y_valid)]\n",
        "    if hasattr(m, 'oob_score_'): res.append(m.oob_score_)\n",
        "    print(res)"
      ],
      "execution_count": 0,
      "outputs": []
    },
    {
      "metadata": {
        "id": "xV9E5Y-Y-VE1",
        "colab_type": "code",
        "colab": {
          "base_uri": "https://localhost:8080/",
          "height": 890
        },
        "outputId": "621cb643-63fe-46df-dcf2-f92ebeecc4b7"
      },
      "cell_type": "code",
      "source": [
        "df_sample.info()"
      ],
      "execution_count": 74,
      "outputs": [
        {
          "output_type": "stream",
          "text": [
            "<class 'pandas.core.frame.DataFrame'>\n",
            "Int64Index: 500000 entries, 4013047 to 1919861\n",
            "Data columns (total 43 columns):\n",
            "assists                       500000 non-null int64\n",
            "boosts                        500000 non-null int64\n",
            "damageDealt                   500000 non-null float64\n",
            "DBNOs                         500000 non-null int64\n",
            "headshotKills                 500000 non-null int64\n",
            "heals                         500000 non-null int64\n",
            "killPlace                     500000 non-null int64\n",
            "killPoints                    500000 non-null int64\n",
            "kills                         500000 non-null int64\n",
            "killStreaks                   500000 non-null int64\n",
            "longestKill                   500000 non-null float64\n",
            "matchDuration                 500000 non-null int64\n",
            "maxPlace                      500000 non-null int64\n",
            "numGroups                     500000 non-null int64\n",
            "rankPoints                    500000 non-null int64\n",
            "revives                       500000 non-null int64\n",
            "rideDistance                  500000 non-null float64\n",
            "roadKills                     500000 non-null int64\n",
            "swimDistance                  500000 non-null float64\n",
            "teamKills                     500000 non-null int64\n",
            "vehicleDestroys               500000 non-null int64\n",
            "walkDistance                  500000 non-null float64\n",
            "weaponsAcquired               500000 non-null int64\n",
            "winPoints                     500000 non-null int64\n",
            "winPlacePerc                  500000 non-null float64\n",
            "player_played                 500000 non-null int64\n",
            "total_distance                500000 non-null float64\n",
            "matchType_crashfpp            500000 non-null uint8\n",
            "matchType_crashtpp            500000 non-null uint8\n",
            "matchType_duo                 500000 non-null uint8\n",
            "matchType_duo-fpp             500000 non-null uint8\n",
            "matchType_flarefpp            500000 non-null uint8\n",
            "matchType_flaretpp            500000 non-null uint8\n",
            "matchType_normal-duo          500000 non-null uint8\n",
            "matchType_normal-duo-fpp      500000 non-null uint8\n",
            "matchType_normal-solo         500000 non-null uint8\n",
            "matchType_normal-solo-fpp     500000 non-null uint8\n",
            "matchType_normal-squad        500000 non-null uint8\n",
            "matchType_normal-squad-fpp    500000 non-null uint8\n",
            "matchType_solo                500000 non-null uint8\n",
            "matchType_solo-fpp            500000 non-null uint8\n",
            "matchType_squad               500000 non-null uint8\n",
            "matchType_squad-fpp           500000 non-null uint8\n",
            "dtypes: float64(7), int64(20), uint8(16)\n",
            "memory usage: 114.4 MB\n"
          ],
          "name": "stdout"
        }
      ]
    },
    {
      "metadata": {
        "id": "Do1e8MGjSSFb",
        "colab_type": "code",
        "colab": {
          "base_uri": "https://localhost:8080/",
          "height": 35
        },
        "outputId": "e86671ee-b6b3-499c-847d-a38d9d907c2e"
      },
      "cell_type": "code",
      "source": [
        "y=df_sample['winPlacePerc']\n",
        "df = df_sample.drop(columns = ['winPlacePerc'])\n",
        "df.shape"
      ],
      "execution_count": 75,
      "outputs": [
        {
          "output_type": "execute_result",
          "data": {
            "text/plain": [
              "(500000, 42)"
            ]
          },
          "metadata": {
            "tags": []
          },
          "execution_count": 75
        }
      ]
    },
    {
      "metadata": {
        "id": "wIp0wZSRWN1m",
        "colab_type": "code",
        "colab": {}
      },
      "cell_type": "code",
      "source": [
        "#train test split.\n",
        "\n",
        "from sklearn.model_selection import train_test_split\n",
        "\n",
        "X_train,X_valid,y_train,y_valid=train_test_split(df,y,test_size=0.3,random_state=40)\n"
      ],
      "execution_count": 0,
      "outputs": []
    },
    {
      "metadata": {
        "id": "pIWUMTRyrPCa",
        "colab_type": "text"
      },
      "cell_type": "markdown",
      "source": [
        "\n",
        "\n",
        "## Before training lets talk bit about randome forest regression algorithm.\n",
        "Random Forest is a supervised learning algorithm , very flexible and easy to use .And it produce better result even without hyper-parameter tuning.\n",
        "![alt text](https://cdn-images-1.medium.com/max/592/1*i0o8mjFfCn-uD79-F1Cqkw.png)\n",
        "\n",
        "Random Forest doc:\n",
        "[RandomForest Doc ](https://scikit-learn.org/stable/modules/generated/sklearn.ensemble.RandomForestClassifier.html)"
      ]
    },
    {
      "metadata": {
        "id": "v2WgEfavWN0Z",
        "colab_type": "code",
        "colab": {
          "base_uri": "https://localhost:8080/",
          "height": 35
        },
        "outputId": "ba5d5682-0b4f-4951-96bb-33def74d6d2e"
      },
      "cell_type": "code",
      "source": [
        "#model with certaion parameter. Ramdon forest algorithm with default parameters.\n",
        "m1 = RandomForestRegressor(n_estimators=40, min_samples_leaf=3, max_features='sqrt',\n",
        "                          n_jobs=-1)\n",
        "\n",
        "m1.fit(X_train, y_train)\n",
        "score(m1)\n"
      ],
      "execution_count": 77,
      "outputs": [
        {
          "output_type": "stream",
          "text": [
            "['mae train: ', 0.0428168158465911, 'mae val: ', 0.06292893715434004]\n"
          ],
          "name": "stdout"
        }
      ]
    },
    {
      "metadata": {
        "id": "alhUa0N3WNsf",
        "colab_type": "code",
        "colab": {}
      },
      "cell_type": "code",
      "source": [
        "# Find the important feature using random Forest algorithm.\n",
        "\n",
        "importance=m1.feature_importances_"
      ],
      "execution_count": 0,
      "outputs": []
    },
    {
      "metadata": {
        "id": "bSLqbjgI-6qe",
        "colab_type": "code",
        "colab": {}
      },
      "cell_type": "code",
      "source": [
        ""
      ],
      "execution_count": 0,
      "outputs": []
    },
    {
      "metadata": {
        "id": "bAMfXSJaWNq0",
        "colab_type": "code",
        "colab": {}
      },
      "cell_type": "code",
      "source": [
        "# Create a new Dataframe for the given feature with their importance.\n",
        "data=pd.DataFrame(sorted(zip(m1.feature_importances_, df.columns)), columns=['Value','Feature'])"
      ],
      "execution_count": 0,
      "outputs": []
    },
    {
      "metadata": {
        "id": "mLVnNZWOWNo5",
        "colab_type": "code",
        "colab": {
          "base_uri": "https://localhost:8080/",
          "height": 681
        },
        "outputId": "71bed138-6d02-46ce-c9e0-340db2bbe5d4"
      },
      "cell_type": "code",
      "source": [
        "# Lets plot all the feature.\n",
        "\n",
        "plt.figure(figsize=(20, 10))\n",
        "sns.barplot(x=\"Value\", y=\"Feature\", data=data.sort_values(by=\"Value\", ascending=False))"
      ],
      "execution_count": 80,
      "outputs": [
        {
          "output_type": "stream",
          "text": [
            "/usr/local/lib/python3.6/dist-packages/seaborn/categorical.py:1428: FutureWarning: remove_na is deprecated and is a private function. Do not use.\n",
            "  stat_data = remove_na(group_data)\n"
          ],
          "name": "stderr"
        },
        {
          "output_type": "execute_result",
          "data": {
            "text/plain": [
              "<matplotlib.axes._subplots.AxesSubplot at 0x7fd351bcd080>"
            ]
          },
          "metadata": {
            "tags": []
          },
          "execution_count": 80
        },
        {
          "output_type": "display_data",
          "data": {
            "image/png": "[encoded data removed]",
            "text/plain": [
              "<matplotlib.figure.Figure at 0x7fd351bcd438>"
            ]
          },
          "metadata": {
            "tags": []
          }
        }
      ]
    },
    {
      "metadata": {
        "id": "QofKEqxRAzwK",
        "colab_type": "code",
        "colab": {}
      },
      "cell_type": "code",
      "source": [
        "# select top 25 features and re-train the model.\n",
        "\n",
        "\n",
        "new_data=data.sort_values(by='Value',ascending=False)[:25]"
      ],
      "execution_count": 0,
      "outputs": []
    },
    {
      "metadata": {
        "id": "UoKmvHea_QBs",
        "colab_type": "code",
        "colab": {
          "base_uri": "https://localhost:8080/",
          "height": 198
        },
        "outputId": "d06ce5ca-09d1-4f02-acf3-df4ad6bd8e2c"
      },
      "cell_type": "code",
      "source": [
        "new_data.head()"
      ],
      "execution_count": 82,
      "outputs": [
        {
          "output_type": "execute_result",
          "data": {
            "text/html": [
              "<div>\n",
              "<style scoped>\n",
              "    .dataframe tbody tr th:only-of-type {\n",
              "        vertical-align: middle;\n",
              "    }\n",
              "\n",
              "    .dataframe tbody tr th {\n",
              "        vertical-align: top;\n",
              "    }\n",
              "\n",
              "    .dataframe thead th {\n",
              "        text-align: right;\n",
              "    }\n",
              "</style>\n",
              "<table border=\"1\" class=\"dataframe\">\n",
              "  <thead>\n",
              "    <tr style=\"text-align: right;\">\n",
              "      <th></th>\n",
              "      <th>Value</th>\n",
              "      <th>Feature</th>\n",
              "    </tr>\n",
              "  </thead>\n",
              "  <tbody>\n",
              "    <tr>\n",
              "      <th>41</th>\n",
              "      <td>0.206070</td>\n",
              "      <td>walkDistance</td>\n",
              "    </tr>\n",
              "    <tr>\n",
              "      <th>40</th>\n",
              "      <td>0.198567</td>\n",
              "      <td>total_distance</td>\n",
              "    </tr>\n",
              "    <tr>\n",
              "      <th>39</th>\n",
              "      <td>0.183394</td>\n",
              "      <td>killPlace</td>\n",
              "    </tr>\n",
              "    <tr>\n",
              "      <th>38</th>\n",
              "      <td>0.118222</td>\n",
              "      <td>boosts</td>\n",
              "    </tr>\n",
              "    <tr>\n",
              "      <th>37</th>\n",
              "      <td>0.075067</td>\n",
              "      <td>weaponsAcquired</td>\n",
              "    </tr>\n",
              "  </tbody>\n",
              "</table>\n",
              "</div>"
            ],
            "text/plain": [
              "       Value          Feature\n",
              "41  0.206070     walkDistance\n",
              "40  0.198567   total_distance\n",
              "39  0.183394        killPlace\n",
              "38  0.118222           boosts\n",
              "37  0.075067  weaponsAcquired"
            ]
          },
          "metadata": {
            "tags": []
          },
          "execution_count": 82
        }
      ]
    },
    {
      "metadata": {
        "id": "eirIa1SEAz6O",
        "colab_type": "code",
        "colab": {
          "base_uri": "https://localhost:8080/",
          "height": 572
        },
        "outputId": "ab641730-874c-47f7-bcd8-00ad27735b4d"
      },
      "cell_type": "code",
      "source": [
        "# Plot all the variables.\n",
        "plt.subplots(figsize=(15,8))\n",
        "sns.barplot(x='Value',y='Feature',data=new_data)"
      ],
      "execution_count": 83,
      "outputs": [
        {
          "output_type": "stream",
          "text": [
            "/usr/local/lib/python3.6/dist-packages/seaborn/categorical.py:1428: FutureWarning: remove_na is deprecated and is a private function. Do not use.\n",
            "  stat_data = remove_na(group_data)\n"
          ],
          "name": "stderr"
        },
        {
          "output_type": "execute_result",
          "data": {
            "text/plain": [
              "<matplotlib.axes._subplots.AxesSubplot at 0x7fd35129e1d0>"
            ]
          },
          "metadata": {
            "tags": []
          },
          "execution_count": 83
        },
        {
          "output_type": "display_data",
          "data": {
            "image/png": "[encoded data removed]",
            "text/plain": [
              "<matplotlib.figure.Figure at 0x7fd351292da0>"
            ]
          },
          "metadata": {
            "tags": []
          }
        }
      ]
    },
    {
      "metadata": {
        "id": "ejddtcg-_ZtD",
        "colab_type": "code",
        "colab": {}
      },
      "cell_type": "code",
      "source": [
        "cols=new_data.Feature.values"
      ],
      "execution_count": 0,
      "outputs": []
    },
    {
      "metadata": {
        "id": "PmUjO5lr_d0g",
        "colab_type": "code",
        "colab": {
          "base_uri": "https://localhost:8080/",
          "height": 145
        },
        "outputId": "5649aab8-f266-4a46-fc39-ed4f5bbc6622"
      },
      "cell_type": "code",
      "source": [
        "cols\n",
        "# so these are the top 25 set of feature"
      ],
      "execution_count": 85,
      "outputs": [
        {
          "output_type": "execute_result",
          "data": {
            "text/plain": [
              "array(['walkDistance', 'total_distance', 'killPlace', 'boosts',\n",
              "       'weaponsAcquired', 'damageDealt', 'longestKill', 'heals', 'kills',\n",
              "       'rideDistance', 'matchDuration', 'numGroups', 'player_played',\n",
              "       'maxPlace', 'headshotKills', 'killStreaks', 'rankPoints',\n",
              "       'swimDistance', 'assists', 'DBNOs', 'winPoints', 'revives',\n",
              "       'killPoints', 'matchType_squad', 'matchType_solo-fpp'],\n",
              "      dtype=object)"
            ]
          },
          "metadata": {
            "tags": []
          },
          "execution_count": 85
        }
      ]
    },
    {
      "metadata": {
        "id": "RauiFZ9A_fRf",
        "colab_type": "text"
      },
      "cell_type": "markdown",
      "source": [
        "So these are the top 25 features and we need to create new model based on these features."
      ]
    },
    {
      "metadata": {
        "id": "g2iOVtwBAHaa",
        "colab_type": "text"
      },
      "cell_type": "markdown",
      "source": [
        "## Recreate the model using sample data."
      ]
    },
    {
      "metadata": {
        "id": "-OYgJHf0_qQz",
        "colab_type": "code",
        "colab": {}
      },
      "cell_type": "code",
      "source": [
        "# train and validation data\n",
        "X_train,X_valid,y_train,y_valid=train_test_split(df[cols],y,test_size=0.3,random_state=40)"
      ],
      "execution_count": 0,
      "outputs": []
    },
    {
      "metadata": {
        "id": "9LE81mgPAZuq",
        "colab_type": "code",
        "colab": {
          "base_uri": "https://localhost:8080/",
          "height": 35
        },
        "outputId": "6d87c254-9dc4-4fb7-8d6a-5cd7ef73613b"
      },
      "cell_type": "code",
      "source": [
        "X_train.shape\n",
        "print(X_valid.shape)"
      ],
      "execution_count": 87,
      "outputs": [
        {
          "output_type": "stream",
          "text": [
            "(150000, 25)\n"
          ],
          "name": "stdout"
        }
      ]
    },
    {
      "metadata": {
        "id": "QbkE1mpSAtDB",
        "colab_type": "code",
        "colab": {
          "base_uri": "https://localhost:8080/",
          "height": 35
        },
        "outputId": "c3f91a8e-a811-42b5-dde3-c770927b39c1"
      },
      "cell_type": "code",
      "source": [
        "m1 = RandomForestRegressor(n_estimators=40, min_samples_leaf=3, max_features='sqrt',\n",
        "                          n_jobs=-1)\n",
        "m1.fit(X_train, y_train)\n",
        "score(m1)"
      ],
      "execution_count": 88,
      "outputs": [
        {
          "output_type": "stream",
          "text": [
            "['mae train: ', 0.03804379443764784, 'mae val: ', 0.06045273441256874]\n"
          ],
          "name": "stdout"
        }
      ]
    },
    {
      "metadata": {
        "id": "ddfFrFKHCydp",
        "colab_type": "text"
      },
      "cell_type": "markdown",
      "source": [
        "# Now What"
      ]
    },
    {
      "metadata": {
        "id": "DxgffJf5C7GH",
        "colab_type": "text"
      },
      "cell_type": "markdown",
      "source": [
        "You guys must be thinking all seem to be perfectly working . Let's train the model for the complete data.\n",
        "\n",
        "Here the problem came  ,"
      ]
    },
    {
      "metadata": {
        "id": "X0YVD5-eDeNt",
        "colab_type": "text"
      },
      "cell_type": "markdown",
      "source": [
        "Google colab can handle that huge amoung of data for training. Because of tons of calculation is happeining in the backend. Due to which it ran out of memory."
      ]
    },
    {
      "metadata": {
        "id": "8PZLctzVEPqH",
        "colab_type": "text"
      },
      "cell_type": "markdown",
      "source": [
        "We gonna use cloud services . I prefer AWS(amazon web services ) you can choose of your choice.\n"
      ]
    },
    {
      "metadata": {
        "id": "lhhc2pXJTU-R",
        "colab_type": "text"
      },
      "cell_type": "markdown",
      "source": [
        "To learn more about how do we train model in cloud. Checkout the aws model for further training."
      ]
    },
    {
      "metadata": {
        "id": "ah4BJUmLbB6p",
        "colab_type": "code",
        "colab": {}
      },
      "cell_type": "code",
      "source": [
        ""
      ],
      "execution_count": 0,
      "outputs": []
    }
  ]
}